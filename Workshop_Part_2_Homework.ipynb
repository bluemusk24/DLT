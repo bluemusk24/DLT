{
  "nbformat": 4,
  "nbformat_minor": 0,
  "metadata": {
    "colab": {
      "provenance": []
    },
    "kernelspec": {
      "name": "python3",
      "display_name": "Python 3"
    },
    "language_info": {
      "name": "python"
    }
  },
  "cells": [
    {
      "cell_type": "code",
      "source": [
        "%%capture\n",
        "!pip install dlt\n",
        "!pip install sqlalchemy pymysql"
      ],
      "metadata": {
        "id": "r6sWDpJBbCOA"
      },
      "execution_count": 1,
      "outputs": []
    },
    {
      "cell_type": "markdown",
      "source": [
        "# Task 1:\n",
        "Rewrite your SpaceX pipeline from Part 1 using [RestAPI Client](https://dlthub.com/docs/general-usage/http/rest-client) or [rest_api_source](https://dlthub.com/docs/dlt-ecosystem/verified-sources/rest_api).\n",
        "\n",
        "SpaceX API URL: https://api.spacexdata.com\n",
        "\n",
        "Docs: https://github.com/r-spacex/SpaceX-API/blob/master/docs/README.md\n",
        "\n",
        "Endpoints for loading:\n",
        "- launches\n",
        "- rockets\n",
        "- crew\n",
        "\n",
        "+ `@dlt.transformer` with **launches** payloads.\n",
        "\n",
        "**Note**: Incremental loading is not neccessary for this tasks, you can skip it."
      ],
      "metadata": {
        "id": "8Z7gLUDXPpCg"
      }
    },
    {
      "cell_type": "code",
      "source": [
        "import time\n",
        "import dlt\n",
        "from dlt.sources.helpers.rest_client import RESTClient\n",
        "\n",
        "# Initialize RESTClient\n",
        "api_client = RESTClient(base_url=\"https://api.spacexdata.com/v4/\")\n",
        "\n",
        "\n",
        "@dlt.resource(table_name=\"launches\")\n",
        "def get_launches():\n",
        "    response = api_client.get(\"launches\")\n",
        "    response.raise_for_status()\n",
        "    yield response.json()\n",
        "\n",
        "@dlt.resource(table_name=\"rockets\")\n",
        "def get_rockets():\n",
        "    response = api_client.get(\"rockets\")\n",
        "    response.raise_for_status()\n",
        "    yield response.json()\n",
        "\n",
        "@dlt.resource(table_name=\"crew\")\n",
        "def get_crew():\n",
        "    response = api_client.get(\"crew\")\n",
        "    response.raise_for_status()\n",
        "    yield response.json()\n",
        "\n",
        "# Transformer resource for additional processing of launches data\n",
        "@dlt.transformer(data_from=get_launches, table_name=\"launches_transformed\")\n",
        "def transform_launches(launches):\n",
        "    for launch in launches:\n",
        "        yield {\n",
        "            \"id\": launch[\"id\"],\n",
        "            \"name\": launch[\"name\"],\n",
        "            \"date_utc\": launch[\"date_utc\"],\n",
        "            \"rocket\": launch[\"rocket\"]\n",
        "        }\n",
        "\n",
        "pipeline = dlt.pipeline(\n",
        "    pipeline_name='spacex_pipeline',\n",
        "    destination='duckdb',\n",
        "    dataset_name='spacex_data',\n",
        "    dev_mode=True,\n",
        ")\n",
        "\n",
        "start_time = time.time()\n",
        "\n",
        "# Run the pipeline with the defined resources and transformer\n",
        "load_info = pipeline.run([get_launches(), get_rockets(), get_crew(), transform_launches()])\n",
        "\n",
        "end_time = time.time()\n",
        "elapsed_time = end_time - start_time\n",
        "\n",
        "print(f\"Time taken to execute pipeline: {elapsed_time} seconds\")\n",
        "print(load_info)\n",
        "print(pipeline.last_trace.last_normalize_info)\n"
      ],
      "metadata": {
        "id": "OZHedVqCuhOE",
        "outputId": "99a9c785-aed4-4217-89d6-35f95a8ad8c0",
        "colab": {
          "base_uri": "https://localhost:8080/"
        }
      },
      "execution_count": 6,
      "outputs": [
        {
          "output_type": "stream",
          "name": "stdout",
          "text": [
            "Time taken to execute pipeline: 4.9955127239227295 seconds\n",
            "Pipeline spacex_pipeline load step completed in 1.53 seconds\n",
            "1 load package(s) were loaded to destination duckdb and into dataset spacex_data_20240909030347\n",
            "The duckdb destination used duckdb:////content/spacex_pipeline.duckdb location to store data\n",
            "Load package 1725851027.1549544 is LOADED and contains no failed jobs\n",
            "Normalized data for the following tables:\n",
            "- _dlt_pipeline_state: 1 row(s)\n",
            "- crew: 30 row(s)\n",
            "- crew__launches: 30 row(s)\n",
            "- launches: 205 row(s)\n",
            "- launches__failures: 5 row(s)\n",
            "- launches__payloads: 222 row(s)\n",
            "- launches__cores: 215 row(s)\n",
            "- launches__ships: 342 row(s)\n",
            "- launches__capsules: 35 row(s)\n",
            "- launches__links__flickr__original: 848 row(s)\n",
            "- launches__fairings__ships: 75 row(s)\n",
            "- launches__crew: 30 row(s)\n",
            "- launches_transformed: 205 row(s)\n",
            "- rockets: 4 row(s)\n",
            "- rockets__payload_weights: 11 row(s)\n",
            "- rockets__flickr_images: 16 row(s)\n",
            "\n",
            "Load package 1725851027.1549544 is NORMALIZED and NOT YET LOADED to the destination and contains no failed jobs\n"
          ]
        }
      ]
    },
    {
      "cell_type": "markdown",
      "source": [
        "# Task 2:\n",
        "\n",
        "1. Run the pipeline with the next configuration:\n",
        "     ```\n",
        "     os.environ['DATA_WRITER__BUFFER_MAX_ITEMS'] = '1'\n",
        "     os.environ['EXTRACT__WORKERS'] = '1'\n",
        "     os.environ['NORMALIZE__WORKERS'] = '1'\n",
        "     os.environ['LOAD__WORKERS'] = '1'\n",
        "     ```\n",
        "2. Speed up the pipeline.\n",
        "3. Create a chart that illustrates the dynamics of performance from configurations.\n",
        "4. Figure out the optimal characteristics for the best performance."
      ],
      "metadata": {
        "id": "ALhBI4aaSHEm"
      }
    },
    {
      "cell_type": "markdown",
      "source": [
        "## Run this cell before start the task\n",
        "With this configuration we simulate the worst case scenario."
      ],
      "metadata": {
        "id": "cOYNfthuM19M"
      }
    },
    {
      "cell_type": "code",
      "source": [
        "import os\n",
        "\n",
        "# Set the buffer size to 1\n",
        "os.environ['DATA_WRITER__BUFFER_MAX_ITEMS'] = '1'\n",
        "os.environ['EXTRACT__WORKERS'] = '1'\n",
        "os.environ['NORMALIZE__WORKERS'] = '1'\n",
        "os.environ['LOAD__WORKERS'] = '1'"
      ],
      "metadata": {
        "id": "6Je4aTp4JSm9"
      },
      "execution_count": 7,
      "outputs": []
    },
    {
      "cell_type": "markdown",
      "source": [
        "## Run the pipeline"
      ],
      "metadata": {
        "id": "LS6WjJrQSjIB"
      }
    },
    {
      "cell_type": "code",
      "source": [
        "import time\n",
        "import dlt\n",
        "from dlt.sources.helpers.rest_client import RESTClient\n",
        "\n",
        "# Initialize RESTClient\n",
        "api_client = RESTClient(base_url=\"https://api.spacexdata.com/v4/\")\n",
        "\n",
        "# Define API sources using RESTClient\n",
        "@dlt.resource(table_name=\"launches\")\n",
        "def get_launches():\n",
        "    response = api_client.get(\"launches\")\n",
        "    response.raise_for_status()\n",
        "    yield response.json()\n",
        "\n",
        "@dlt.resource(table_name=\"rockets\")\n",
        "def get_rockets():\n",
        "    response = api_client.get(\"rockets\")\n",
        "    response.raise_for_status()\n",
        "    yield response.json()\n",
        "\n",
        "@dlt.resource(table_name=\"crew\")\n",
        "def get_crew():\n",
        "    response = api_client.get(\"crew\")\n",
        "    response.raise_for_status()\n",
        "    yield response.json()\n",
        "\n",
        "# Transformer resource for additional processing of launches data\n",
        "@dlt.transformer(data_from=get_launches, table_name=\"launches_transformed\")\n",
        "def transform_launches(launches):\n",
        "    for launch in launches:\n",
        "        yield {\n",
        "            \"id\": launch[\"id\"],\n",
        "            \"name\": launch[\"name\"],\n",
        "            \"date_utc\": launch[\"date_utc\"],\n",
        "            \"rocket\": launch[\"rocket\"]\n",
        "        }\n",
        "\n",
        "pipeline = dlt.pipeline(\n",
        "    pipeline_name='spacex_pipeline',\n",
        "    destination='duckdb',\n",
        "    dataset_name='spacex_data',\n",
        "    dev_mode=True,\n",
        ")\n",
        "\n",
        "# Set the environment variables to simulate the worst-case scenario\n",
        "import os\n",
        "\n",
        "os.environ['DATA_WRITER__BUFFER_MAX_ITEMS'] = '1'\n",
        "os.environ['EXTRACT__WORKERS'] = '1'\n",
        "os.environ['NORMALIZE__WORKERS'] = '1'\n",
        "os.environ['LOAD__WORKERS'] = '1'\n",
        "\n",
        "start_time = time.time()\n",
        "\n",
        "# Run the pipeline with the defined sources and transformer\n",
        "load_info = pipeline.run([get_launches(), get_rockets(), get_crew(), transform_launches()])\n",
        "\n",
        "end_time = time.time()\n",
        "elapsed_time = end_time - start_time\n",
        "\n",
        "print(f\"Time taken to execute pipeline: {elapsed_time} seconds\")\n",
        "print(load_info)\n",
        "print(pipeline.last_trace.last_normalize_info)\n"
      ],
      "metadata": {
        "id": "JEyuSmI48KF3",
        "outputId": "1f9cb629-c926-410d-b196-474bda4a707c",
        "colab": {
          "base_uri": "https://localhost:8080/"
        }
      },
      "execution_count": 14,
      "outputs": [
        {
          "output_type": "stream",
          "name": "stdout",
          "text": [
            "Time taken to execute pipeline: 29.91794180870056 seconds\n",
            "Pipeline spacex_pipeline load step completed in 28.24 seconds\n",
            "1 load package(s) were loaded to destination duckdb and into dataset spacex_data_20240909040219\n",
            "The duckdb destination used duckdb:////content/spacex_pipeline.duckdb location to store data\n",
            "Load package 1725854539.441184 is LOADED and contains no failed jobs\n",
            "Normalized data for the following tables:\n",
            "- _dlt_pipeline_state: 1 row(s)\n",
            "- crew: 30 row(s)\n",
            "- crew__launches: 30 row(s)\n",
            "- launches: 205 row(s)\n",
            "- launches__failures: 5 row(s)\n",
            "- launches__payloads: 222 row(s)\n",
            "- launches__cores: 215 row(s)\n",
            "- launches__ships: 342 row(s)\n",
            "- launches__capsules: 35 row(s)\n",
            "- launches__links__flickr__original: 848 row(s)\n",
            "- launches__fairings__ships: 75 row(s)\n",
            "- launches__crew: 30 row(s)\n",
            "- launches_transformed: 205 row(s)\n",
            "- rockets: 4 row(s)\n",
            "- rockets__payload_weights: 11 row(s)\n",
            "- rockets__flickr_images: 16 row(s)\n",
            "\n",
            "Load package 1725854539.441184 is NORMALIZED and NOT YET LOADED to the destination and contains no failed jobs\n"
          ]
        }
      ]
    },
    {
      "cell_type": "markdown",
      "source": [
        "Running with buffer basic configuration"
      ],
      "metadata": {
        "id": "B48dus04MuWE"
      }
    },
    {
      "cell_type": "code",
      "source": [
        "import time\n",
        "import dlt\n",
        "from dlt.sources.helpers.rest_client import RESTClient\n",
        "import os\n",
        "\n",
        "os.environ['DATA_WRITER__BUFFER_MAX_ITEMS'] = '1'\n",
        "\n",
        "# Initialize RESTClient\n",
        "api_client = RESTClient(base_url=\"https://api.spacexdata.com/v4/\")\n",
        "\n",
        "# Define API sources using RESTClient\n",
        "@dlt.resource(table_name=\"launches\")\n",
        "def get_launches():\n",
        "    response = api_client.get(\"launches\")\n",
        "    response.raise_for_status()\n",
        "    yield response.json()\n",
        "\n",
        "@dlt.resource(table_name=\"rockets\")\n",
        "def get_rockets():\n",
        "    response = api_client.get(\"rockets\")\n",
        "    response.raise_for_status()\n",
        "    yield response.json()\n",
        "\n",
        "@dlt.resource(table_name=\"crew\")\n",
        "def get_crew():\n",
        "    response = api_client.get(\"crew\")\n",
        "    response.raise_for_status()\n",
        "    yield response.json()\n",
        "\n",
        "# Transformer resource for additional processing of launches data\n",
        "@dlt.transformer(data_from=get_launches, table_name=\"launches_transformed\")\n",
        "def transform_launches(launches):\n",
        "    for launch in launches:\n",
        "        yield {\n",
        "            \"id\": launch[\"id\"],\n",
        "            \"name\": launch[\"name\"],\n",
        "            \"date_utc\": launch[\"date_utc\"],\n",
        "            \"rocket\": launch[\"rocket\"]\n",
        "        }\n",
        "\n",
        "pipeline = dlt.pipeline(\n",
        "    pipeline_name='spacex_pipeline',\n",
        "    destination='duckdb',\n",
        "    dataset_name='spacex_data',\n",
        "    dev_mode=True,\n",
        ")\n",
        "\n",
        "\n",
        "start_time = time.time()\n",
        "\n",
        "# Run the pipeline with the defined sources and transformer\n",
        "load_info = pipeline.extract([get_launches(), get_rockets(), get_crew(), transform_launches()])\n",
        "\n",
        "end_time = time.time()\n",
        "elapsed_time = end_time - start_time\n",
        "\n",
        "print(f\"Time taken to execute pipeline: {elapsed_time} seconds\")\n",
        "print(load_info)\n",
        "print(pipeline.last_trace.last_normalize_info)\n"
      ],
      "metadata": {
        "id": "1PqfUoppBmDF",
        "outputId": "f835ab38-1b90-4b57-c1fa-22d851b5d5f3",
        "colab": {
          "base_uri": "https://localhost:8080/"
        }
      },
      "execution_count": 19,
      "outputs": [
        {
          "output_type": "stream",
          "name": "stdout",
          "text": [
            "Time taken to execute pipeline: 0.9548952579498291 seconds\n",
            "\n",
            "Load package 1725855956.49202 is EXTRACTED and NOT YET LOADED to the destination and contains no failed jobs\n",
            "None\n"
          ]
        }
      ]
    },
    {
      "cell_type": "markdown",
      "source": [
        "Running extract workers basic configuration"
      ],
      "metadata": {
        "id": "kadM0n0xM9wb"
      }
    },
    {
      "cell_type": "code",
      "source": [
        "import time\n",
        "import dlt\n",
        "from dlt.sources.helpers.rest_client import RESTClient\n",
        "import os\n",
        "\n",
        "os.environ['EXTRACT__WORKERS'] = '1'\n",
        "\n",
        "# Initialize RESTClient\n",
        "api_client = RESTClient(base_url=\"https://api.spacexdata.com/v4/\")\n",
        "\n",
        "# Define API sources using RESTClient\n",
        "@dlt.resource(table_name=\"launches\")\n",
        "def get_launches():\n",
        "    response = api_client.get(\"launches\")\n",
        "    response.raise_for_status()\n",
        "    yield response.json()\n",
        "\n",
        "@dlt.resource(table_name=\"rockets\")\n",
        "def get_rockets():\n",
        "    response = api_client.get(\"rockets\")\n",
        "    response.raise_for_status()\n",
        "    yield response.json()\n",
        "\n",
        "@dlt.resource(table_name=\"crew\")\n",
        "def get_crew():\n",
        "    response = api_client.get(\"crew\")\n",
        "    response.raise_for_status()\n",
        "    yield response.json()\n",
        "\n",
        "# Transformer resource for additional processing of launches data\n",
        "@dlt.transformer(data_from=get_launches, table_name=\"launches_transformed\")\n",
        "def transform_launches(launches):\n",
        "    for launch in launches:\n",
        "        yield {\n",
        "            \"id\": launch[\"id\"],\n",
        "            \"name\": launch[\"name\"],\n",
        "            \"date_utc\": launch[\"date_utc\"],\n",
        "            \"rocket\": launch[\"rocket\"]\n",
        "        }\n",
        "\n",
        "pipeline = dlt.pipeline(\n",
        "    pipeline_name='spacex_pipeline',\n",
        "    destination='duckdb',\n",
        "    dataset_name='spacex_data',\n",
        "    dev_mode=True,\n",
        ")\n",
        "\n",
        "\n",
        "start_time = time.time()\n",
        "\n",
        "# Run the pipeline with the defined sources and transformer\n",
        "load_info = pipeline.extract([get_launches(), get_rockets(), get_crew(), transform_launches()])\n",
        "\n",
        "end_time = time.time()\n",
        "elapsed_time = end_time - start_time\n",
        "\n",
        "print(f\"Time taken to execute pipeline: {elapsed_time} seconds\")\n",
        "print(load_info)\n",
        "print(pipeline.last_trace.last_normalize_info)\n"
      ],
      "metadata": {
        "id": "KBDGQzKmCDgy",
        "outputId": "aee8b48a-5697-4060-d278-360910c4b1fe",
        "colab": {
          "base_uri": "https://localhost:8080/"
        }
      },
      "execution_count": 20,
      "outputs": [
        {
          "output_type": "stream",
          "name": "stdout",
          "text": [
            "Time taken to execute pipeline: 1.2393274307250977 seconds\n",
            "\n",
            "Load package 1725856017.2490547 is EXTRACTED and NOT YET LOADED to the destination and contains no failed jobs\n",
            "None\n"
          ]
        }
      ]
    },
    {
      "cell_type": "markdown",
      "source": [
        "Running normalize worker basic configuration"
      ],
      "metadata": {
        "id": "j1B3dh3QNM5V"
      }
    },
    {
      "cell_type": "code",
      "source": [
        "import time\n",
        "import dlt\n",
        "from dlt.sources.helpers.rest_client import RESTClient\n",
        "import os\n",
        "\n",
        "os.environ['NORMALIZE__WORKERS'] = '1'\n",
        "\n",
        "# Initialize RESTClient\n",
        "api_client = RESTClient(base_url=\"https://api.spacexdata.com/v4/\")\n",
        "\n",
        "# Define API sources using RESTClient\n",
        "@dlt.resource(table_name=\"launches\")\n",
        "def get_launches():\n",
        "    response = api_client.get(\"launches\")\n",
        "    response.raise_for_status()\n",
        "    yield response.json()\n",
        "\n",
        "@dlt.resource(table_name=\"rockets\")\n",
        "def get_rockets():\n",
        "    response = api_client.get(\"rockets\")\n",
        "    response.raise_for_status()\n",
        "    yield response.json()\n",
        "\n",
        "@dlt.resource(table_name=\"crew\")\n",
        "def get_crew():\n",
        "    response = api_client.get(\"crew\")\n",
        "    response.raise_for_status()\n",
        "    yield response.json()\n",
        "\n",
        "# Transformer resource for additional processing of launches data\n",
        "@dlt.transformer(data_from=get_launches, table_name=\"launches_transformed\")\n",
        "def transform_launches(launches):\n",
        "    for launch in launches:\n",
        "        yield {\n",
        "            \"id\": launch[\"id\"],\n",
        "            \"name\": launch[\"name\"],\n",
        "            \"date_utc\": launch[\"date_utc\"],\n",
        "            \"rocket\": launch[\"rocket\"]\n",
        "        }\n",
        "\n",
        "pipeline = dlt.pipeline(\n",
        "    pipeline_name='spacex_pipeline',\n",
        "    destination='duckdb',\n",
        "    dataset_name='spacex_data',\n",
        "    dev_mode=True,\n",
        ")\n",
        "\n",
        "\n",
        "start_time = time.time()\n",
        "\n",
        "# Run the pipeline with the defined sources and transformer\n",
        "load_info = pipeline.normalize([get_launches(), get_rockets(), get_crew(), transform_launches()])\n",
        "\n",
        "end_time = time.time()\n",
        "elapsed_time = end_time - start_time\n",
        "\n",
        "print(f\"Time taken to execute pipeline: {elapsed_time} seconds\")\n",
        "print(load_info)\n",
        "print(pipeline.last_trace.last_normalize_info)\n"
      ],
      "metadata": {
        "id": "WE3k-XsBCR3q",
        "outputId": "ae1c1948-ab02-4000-aba1-8e24cb8cf3e9",
        "colab": {
          "base_uri": "https://localhost:8080/"
        }
      },
      "execution_count": 21,
      "outputs": [
        {
          "output_type": "stream",
          "name": "stdout",
          "text": [
            "Time taken to execute pipeline: 0.005879878997802734 seconds\n",
            "None\n",
            "None\n"
          ]
        }
      ]
    },
    {
      "cell_type": "markdown",
      "source": [
        "Running load worker basic configuration"
      ],
      "metadata": {
        "id": "5Y1AkrLWNTdH"
      }
    },
    {
      "cell_type": "code",
      "source": [
        "import time\n",
        "import dlt\n",
        "from dlt.sources.helpers.rest_client import RESTClient\n",
        "import os\n",
        "\n",
        "os.environ['LOAD__WORKERS'] = '1'\n",
        "\n",
        "# Initialize RESTClient\n",
        "api_client = RESTClient(base_url=\"https://api.spacexdata.com/v4/\")\n",
        "\n",
        "# Define API sources using RESTClient\n",
        "@dlt.resource(table_name=\"launches\")\n",
        "def get_launches():\n",
        "    response = api_client.get(\"launches\")\n",
        "    response.raise_for_status()\n",
        "    yield response.json()\n",
        "\n",
        "@dlt.resource(table_name=\"rockets\")\n",
        "def get_rockets():\n",
        "    response = api_client.get(\"rockets\")\n",
        "    response.raise_for_status()\n",
        "    yield response.json()\n",
        "\n",
        "@dlt.resource(table_name=\"crew\")\n",
        "def get_crew():\n",
        "    response = api_client.get(\"crew\")\n",
        "    response.raise_for_status()\n",
        "    yield response.json()\n",
        "\n",
        "# Transformer resource for additional processing of launches data\n",
        "@dlt.transformer(data_from=get_launches, table_name=\"launches_transformed\")\n",
        "def transform_launches(launches):\n",
        "    for launch in launches:\n",
        "        yield {\n",
        "            \"id\": launch[\"id\"],\n",
        "            \"name\": launch[\"name\"],\n",
        "            \"date_utc\": launch[\"date_utc\"],\n",
        "            \"rocket\": launch[\"rocket\"]\n",
        "        }\n",
        "\n",
        "pipeline = dlt.pipeline(\n",
        "    pipeline_name='spacex_pipeline',\n",
        "    destination='duckdb',\n",
        "    dataset_name='spacex_data',\n",
        "    dev_mode=True,\n",
        ")\n",
        "\n",
        "\n",
        "start_time = time.time()\n",
        "\n",
        "# Run the pipeline with the defined sources and transformer\n",
        "load_info = pipeline.run([get_launches(), get_rockets(), get_crew(), transform_launches()])\n",
        "\n",
        "end_time = time.time()\n",
        "elapsed_time = end_time - start_time\n",
        "\n",
        "print(f\"Time taken to execute pipeline: {elapsed_time} seconds\")\n",
        "print(load_info)\n",
        "print(pipeline.last_trace.last_normalize_info)\n"
      ],
      "metadata": {
        "id": "24gKGATUCjOv",
        "outputId": "35a25df9-c4dd-4acf-fbb9-3f14401b12cc",
        "colab": {
          "base_uri": "https://localhost:8080/"
        }
      },
      "execution_count": 23,
      "outputs": [
        {
          "output_type": "stream",
          "name": "stdout",
          "text": [
            "Time taken to execute pipeline: 9.315120220184326 seconds\n",
            "Pipeline spacex_pipeline load step completed in 7.56 seconds\n",
            "1 load package(s) were loaded to destination duckdb and into dataset spacex_data_20240909043611\n",
            "The duckdb destination used duckdb:////content/spacex_pipeline.duckdb location to store data\n",
            "Load package 1725856571.2241468 is LOADED and contains no failed jobs\n",
            "Normalized data for the following tables:\n",
            "- _dlt_pipeline_state: 1 row(s)\n",
            "- crew: 30 row(s)\n",
            "- crew__launches: 30 row(s)\n",
            "- launches: 205 row(s)\n",
            "- launches__failures: 5 row(s)\n",
            "- launches__payloads: 222 row(s)\n",
            "- launches__cores: 215 row(s)\n",
            "- launches__ships: 342 row(s)\n",
            "- launches__capsules: 35 row(s)\n",
            "- launches__links__flickr__original: 848 row(s)\n",
            "- launches__fairings__ships: 75 row(s)\n",
            "- launches__crew: 30 row(s)\n",
            "- launches_transformed: 205 row(s)\n",
            "- rockets: 4 row(s)\n",
            "- rockets__payload_weights: 11 row(s)\n",
            "- rockets__flickr_images: 16 row(s)\n",
            "\n",
            "Load package 1725856571.2241468 is NORMALIZED and NOT YET LOADED to the destination and contains no failed jobs\n"
          ]
        }
      ]
    },
    {
      "cell_type": "markdown",
      "source": [
        "See the difference in performance?\n",
        "Try to find the best configuration for this pipeline. Use the graphs, they will help you."
      ],
      "metadata": {
        "id": "1WeydZ3lSo29"
      }
    },
    {
      "cell_type": "code",
      "source": [
        "%%capture\n",
        "!pip install matplotlib"
      ],
      "metadata": {
        "id": "H6jMXXXMTcLp"
      },
      "execution_count": 15,
      "outputs": []
    },
    {
      "cell_type": "code",
      "source": [
        "import matplotlib.pyplot as plt\n",
        "\n",
        "worker_numbers = [1, 2, 3, 4]\n",
        "\n",
        "seconds = [1, 2, 3, 4]\n",
        "\n",
        "plt.plot(worker_numbers, seconds)\n",
        "plt.show()"
      ],
      "metadata": {
        "id": "2YomC7oyTxHt",
        "outputId": "393a77a1-d1d0-400b-913e-fe465829e001",
        "colab": {
          "base_uri": "https://localhost:8080/",
          "height": 430
        }
      },
      "execution_count": 16,
      "outputs": [
        {
          "output_type": "display_data",
          "data": {
            "text/plain": [
              "<Figure size 640x480 with 1 Axes>"
            ],
            "image/png": "[encoded data removed]"
          },
          "metadata": {}
        }
      ]
    },
    {
      "cell_type": "markdown",
      "source": [],
      "metadata": {
        "id": "L32D1uATTHsM"
      }
    },
    {
      "cell_type": "markdown",
      "source": [
        "1. What was the optimal number of extract workers?"
      ],
      "metadata": {
        "id": "DudN_YSTLBf9"
      }
    },
    {
      "cell_type": "code",
      "source": [
        "import time\n",
        "import dlt\n",
        "from dlt.sources.helpers.rest_client import RESTClient\n",
        "import os\n",
        "import matplotlib.pyplot as plt\n",
        "\n",
        "# Initialize RESTClient\n",
        "api_client = RESTClient(base_url=\"https://api.spacexdata.com/v4/\")\n",
        "\n",
        "# Define API sources using RESTClient\n",
        "@dlt.resource(table_name=\"launches\")\n",
        "def get_launches():\n",
        "    response = api_client.get(\"launches\")\n",
        "    response.raise_for_status()\n",
        "    yield response.json()\n",
        "\n",
        "@dlt.resource(table_name=\"rockets\")\n",
        "def get_rockets():\n",
        "    response = api_client.get(\"rockets\")\n",
        "    response.raise_for_status()\n",
        "    yield response.json()\n",
        "\n",
        "@dlt.resource(table_name=\"crew\")\n",
        "def get_crew():\n",
        "    response = api_client.get(\"crew\")\n",
        "    response.raise_for_status()\n",
        "    yield response.json()\n",
        "\n",
        "# Transformer resource for additional processing of launches data\n",
        "@dlt.transformer(data_from=get_launches, table_name=\"launches_transformed\")\n",
        "def transform_launches(launches):\n",
        "    for launch in launches:\n",
        "        yield {\n",
        "            \"id\": launch[\"id\"],\n",
        "            \"name\": launch[\"name\"],\n",
        "            \"date_utc\": launch[\"date_utc\"],\n",
        "            \"rocket\": launch[\"rocket\"]\n",
        "        }\n",
        "\n",
        "def run_pipeline_with_workers(extract_workers):\n",
        "    # Set environment variables\n",
        "    os.environ['EXTRACT__WORKERS'] = str(extract_workers)\n",
        "\n",
        "    pipeline = dlt.pipeline(\n",
        "        pipeline_name='spacex_pipeline',\n",
        "        destination='duckdb',\n",
        "        dataset_name='spacex_data',\n",
        "        dev_mode=True,\n",
        "    )\n",
        "\n",
        "    start_time = time.time()\n",
        "\n",
        "\n",
        "    load_info = pipeline.extract([get_launches(), get_rockets(), get_crew(), transform_launches()])\n",
        "\n",
        "    end_time = time.time()\n",
        "    elapsed_time = end_time - start_time\n",
        "\n",
        "    return elapsed_time\n",
        "\n",
        "# Test different numbers of extract workers\n",
        "worker_numbers = [1, 2, 3, 4]\n",
        "elapsed_times = []\n",
        "\n",
        "for num_workers in worker_numbers:\n",
        "    elapsed_time = run_pipeline_with_workers(num_workers)\n",
        "    elapsed_times.append(elapsed_time)\n",
        "    print(f\"Extract Workers: {num_workers}, Time taken: {elapsed_time} seconds\")\n",
        "\n",
        "# Plot the results\n",
        "plt.plot(worker_numbers, elapsed_times, marker='o')\n",
        "plt.xlabel('Number of Extract Workers')\n",
        "plt.ylabel('Time (seconds)')\n",
        "plt.title('Performance vs. Number of Extract Workers')\n",
        "plt.grid(True)\n",
        "plt.show()\n"
      ],
      "metadata": {
        "id": "4tQvtLLXJQWw",
        "outputId": "7d894089-db94-4a49-a962-ef642f3f8f39",
        "colab": {
          "base_uri": "https://localhost:8080/",
          "height": 545
        }
      },
      "execution_count": 25,
      "outputs": [
        {
          "output_type": "stream",
          "name": "stdout",
          "text": [
            "Extract Workers: 1, Time taken: 1.2070069313049316 seconds\n",
            "Extract Workers: 2, Time taken: 0.6987593173980713 seconds\n",
            "Extract Workers: 3, Time taken: 0.688901424407959 seconds\n",
            "Extract Workers: 4, Time taken: 0.7347636222839355 seconds\n"
          ]
        },
        {
          "output_type": "display_data",
          "data": {
            "text/plain": [
              "<Figure size 640x480 with 1 Axes>"
            ],
            "image/png": "[encoded data removed]"
          },
          "metadata": {}
        }
      ]
    },
    {
      "cell_type": "markdown",
      "source": [
        "2. What was the optimal number of normalize workers?"
      ],
      "metadata": {
        "id": "9F7NhFd8NfAh"
      }
    },
    {
      "cell_type": "code",
      "source": [
        "import time\n",
        "import dlt\n",
        "from dlt.sources.helpers.rest_client import RESTClient\n",
        "import os\n",
        "import matplotlib.pyplot as plt\n",
        "\n",
        "# Initialize RESTClient\n",
        "api_client = RESTClient(base_url=\"https://api.spacexdata.com/v4/\")\n",
        "\n",
        "# Define API resources using RESTClient\n",
        "@dlt.resource(table_name=\"launches\")\n",
        "def get_launches():\n",
        "    response = api_client.get(\"launches\")\n",
        "    response.raise_for_status()\n",
        "    yield response.json()\n",
        "\n",
        "@dlt.resource(table_name=\"rockets\")\n",
        "def get_rockets():\n",
        "    response = api_client.get(\"rockets\")\n",
        "    response.raise_for_status()\n",
        "    yield response.json()\n",
        "\n",
        "@dlt.resource(table_name=\"crew\")\n",
        "def get_crew():\n",
        "    response = api_client.get(\"crew\")\n",
        "    response.raise_for_status()\n",
        "    yield response.json()\n",
        "\n",
        "\n",
        "# Transformer resource for additional processing of launches data\n",
        "@dlt.transformer(data_from=get_launches, table_name=\"launches_transformed\")\n",
        "def transform_launches(launches):\n",
        "    for launch in launches:\n",
        "        yield {\n",
        "            \"id\": launch[\"id\"],\n",
        "            \"name\": launch[\"name\"],\n",
        "            \"date_utc\": launch[\"date_utc\"],\n",
        "            \"rocket\": launch[\"rocket\"]\n",
        "        }\n",
        "\n",
        "def run_pipeline_with_normalize_workers(normalize_workers):\n",
        "    # Set environment variables\n",
        "    os.environ['NORMALIZE__WORKERS'] = str(normalize_workers)\n",
        "\n",
        "    pipeline = dlt.pipeline(\n",
        "        pipeline_name='spacex_pipeline',\n",
        "        destination='duckdb',\n",
        "        dataset_name='spacex_data',\n",
        "        dev_mode=True,\n",
        "    )\n",
        "\n",
        "    start_time = time.time()\n",
        "\n",
        "    # Run the pipeline with the defined resources\n",
        "    load_info = pipeline.normalize([get_launches(), get_rockets(), get_crew(), transform_launches()])\n",
        "\n",
        "    end_time = time.time()\n",
        "    elapsed_time = end_time - start_time\n",
        "\n",
        "    return elapsed_time\n",
        "\n",
        "# Test different numbers of normalize workers\n",
        "normalize_worker_numbers = [1, 2, 3, 4]\n",
        "elapsed_times = []\n",
        "\n",
        "for num_workers in normalize_worker_numbers:\n",
        "    elapsed_time = run_pipeline_with_normalize_workers(num_workers)\n",
        "    elapsed_times.append(elapsed_time)\n",
        "    print(f\"Normalize Workers: {num_workers}, Time taken: {elapsed_time} seconds\")\n",
        "\n",
        "# Plot the results\n",
        "plt.plot(normalize_worker_numbers, elapsed_times, marker='o')\n",
        "plt.xlabel('Number of Normalize Workers')\n",
        "plt.ylabel('Time (seconds)')\n",
        "plt.title('Performance vs. Number of Normalize Workers')\n",
        "plt.grid(True)\n",
        "plt.show()\n"
      ],
      "metadata": {
        "id": "vGYEFFyKNkhF",
        "outputId": "0bda724d-0d85-46f2-994e-3068fad32944",
        "colab": {
          "base_uri": "https://localhost:8080/",
          "height": 545
        }
      },
      "execution_count": 26,
      "outputs": [
        {
          "output_type": "stream",
          "name": "stdout",
          "text": [
            "Normalize Workers: 1, Time taken: 0.007106304168701172 seconds\n",
            "Normalize Workers: 2, Time taken: 0.003591299057006836 seconds\n",
            "Normalize Workers: 3, Time taken: 0.003515958786010742 seconds\n",
            "Normalize Workers: 4, Time taken: 0.004561901092529297 seconds\n"
          ]
        },
        {
          "output_type": "display_data",
          "data": {
            "text/plain": [
              "<Figure size 640x480 with 1 Axes>"
            ],
            "image/png": "[encoded data removed]"
          },
          "metadata": {}
        }
      ]
    },
    {
      "cell_type": "markdown",
      "source": [
        "3. What was the optimal number of load workers?"
      ],
      "metadata": {
        "id": "R8qWhxuHPtHj"
      }
    },
    {
      "cell_type": "code",
      "source": [
        "import time\n",
        "import dlt\n",
        "from dlt.sources.helpers.rest_client import RESTClient\n",
        "import os\n",
        "import matplotlib.pyplot as plt\n",
        "\n",
        "# Initialize RESTClient\n",
        "api_client = RESTClient(base_url=\"https://api.spacexdata.com/v4/\")\n",
        "\n",
        "# Define API resources using RESTClient\n",
        "@dlt.resource(table_name=\"launches\")\n",
        "def get_launches():\n",
        "    response = api_client.get(\"launches\")\n",
        "    response.raise_for_status()\n",
        "    yield response.json()\n",
        "\n",
        "@dlt.resource(table_name=\"rockets\")\n",
        "def get_rockets():\n",
        "    response = api_client.get(\"rockets\")\n",
        "    response.raise_for_status()\n",
        "    yield response.json()\n",
        "\n",
        "@dlt.resource(table_name=\"crew\")\n",
        "def get_crew():\n",
        "    response = api_client.get(\"crew\")\n",
        "    response.raise_for_status()\n",
        "    yield response.json()\n",
        "\n",
        "# Transformer resource for additional processing of launches data\n",
        "@dlt.transformer(data_from=get_launches, table_name=\"launches_transformed\")\n",
        "def transform_launches(launches):\n",
        "    for launch in launches:\n",
        "        yield {\n",
        "            \"id\": launch[\"id\"],\n",
        "            \"name\": launch[\"name\"],\n",
        "            \"date_utc\": launch[\"date_utc\"],\n",
        "            \"rocket\": launch[\"rocket\"]\n",
        "        }\n",
        "\n",
        "def run_pipeline_with_load_workers(load_workers):\n",
        "    # Set environment variables\n",
        "    os.environ['LOAD__WORKERS'] = str(load_workers)\n",
        "\n",
        "    pipeline = dlt.pipeline(\n",
        "        pipeline_name='spacex_pipeline',\n",
        "        destination='duckdb',\n",
        "        dataset_name='spacex_data',\n",
        "        dev_mode=True,\n",
        "    )\n",
        "\n",
        "    start_time = time.time()\n",
        "\n",
        "    # Run the pipeline with the defined resources\n",
        "    load_info = pipeline.run([get_launches(), get_rockets(), get_crew(), transform_launches()])\n",
        "\n",
        "    end_time = time.time()\n",
        "    elapsed_time = end_time - start_time\n",
        "\n",
        "    return elapsed_time\n",
        "\n",
        "# Test different numbers of load workers\n",
        "load_worker_numbers = [1, 2, 3, 4]\n",
        "elapsed_times = []\n",
        "\n",
        "for num_workers in load_worker_numbers:\n",
        "    elapsed_time = run_pipeline_with_load_workers(num_workers)\n",
        "    elapsed_times.append(elapsed_time)\n",
        "    print(f\"Load Workers: {num_workers}, Time taken: {elapsed_time} seconds\")\n",
        "\n",
        "# Plot the results\n",
        "plt.plot(load_worker_numbers, elapsed_times, marker='o')\n",
        "plt.xlabel('Number of Load Workers')\n",
        "plt.ylabel('Time (seconds)')\n",
        "plt.title('Performance vs. Number of Load Workers')\n",
        "plt.grid(True)\n",
        "plt.show()\n"
      ],
      "metadata": {
        "id": "O5MGhk33Q4nQ",
        "outputId": "1401316d-095d-4b65-a406-9482d816151d",
        "colab": {
          "base_uri": "https://localhost:8080/",
          "height": 545
        }
      },
      "execution_count": 27,
      "outputs": [
        {
          "output_type": "stream",
          "name": "stdout",
          "text": [
            "Load Workers: 1, Time taken: 10.748462677001953 seconds\n",
            "Load Workers: 2, Time taken: 6.480939626693726 seconds\n",
            "Load Workers: 3, Time taken: 6.047376394271851 seconds\n",
            "Load Workers: 4, Time taken: 4.370703220367432 seconds\n"
          ]
        },
        {
          "output_type": "display_data",
          "data": {
            "text/plain": [
              "<Figure size 640x480 with 1 Axes>"
            ],
            "image/png": "[encoded data removed]"
          },
          "metadata": {}
        }
      ]
    }
  ]
}