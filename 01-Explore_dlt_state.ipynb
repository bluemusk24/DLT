{
  "nbformat": 4,
  "nbformat_minor": 0,
  "metadata": {
    "colab": {
      "provenance": []
    },
    "kernelspec": {
      "name": "python3",
      "display_name": "Python 3"
    },
    "language_info": {
      "name": "python"
    }
  },
  "cells": [
    {
      "cell_type": "code",
      "source": [
        "%%capture\n",
        "!pip install dlt[duckdb]"
      ],
      "metadata": {
        "id": "vB3XZhGtMvV7"
      },
      "execution_count": null,
      "outputs": []
    },
    {
      "cell_type": "markdown",
      "source": [
        "# Pipeline Metadata"
      ],
      "metadata": {
        "id": "eSyBZgOd5rMW"
      }
    },
    {
      "cell_type": "markdown",
      "source": [
        "Metadata is basically data about data.\n",
        "\n",
        "Pipeline Metadata is data about your data pipeline. This can be useful if you want to know things like:\n",
        "\n",
        "- When your pipeline first ran\n",
        "- When your pipeline last ran\n",
        "- Information about your source or destination\n",
        "- Processing time\n",
        "- Or information that you yourself may want to add to the metadata\n",
        "- And much more!\n",
        "\n"
      ],
      "metadata": {
        "id": "Uy11zvxy5vGg"
      }
    },
    {
      "cell_type": "markdown",
      "source": [
        "## `dlt` allows you to be able to view all this metadata through various options!\n",
        "\n",
        "This notebook will walk you through those options. Namely:\n",
        "\n",
        "- Load info\n",
        "- Trace\n",
        "- State"
      ],
      "metadata": {
        "id": "18uULYEZ7RT6"
      }
    },
    {
      "cell_type": "markdown",
      "source": [
        "# Crafting a pipeline to view its metadata"
      ],
      "metadata": {
        "id": "9pAZchBLLNku"
      }
    },
    {
      "cell_type": "code",
      "source": [
        "import dlt\n",
        "from dlt.sources.helpers import requests\n",
        "\n",
        "BASE_URL = \"https://api.github.com/repos/dlt-hub/dlt/issues\"\n",
        "\n",
        "def pagination(url):\n",
        "    while True:\n",
        "        response = requests.get(url)\n",
        "        response.raise_for_status()\n",
        "        yield response.json()\n",
        "\n",
        "        # Get next page\n",
        "        if \"next\" not in response.links:\n",
        "            break\n",
        "        url = response.links[\"next\"][\"url\"]\n",
        "\n",
        "\n",
        "@dlt.resource(\n",
        "    table_name=\"issues\",\n",
        "    write_disposition=\"merge\",\n",
        "    primary_key=\"id\",\n",
        ")\n",
        "def get_issues(\n",
        "    updated_at=dlt.sources.incremental(\"updated_at\", initial_value=\"1970-01-01T00:00:00Z\")\n",
        "):\n",
        "    url = (\n",
        "        f\"{BASE_URL}?since={updated_at.last_value}&per_page=100&sort=updated\"\n",
        "        \"&directions=desc&state=open\"\n",
        "    )\n",
        "    yield pagination(url)\n",
        "\n",
        "\n",
        "\n",
        "pipeline = dlt.pipeline(\n",
        "    pipeline_name=\"github_issues_merge\",\n",
        "    destination=\"duckdb\",\n",
        "    dataset_name=\"github_data_merge\",\n",
        ")\n",
        "load_info = pipeline.run(get_issues)\n",
        "print(load_info)"
      ],
      "metadata": {
        "colab": {
          "base_uri": "https://localhost:8080/"
        },
        "id": "PByGB7ZjMzP3",
        "outputId": "dfac13be-7c07-4148-cfb1-90f670023911"
      },
      "execution_count": null,
      "outputs": [
        {
          "output_type": "stream",
          "name": "stdout",
          "text": [
            "Pipeline github_issues_merge load step completed in 1.64 seconds\n",
            "1 load package(s) were loaded to destination duckdb and into dataset github_data_merge\n",
            "The duckdb destination used duckdb:////content/github_issues_merge.duckdb location to store data\n",
            "Load package 1723206930.5175498 is LOADED and contains no failed jobs\n"
          ]
        }
      ]
    },
    {
      "cell_type": "markdown",
      "source": [
        "## Look into the data"
      ],
      "metadata": {
        "id": "6RmlOQHJLS4n"
      }
    },
    {
      "cell_type": "code",
      "source": [
        "import duckdb\n",
        "from google.colab import data_table\n",
        "data_table.enable_dataframe_formatter()\n",
        "\n",
        "# a database 'chess_pipeline.duckdb' was created in working directory so just connect to it\n",
        "conn = duckdb.connect(f\"{pipeline.pipeline_name}.duckdb\")\n",
        "conn.sql(f\"SET search_path = '{pipeline.dataset_name}'\")\n",
        "stats_table = conn.sql(\"SELECT * FROM issues LIMIT 5\").df()\n",
        "display(stats_table)"
      ],
      "metadata": {
        "colab": {
          "base_uri": "https://localhost:8080/",
          "height": 654
        },
        "id": "UgBGrlyw7-8b",
        "outputId": "b0829c4a-e948-4584-e2ed-bb2c96b68b61"
      },
      "execution_count": null,
      "outputs": [
        {
          "output_type": "stream",
          "name": "stdout",
          "text": [
            "Warning: Total number of columns (140) exceeds max_columns (20). Falling back to pandas display.\n"
          ]
        },
        {
          "output_type": "display_data",
          "data": {
            "text/plain": [
              "                                                 url  \\\n",
              "0  https://api.github.com/repos/dlt-hub/dlt/issue...   \n",
              "1  https://api.github.com/repos/dlt-hub/dlt/issue...   \n",
              "2  https://api.github.com/repos/dlt-hub/dlt/issue...   \n",
              "3  https://api.github.com/repos/dlt-hub/dlt/issue...   \n",
              "4  https://api.github.com/repos/dlt-hub/dlt/issue...   \n",
              "\n",
              "                             repository_url  \\\n",
              "0  https://api.github.com/repos/dlt-hub/dlt   \n",
              "1  https://api.github.com/repos/dlt-hub/dlt   \n",
              "2  https://api.github.com/repos/dlt-hub/dlt   \n",
              "3  https://api.github.com/repos/dlt-hub/dlt   \n",
              "4  https://api.github.com/repos/dlt-hub/dlt   \n",
              "\n",
              "                                          labels_url  \\\n",
              "0  https://api.github.com/repos/dlt-hub/dlt/issue...   \n",
              "1  https://api.github.com/repos/dlt-hub/dlt/issue...   \n",
              "2  https://api.github.com/repos/dlt-hub/dlt/issue...   \n",
              "3  https://api.github.com/repos/dlt-hub/dlt/issue...   \n",
              "4  https://api.github.com/repos/dlt-hub/dlt/issue...   \n",
              "\n",
              "                                        comments_url  \\\n",
              "0  https://api.github.com/repos/dlt-hub/dlt/issue...   \n",
              "1  https://api.github.com/repos/dlt-hub/dlt/issue...   \n",
              "2  https://api.github.com/repos/dlt-hub/dlt/issue...   \n",
              "3  https://api.github.com/repos/dlt-hub/dlt/issue...   \n",
              "4  https://api.github.com/repos/dlt-hub/dlt/issue...   \n",
              "\n",
              "                                          events_url  \\\n",
              "0  https://api.github.com/repos/dlt-hub/dlt/issue...   \n",
              "1  https://api.github.com/repos/dlt-hub/dlt/issue...   \n",
              "2  https://api.github.com/repos/dlt-hub/dlt/issue...   \n",
              "3  https://api.github.com/repos/dlt-hub/dlt/issue...   \n",
              "4  https://api.github.com/repos/dlt-hub/dlt/issue...   \n",
              "\n",
              "                                     html_url          id  \\\n",
              "0  https://github.com/dlt-hub/dlt/issues/1530  2383150738   \n",
              "1    https://github.com/dlt-hub/dlt/pull/1677  2457631625   \n",
              "2    https://github.com/dlt-hub/dlt/pull/1674  2455801852   \n",
              "3    https://github.com/dlt-hub/dlt/pull/1576  2400541203   \n",
              "4  https://github.com/dlt-hub/dlt/issues/1637  2428525113   \n",
              "\n",
              "               node_id  number  \\\n",
              "0   I_kwDOGvRYu86OC_6S    1530   \n",
              "1  PR_kwDOGvRYu8537vNZ    1677   \n",
              "2  PR_kwDOGvRYu8531niS    1674   \n",
              "3  PR_kwDOGvRYu8509MPc    1576   \n",
              "4   I_kwDOGvRYu86QwFo5    1637   \n",
              "\n",
              "                                               title  ...  \\\n",
              "0  Additional paginator for offset without a \"tot...  ...   \n",
              "1  RESTClient: stops pagination after empty page ...  ...   \n",
              "2       adds full ci for motherduck and updates docs  ...   \n",
              "3  Fix/1571 Incremental: Optionally load or ignor...  ...   \n",
              "4  Update RESTClient range paginators to support ...  ...   \n",
              "\n",
              "  performed_via_github_app__permissions__actions  \\\n",
              "0                                           None   \n",
              "1                                           None   \n",
              "2                                           None   \n",
              "3                                           None   \n",
              "4                                           None   \n",
              "\n",
              "   performed_via_github_app__permissions__checks  \\\n",
              "0                                           None   \n",
              "1                                           None   \n",
              "2                                           None   \n",
              "3                                           None   \n",
              "4                                           None   \n",
              "\n",
              "  performed_via_github_app__permissions__contents  \\\n",
              "0                                            None   \n",
              "1                                            None   \n",
              "2                                            None   \n",
              "3                                            None   \n",
              "4                                            None   \n",
              "\n",
              "  performed_via_github_app__permissions__deployments  \\\n",
              "0                                               None   \n",
              "1                                               None   \n",
              "2                                               None   \n",
              "3                                               None   \n",
              "4                                               None   \n",
              "\n",
              "  performed_via_github_app__permissions__discussions  \\\n",
              "0                                               None   \n",
              "1                                               None   \n",
              "2                                               None   \n",
              "3                                               None   \n",
              "4                                               None   \n",
              "\n",
              "  performed_via_github_app__permissions__issues  \\\n",
              "0                                          None   \n",
              "1                                          None   \n",
              "2                                          None   \n",
              "3                                          None   \n",
              "4                                          None   \n",
              "\n",
              "  performed_via_github_app__permissions__metadata  \\\n",
              "0                                            None   \n",
              "1                                            None   \n",
              "2                                            None   \n",
              "3                                            None   \n",
              "4                                            None   \n",
              "\n",
              "  performed_via_github_app__permissions__pull_requests  \\\n",
              "0                                               None     \n",
              "1                                               None     \n",
              "2                                               None     \n",
              "3                                               None     \n",
              "4                                               None     \n",
              "\n",
              "  performed_via_github_app__permissions__repository_projects  \\\n",
              "0                                               None           \n",
              "1                                               None           \n",
              "2                                               None           \n",
              "3                                               None           \n",
              "4                                               None           \n",
              "\n",
              "  performed_via_github_app__permissions__statuses  \n",
              "0                                            None  \n",
              "1                                            None  \n",
              "2                                            None  \n",
              "3                                            None  \n",
              "4                                            None  \n",
              "\n",
              "[5 rows x 140 columns]"
            ],
            "text/html": [
              "\n",
              "  <div id=\"df-9bb90b14-e303-4c9c-9e75-fb9c634a6c34\" class=\"colab-df-container\">\n",
              "    <div>\n",
              "<style scoped>\n",
              "    .dataframe tbody tr th:only-of-type {\n",
              "        vertical-align: middle;\n",
              "    }\n",
              "\n",
              "    .dataframe tbody tr th {\n",
              "        vertical-align: top;\n",
              "    }\n",
              "\n",
              "    .dataframe thead th {\n",
              "        text-align: right;\n",
              "    }\n",
              "</style>\n",
              "<table border=\"1\" class=\"dataframe\">\n",
              "  <thead>\n",
              "    <tr style=\"text-align: right;\">\n",
              "      <th></th>\n",
              "      <th>url</th>\n",
              "      <th>repository_url</th>\n",
              "      <th>labels_url</th>\n",
              "      <th>comments_url</th>\n",
              "      <th>events_url</th>\n",
              "      <th>html_url</th>\n",
              "      <th>id</th>\n",
              "      <th>node_id</th>\n",
              "      <th>number</th>\n",
              "      <th>title</th>\n",
              "      <th>...</th>\n",
              "      <th>performed_via_github_app__permissions__actions</th>\n",
              "      <th>performed_via_github_app__permissions__checks</th>\n",
              "      <th>performed_via_github_app__permissions__contents</th>\n",
              "      <th>performed_via_github_app__permissions__deployments</th>\n",
              "      <th>performed_via_github_app__permissions__discussions</th>\n",
              "      <th>performed_via_github_app__permissions__issues</th>\n",
              "      <th>performed_via_github_app__permissions__metadata</th>\n",
              "      <th>performed_via_github_app__permissions__pull_requests</th>\n",
              "      <th>performed_via_github_app__permissions__repository_projects</th>\n",
              "      <th>performed_via_github_app__permissions__statuses</th>\n",
              "    </tr>\n",
              "  </thead>\n",
              "  <tbody>\n",
              "    <tr>\n",
              "      <th>0</th>\n",
              "      <td>https://api.github.com/repos/dlt-hub/dlt/issue...</td>\n",
              "      <td>https://api.github.com/repos/dlt-hub/dlt</td>\n",
              "      <td>https://api.github.com/repos/dlt-hub/dlt/issue...</td>\n",
              "      <td>https://api.github.com/repos/dlt-hub/dlt/issue...</td>\n",
              "      <td>https://api.github.com/repos/dlt-hub/dlt/issue...</td>\n",
              "      <td>https://github.com/dlt-hub/dlt/issues/1530</td>\n",
              "      <td>2383150738</td>\n",
              "      <td>I_kwDOGvRYu86OC_6S</td>\n",
              "      <td>1530</td>\n",
              "      <td>Additional paginator for offset without a \"tot...</td>\n",
              "      <td>...</td>\n",
              "      <td>None</td>\n",
              "      <td>None</td>\n",
              "      <td>None</td>\n",
              "      <td>None</td>\n",
              "      <td>None</td>\n",
              "      <td>None</td>\n",
              "      <td>None</td>\n",
              "      <td>None</td>\n",
              "      <td>None</td>\n",
              "      <td>None</td>\n",
              "    </tr>\n",
              "    <tr>\n",
              "      <th>1</th>\n",
              "      <td>https://api.github.com/repos/dlt-hub/dlt/issue...</td>\n",
              "      <td>https://api.github.com/repos/dlt-hub/dlt</td>\n",
              "      <td>https://api.github.com/repos/dlt-hub/dlt/issue...</td>\n",
              "      <td>https://api.github.com/repos/dlt-hub/dlt/issue...</td>\n",
              "      <td>https://api.github.com/repos/dlt-hub/dlt/issue...</td>\n",
              "      <td>https://github.com/dlt-hub/dlt/pull/1677</td>\n",
              "      <td>2457631625</td>\n",
              "      <td>PR_kwDOGvRYu8537vNZ</td>\n",
              "      <td>1677</td>\n",
              "      <td>RESTClient: stops pagination after empty page ...</td>\n",
              "      <td>...</td>\n",
              "      <td>None</td>\n",
              "      <td>None</td>\n",
              "      <td>None</td>\n",
              "      <td>None</td>\n",
              "      <td>None</td>\n",
              "      <td>None</td>\n",
              "      <td>None</td>\n",
              "      <td>None</td>\n",
              "      <td>None</td>\n",
              "      <td>None</td>\n",
              "    </tr>\n",
              "    <tr>\n",
              "      <th>2</th>\n",
              "      <td>https://api.github.com/repos/dlt-hub/dlt/issue...</td>\n",
              "      <td>https://api.github.com/repos/dlt-hub/dlt</td>\n",
              "      <td>https://api.github.com/repos/dlt-hub/dlt/issue...</td>\n",
              "      <td>https://api.github.com/repos/dlt-hub/dlt/issue...</td>\n",
              "      <td>https://api.github.com/repos/dlt-hub/dlt/issue...</td>\n",
              "      <td>https://github.com/dlt-hub/dlt/pull/1674</td>\n",
              "      <td>2455801852</td>\n",
              "      <td>PR_kwDOGvRYu8531niS</td>\n",
              "      <td>1674</td>\n",
              "      <td>adds full ci for motherduck and updates docs</td>\n",
              "      <td>...</td>\n",
              "      <td>None</td>\n",
              "      <td>None</td>\n",
              "      <td>None</td>\n",
              "      <td>None</td>\n",
              "      <td>None</td>\n",
              "      <td>None</td>\n",
              "      <td>None</td>\n",
              "      <td>None</td>\n",
              "      <td>None</td>\n",
              "      <td>None</td>\n",
              "    </tr>\n",
              "    <tr>\n",
              "      <th>3</th>\n",
              "      <td>https://api.github.com/repos/dlt-hub/dlt/issue...</td>\n",
              "      <td>https://api.github.com/repos/dlt-hub/dlt</td>\n",
              "      <td>https://api.github.com/repos/dlt-hub/dlt/issue...</td>\n",
              "      <td>https://api.github.com/repos/dlt-hub/dlt/issue...</td>\n",
              "      <td>https://api.github.com/repos/dlt-hub/dlt/issue...</td>\n",
              "      <td>https://github.com/dlt-hub/dlt/pull/1576</td>\n",
              "      <td>2400541203</td>\n",
              "      <td>PR_kwDOGvRYu8509MPc</td>\n",
              "      <td>1576</td>\n",
              "      <td>Fix/1571 Incremental: Optionally load or ignor...</td>\n",
              "      <td>...</td>\n",
              "      <td>None</td>\n",
              "      <td>None</td>\n",
              "      <td>None</td>\n",
              "      <td>None</td>\n",
              "      <td>None</td>\n",
              "      <td>None</td>\n",
              "      <td>None</td>\n",
              "      <td>None</td>\n",
              "      <td>None</td>\n",
              "      <td>None</td>\n",
              "    </tr>\n",
              "    <tr>\n",
              "      <th>4</th>\n",
              "      <td>https://api.github.com/repos/dlt-hub/dlt/issue...</td>\n",
              "      <td>https://api.github.com/repos/dlt-hub/dlt</td>\n",
              "      <td>https://api.github.com/repos/dlt-hub/dlt/issue...</td>\n",
              "      <td>https://api.github.com/repos/dlt-hub/dlt/issue...</td>\n",
              "      <td>https://api.github.com/repos/dlt-hub/dlt/issue...</td>\n",
              "      <td>https://github.com/dlt-hub/dlt/issues/1637</td>\n",
              "      <td>2428525113</td>\n",
              "      <td>I_kwDOGvRYu86QwFo5</td>\n",
              "      <td>1637</td>\n",
              "      <td>Update RESTClient range paginators to support ...</td>\n",
              "      <td>...</td>\n",
              "      <td>None</td>\n",
              "      <td>None</td>\n",
              "      <td>None</td>\n",
              "      <td>None</td>\n",
              "      <td>None</td>\n",
              "      <td>None</td>\n",
              "      <td>None</td>\n",
              "      <td>None</td>\n",
              "      <td>None</td>\n",
              "      <td>None</td>\n",
              "    </tr>\n",
              "  </tbody>\n",
              "</table>\n",
              "<p>5 rows × 140 columns</p>\n",
              "</div>\n",
              "    <div class=\"colab-df-buttons\">\n",
              "\n",
              "  <div class=\"colab-df-container\">\n",
              "    <button class=\"colab-df-convert\" onclick=\"convertToInteractive('df-9bb90b14-e303-4c9c-9e75-fb9c634a6c34')\"\n",
              "            title=\"Convert this dataframe to an interactive table.\"\n",
              "            style=\"display:none;\">\n",
              "\n",
              "  <svg xmlns=\"http://www.w3.org/2000/svg\" height=\"24px\" viewBox=\"0 -960 960 960\">\n",
              "    <path d=\"M120-120v-720h720v720H120Zm60-500h600v-160H180v160Zm220 220h160v-160H400v160Zm0 220h160v-160H400v160ZM180-400h160v-160H180v160Zm440 0h160v-160H620v160ZM180-180h160v-160H180v160Zm440 0h160v-160H620v160Z\"/>\n",
              "  </svg>\n",
              "    </button>\n",
              "\n",
              "  <style>\n",
              "    .colab-df-container {\n",
              "      display:flex;\n",
              "      gap: 12px;\n",
              "    }\n",
              "\n",
              "    .colab-df-convert {\n",
              "      background-color: #E8F0FE;\n",
              "      border: none;\n",
              "      border-radius: 50%;\n",
              "      cursor: pointer;\n",
              "      display: none;\n",
              "      fill: #1967D2;\n",
              "      height: 32px;\n",
              "      padding: 0 0 0 0;\n",
              "      width: 32px;\n",
              "    }\n",
              "\n",
              "    .colab-df-convert:hover {\n",
              "      background-color: #E2EBFA;\n",
              "      box-shadow: 0px 1px 2px rgba(60, 64, 67, 0.3), 0px 1px 3px 1px rgba(60, 64, 67, 0.15);\n",
              "      fill: #174EA6;\n",
              "    }\n",
              "\n",
              "    .colab-df-buttons div {\n",
              "      margin-bottom: 4px;\n",
              "    }\n",
              "\n",
              "    [theme=dark] .colab-df-convert {\n",
              "      background-color: #3B4455;\n",
              "      fill: #D2E3FC;\n",
              "    }\n",
              "\n",
              "    [theme=dark] .colab-df-convert:hover {\n",
              "      background-color: #434B5C;\n",
              "      box-shadow: 0px 1px 3px 1px rgba(0, 0, 0, 0.15);\n",
              "      filter: drop-shadow(0px 1px 2px rgba(0, 0, 0, 0.3));\n",
              "      fill: #FFFFFF;\n",
              "    }\n",
              "  </style>\n",
              "\n",
              "    <script>\n",
              "      const buttonEl =\n",
              "        document.querySelector('#df-9bb90b14-e303-4c9c-9e75-fb9c634a6c34 button.colab-df-convert');\n",
              "      buttonEl.style.display =\n",
              "        google.colab.kernel.accessAllowed ? 'block' : 'none';\n",
              "\n",
              "      async function convertToInteractive(key) {\n",
              "        const element = document.querySelector('#df-9bb90b14-e303-4c9c-9e75-fb9c634a6c34');\n",
              "        const dataTable =\n",
              "          await google.colab.kernel.invokeFunction('convertToInteractive',\n",
              "                                                    [key], {});\n",
              "        if (!dataTable) return;\n",
              "\n",
              "        const docLinkHtml = 'Like what you see? Visit the ' +\n",
              "          '<a target=\"_blank\" href=https://colab.research.google.com/notebooks/data_table.ipynb>data table notebook</a>'\n",
              "          + ' to learn more about interactive tables.';\n",
              "        element.innerHTML = '';\n",
              "        dataTable['output_type'] = 'display_data';\n",
              "        await google.colab.output.renderOutput(dataTable, element);\n",
              "        const docLink = document.createElement('div');\n",
              "        docLink.innerHTML = docLinkHtml;\n",
              "        element.appendChild(docLink);\n",
              "      }\n",
              "    </script>\n",
              "  </div>\n",
              "\n",
              "\n",
              "<div id=\"df-3b84a255-f7b1-4df5-8a09-f7cbefa0229c\">\n",
              "  <button class=\"colab-df-quickchart\" onclick=\"quickchart('df-3b84a255-f7b1-4df5-8a09-f7cbefa0229c')\"\n",
              "            title=\"Suggest charts\"\n",
              "            style=\"display:none;\">\n",
              "\n",
              "<svg xmlns=\"http://www.w3.org/2000/svg\" height=\"24px\"viewBox=\"0 0 24 24\"\n",
              "     width=\"24px\">\n",
              "    <g>\n",
              "        <path d=\"M19 3H5c-1.1 0-2 .9-2 2v14c0 1.1.9 2 2 2h14c1.1 0 2-.9 2-2V5c0-1.1-.9-2-2-2zM9 17H7v-7h2v7zm4 0h-2V7h2v10zm4 0h-2v-4h2v4z\"/>\n",
              "    </g>\n",
              "</svg>\n",
              "  </button>\n",
              "\n",
              "<style>\n",
              "  .colab-df-quickchart {\n",
              "      --bg-color: #E8F0FE;\n",
              "      --fill-color: #1967D2;\n",
              "      --hover-bg-color: #E2EBFA;\n",
              "      --hover-fill-color: #174EA6;\n",
              "      --disabled-fill-color: #AAA;\n",
              "      --disabled-bg-color: #DDD;\n",
              "  }\n",
              "\n",
              "  [theme=dark] .colab-df-quickchart {\n",
              "      --bg-color: #3B4455;\n",
              "      --fill-color: #D2E3FC;\n",
              "      --hover-bg-color: #434B5C;\n",
              "      --hover-fill-color: #FFFFFF;\n",
              "      --disabled-bg-color: #3B4455;\n",
              "      --disabled-fill-color: #666;\n",
              "  }\n",
              "\n",
              "  .colab-df-quickchart {\n",
              "    background-color: var(--bg-color);\n",
              "    border: none;\n",
              "    border-radius: 50%;\n",
              "    cursor: pointer;\n",
              "    display: none;\n",
              "    fill: var(--fill-color);\n",
              "    height: 32px;\n",
              "    padding: 0;\n",
              "    width: 32px;\n",
              "  }\n",
              "\n",
              "  .colab-df-quickchart:hover {\n",
              "    background-color: var(--hover-bg-color);\n",
              "    box-shadow: 0 1px 2px rgba(60, 64, 67, 0.3), 0 1px 3px 1px rgba(60, 64, 67, 0.15);\n",
              "    fill: var(--button-hover-fill-color);\n",
              "  }\n",
              "\n",
              "  .colab-df-quickchart-complete:disabled,\n",
              "  .colab-df-quickchart-complete:disabled:hover {\n",
              "    background-color: var(--disabled-bg-color);\n",
              "    fill: var(--disabled-fill-color);\n",
              "    box-shadow: none;\n",
              "  }\n",
              "\n",
              "  .colab-df-spinner {\n",
              "    border: 2px solid var(--fill-color);\n",
              "    border-color: transparent;\n",
              "    border-bottom-color: var(--fill-color);\n",
              "    animation:\n",
              "      spin 1s steps(1) infinite;\n",
              "  }\n",
              "\n",
              "  @keyframes spin {\n",
              "    0% {\n",
              "      border-color: transparent;\n",
              "      border-bottom-color: var(--fill-color);\n",
              "      border-left-color: var(--fill-color);\n",
              "    }\n",
              "    20% {\n",
              "      border-color: transparent;\n",
              "      border-left-color: var(--fill-color);\n",
              "      border-top-color: var(--fill-color);\n",
              "    }\n",
              "    30% {\n",
              "      border-color: transparent;\n",
              "      border-left-color: var(--fill-color);\n",
              "      border-top-color: var(--fill-color);\n",
              "      border-right-color: var(--fill-color);\n",
              "    }\n",
              "    40% {\n",
              "      border-color: transparent;\n",
              "      border-right-color: var(--fill-color);\n",
              "      border-top-color: var(--fill-color);\n",
              "    }\n",
              "    60% {\n",
              "      border-color: transparent;\n",
              "      border-right-color: var(--fill-color);\n",
              "    }\n",
              "    80% {\n",
              "      border-color: transparent;\n",
              "      border-right-color: var(--fill-color);\n",
              "      border-bottom-color: var(--fill-color);\n",
              "    }\n",
              "    90% {\n",
              "      border-color: transparent;\n",
              "      border-bottom-color: var(--fill-color);\n",
              "    }\n",
              "  }\n",
              "</style>\n",
              "\n",
              "  <script>\n",
              "    async function quickchart(key) {\n",
              "      const quickchartButtonEl =\n",
              "        document.querySelector('#' + key + ' button');\n",
              "      quickchartButtonEl.disabled = true;  // To prevent multiple clicks.\n",
              "      quickchartButtonEl.classList.add('colab-df-spinner');\n",
              "      try {\n",
              "        const charts = await google.colab.kernel.invokeFunction(\n",
              "            'suggestCharts', [key], {});\n",
              "      } catch (error) {\n",
              "        console.error('Error during call to suggestCharts:', error);\n",
              "      }\n",
              "      quickchartButtonEl.classList.remove('colab-df-spinner');\n",
              "      quickchartButtonEl.classList.add('colab-df-quickchart-complete');\n",
              "    }\n",
              "    (() => {\n",
              "      let quickchartButtonEl =\n",
              "        document.querySelector('#df-3b84a255-f7b1-4df5-8a09-f7cbefa0229c button');\n",
              "      quickchartButtonEl.style.display =\n",
              "        google.colab.kernel.accessAllowed ? 'block' : 'none';\n",
              "    })();\n",
              "  </script>\n",
              "</div>\n",
              "\n",
              "  <div id=\"id_e4a59b1f-f311-4b78-8d06-7757c8451f99\">\n",
              "    <style>\n",
              "      .colab-df-generate {\n",
              "        background-color: #E8F0FE;\n",
              "        border: none;\n",
              "        border-radius: 50%;\n",
              "        cursor: pointer;\n",
              "        display: none;\n",
              "        fill: #1967D2;\n",
              "        height: 32px;\n",
              "        padding: 0 0 0 0;\n",
              "        width: 32px;\n",
              "      }\n",
              "\n",
              "      .colab-df-generate:hover {\n",
              "        background-color: #E2EBFA;\n",
              "        box-shadow: 0px 1px 2px rgba(60, 64, 67, 0.3), 0px 1px 3px 1px rgba(60, 64, 67, 0.15);\n",
              "        fill: #174EA6;\n",
              "      }\n",
              "\n",
              "      [theme=dark] .colab-df-generate {\n",
              "        background-color: #3B4455;\n",
              "        fill: #D2E3FC;\n",
              "      }\n",
              "\n",
              "      [theme=dark] .colab-df-generate:hover {\n",
              "        background-color: #434B5C;\n",
              "        box-shadow: 0px 1px 3px 1px rgba(0, 0, 0, 0.15);\n",
              "        filter: drop-shadow(0px 1px 2px rgba(0, 0, 0, 0.3));\n",
              "        fill: #FFFFFF;\n",
              "      }\n",
              "    </style>\n",
              "    <button class=\"colab-df-generate\" onclick=\"generateWithVariable('stats_table')\"\n",
              "            title=\"Generate code using this dataframe.\"\n",
              "            style=\"display:none;\">\n",
              "\n",
              "  <svg xmlns=\"http://www.w3.org/2000/svg\" height=\"24px\"viewBox=\"0 0 24 24\"\n",
              "       width=\"24px\">\n",
              "    <path d=\"M7,19H8.4L18.45,9,17,7.55,7,17.6ZM5,21V16.75L18.45,3.32a2,2,0,0,1,2.83,0l1.4,1.43a1.91,1.91,0,0,1,.58,1.4,1.91,1.91,0,0,1-.58,1.4L9.25,21ZM18.45,9,17,7.55Zm-12,3A5.31,5.31,0,0,0,4.9,8.1,5.31,5.31,0,0,0,1,6.5,5.31,5.31,0,0,0,4.9,4.9,5.31,5.31,0,0,0,6.5,1,5.31,5.31,0,0,0,8.1,4.9,5.31,5.31,0,0,0,12,6.5,5.46,5.46,0,0,0,6.5,12Z\"/>\n",
              "  </svg>\n",
              "    </button>\n",
              "    <script>\n",
              "      (() => {\n",
              "      const buttonEl =\n",
              "        document.querySelector('#id_e4a59b1f-f311-4b78-8d06-7757c8451f99 button.colab-df-generate');\n",
              "      buttonEl.style.display =\n",
              "        google.colab.kernel.accessAllowed ? 'block' : 'none';\n",
              "\n",
              "      buttonEl.onclick = () => {\n",
              "        google.colab.notebook.generateWithVariable('stats_table');\n",
              "      }\n",
              "      })();\n",
              "    </script>\n",
              "  </div>\n",
              "\n",
              "    </div>\n",
              "  </div>\n"
            ],
            "application/vnd.google.colaboratory.intrinsic+json": {
              "type": "dataframe",
              "variable_name": "stats_table"
            }
          },
          "metadata": {}
        }
      ]
    },
    {
      "cell_type": "markdown",
      "source": [
        "# Introducing Load Info\n",
        "\n",
        "In the package information you can also see the list of all tables and columns created at the destination during loading of that package. The code below displays all tables and schemas.\n",
        "\n"
      ],
      "metadata": {
        "id": "RuY4ykripvT9"
      }
    },
    {
      "cell_type": "markdown",
      "source": [
        "## Inspect Load Info"
      ],
      "metadata": {
        "id": "sQEQVpgKrQHj"
      }
    },
    {
      "cell_type": "markdown",
      "source": [
        "### CLI\n",
        "\n",
        "To see the most recent load package info:"
      ],
      "metadata": {
        "id": "eR0S2Rp0rXPx"
      }
    },
    {
      "cell_type": "code",
      "source": [
        "!dlt pipeline github_issues_merge_trace load-package"
      ],
      "metadata": {
        "colab": {
          "base_uri": "https://localhost:8080/"
        },
        "id": "TIHtdakbrZJc",
        "outputId": "039a9111-a262-46ee-d0bf-37c5fd5b0093"
      },
      "execution_count": null,
      "outputs": [
        {
          "output_type": "stream",
          "name": "stdout",
          "text": [
            "Found pipeline \u001b[1mgithub_issues_merge_trace\u001b[0m in \u001b[1m/var/dlt/pipelines\u001b[0m\n",
            "Package \u001b[1m1722343054.148941\u001b[0m found in \u001b[1m/var/dlt/pipelines/github_issues_merge_trace/load/loaded/1722343054.148941\u001b[0m\n",
            "The package with load id 1722343054.148941 for schema github_issues_merge_trace is in LOADED state. It updated schema for 7 tables. The package was LOADED at 2024-07-30 12:37:38.147890+00:00.\n",
            "Jobs details:\n",
            "Job: issues__assignees.ea84ca5dd6.insert_values, table: issues__assignees in completed_jobs. File type: insert_values, size: 4.0K. Started on: 2024-07-30 12:37:35.785707+00:00 and completed in 2.36 seconds.\n",
            "Job: issues.9a51a5dcc7.sql, table: issues in completed_jobs. File type: sql, size: 9.2K. Started on: 2024-07-30 12:37:37.309825+00:00 and completed in 0.84 seconds.\n",
            "Job: issues__labels.3fc08a7c7c.insert_values, table: issues__labels in completed_jobs. File type: insert_values, size: 3.8K. Started on: 2024-07-30 12:37:35.776706+00:00 and completed in 2.37 seconds.\n",
            "Job: _dlt_pipeline_state.3273b65a40.insert_values, table: _dlt_pipeline_state in completed_jobs. File type: insert_values, size: 680B. Started on: 2024-07-30 12:37:35.700700+00:00 and completed in 2.45 seconds.\n",
            "Job: issues.ba0d882890.insert_values, table: issues in completed_jobs. File type: insert_values, size: 103.2K. Started on: 2024-07-30 12:37:35.771705+00:00 and completed in 2.38 seconds.\n",
            "Job: issues__performed_via_github_app__events.2889f0e535.insert_values, table: issues__performed_via_github_app__events in completed_jobs. File type: insert_values, size: 740B. Started on: 2024-07-30 12:37:35.786706+00:00 and completed in 2.36 seconds.\n",
            "Add -v option to see schema update. Note that it could be large.\n"
          ]
        }
      ]
    },
    {
      "cell_type": "markdown",
      "source": [
        "The `load_id` of a particular package is added to the top data tables and to the special `_dlt_loads` table with a status of 0 when the load process is fully completed. The `_dlt_loads` table tracks complete loads and allows chaining transformations on top of them.\n",
        "\n",
        "To see package info with a given load id:"
      ],
      "metadata": {
        "id": "7btgwcasrsu4"
      }
    },
    {
      "cell_type": "code",
      "source": [
        "!dlt pipeline github_issues_merge_trace load-package 1722343054.148941"
      ],
      "metadata": {
        "colab": {
          "base_uri": "https://localhost:8080/"
        },
        "id": "IRnYKsMlrpG4",
        "outputId": "82d16d5b-52b6-4b27-9870-74ccb521156c"
      },
      "execution_count": null,
      "outputs": [
        {
          "output_type": "stream",
          "name": "stdout",
          "text": [
            "Found pipeline \u001b[1mgithub_issues_merge_trace\u001b[0m in \u001b[1m/var/dlt/pipelines\u001b[0m\n",
            "Package \u001b[1m1722343054.148941\u001b[0m found in \u001b[1m/var/dlt/pipelines/github_issues_merge_trace/load/loaded/1722343054.148941\u001b[0m\n",
            "The package with load id 1722343054.148941 for schema github_issues_merge_trace is in LOADED state. It updated schema for 7 tables. The package was LOADED at 2024-07-30 12:37:38.147890+00:00.\n",
            "Jobs details:\n",
            "Job: issues__assignees.ea84ca5dd6.insert_values, table: issues__assignees in completed_jobs. File type: insert_values, size: 4.0K. Started on: 2024-07-30 12:37:35.785707+00:00 and completed in 2.36 seconds.\n",
            "Job: issues.9a51a5dcc7.sql, table: issues in completed_jobs. File type: sql, size: 9.2K. Started on: 2024-07-30 12:37:37.309825+00:00 and completed in 0.84 seconds.\n",
            "Job: issues__labels.3fc08a7c7c.insert_values, table: issues__labels in completed_jobs. File type: insert_values, size: 3.8K. Started on: 2024-07-30 12:37:35.776706+00:00 and completed in 2.37 seconds.\n",
            "Job: _dlt_pipeline_state.3273b65a40.insert_values, table: _dlt_pipeline_state in completed_jobs. File type: insert_values, size: 680B. Started on: 2024-07-30 12:37:35.700700+00:00 and completed in 2.45 seconds.\n",
            "Job: issues.ba0d882890.insert_values, table: issues in completed_jobs. File type: insert_values, size: 103.2K. Started on: 2024-07-30 12:37:35.771705+00:00 and completed in 2.38 seconds.\n",
            "Job: issues__performed_via_github_app__events.2889f0e535.insert_values, table: issues__performed_via_github_app__events in completed_jobs. File type: insert_values, size: 740B. Started on: 2024-07-30 12:37:35.786706+00:00 and completed in 2.36 seconds.\n",
            "Add -v option to see schema update. Note that it could be large.\n"
          ]
        }
      ]
    },
    {
      "cell_type": "markdown",
      "source": [
        "# Introducing dlt State\n",
        "\n",
        "The pipeline state is a Python dictionary which lives alongside your data; you can store values in it and, on next pipeline run, request them back.\n",
        "\n",
        "[Documentation](https://dlthub.com/docs/general-usage/state)\n"
      ],
      "metadata": {
        "id": "O-NIC4HANtae"
      }
    },
    {
      "cell_type": "markdown",
      "source": [
        "## When to use pipeline state\n",
        "- dlt uses the state internally to implement last value incremental loading. This use case should cover around 90% of your needs to use the pipeline state.\n",
        "- Store a list of already requested entities if the list is not much bigger than 100k elements.\n",
        "- Store large dictionaries of last values if you are not able to implement it with the standard incremental construct.\n",
        "- Store the custom fields dictionaries, dynamic configurations and other source-scoped state.\n",
        "\n",
        "## When not to use pipeline state\n",
        "Do not use dlt state when it may grow to millions of elements. Do you plan to store modification timestamps of all of your millions of user records? This is probably a bad idea! In that case you could:\n",
        "\n",
        "- Store the state in dynamo-db, redis etc. taking into the account that if the extract stage fails you'll end with invalid state.\n",
        "- Use your loaded data as the state. dlt exposes the current pipeline via dlt.current.pipeline() from which you can obtain sqlclient and load the data of interest. In that case try at least to process your user records in batches."
      ],
      "metadata": {
        "id": "9ZQyaKVKf1LB"
      }
    },
    {
      "cell_type": "markdown",
      "source": [
        "## Inspect state"
      ],
      "metadata": {
        "id": "L8Cp_xLq-x6U"
      }
    },
    {
      "cell_type": "markdown",
      "source": [
        "### Method 1: Through CLI"
      ],
      "metadata": {
        "id": "_ghI_DtIhfih"
      }
    },
    {
      "cell_type": "code",
      "source": [
        "!dlt pipeline -v github_issues_merge info"
      ],
      "metadata": {
        "colab": {
          "base_uri": "https://localhost:8080/"
        },
        "id": "93aKhclLg2-W",
        "outputId": "25f91892-e5b5-48f1-ff33-7e4e91c7df5d"
      },
      "execution_count": null,
      "outputs": [
        {
          "output_type": "stream",
          "name": "stdout",
          "text": [
            "Attaching to pipeline \u001b[1mgithub_issues_merge\u001b[0m\n",
            "Found pipeline \u001b[1mgithub_issues_merge\u001b[0m in \u001b[1m/var/dlt/pipelines\u001b[0m\n",
            "Synchronized state:\n",
            "\u001b[32m_state_version\u001b[0m: 1\n",
            "\u001b[32m_state_engine_version\u001b[0m: 4\n",
            "\u001b[32mpipeline_name\u001b[0m: github_issues_merge\n",
            "\u001b[32mdataset_name\u001b[0m: github_data_merge\n",
            "\u001b[32mdefault_schema_name\u001b[0m: github_issues_merge\n",
            "\u001b[32mschema_names\u001b[0m: ['github_issues_merge']\n",
            "\u001b[32mdestination_type\u001b[0m: dlt.destinations.duckdb\n",
            "\u001b[32mdestination_name\u001b[0m: duckdb\n",
            "\u001b[32m_version_hash\u001b[0m: 9zLE+fA8W+p7TO9tXuwvTS1rb3aPturqGfHGvOsZVGs=\n",
            "\n",
            "\u001b[32msources:\u001b[0m\n",
            "{\n",
            "  \"github_issues_merge\": {\n",
            "    \"resources\": {\n",
            "      \"get_issues\": {\n",
            "        \"incremental\": {\n",
            "          \"updated_at\": {\n",
            "            \"initial_value\": \"1970-01-01T00:00:00Z\",\n",
            "            \"last_value\": \"2024-08-09T12:27:54Z\",\n",
            "            \"unique_hashes\": [\n",
            "              \"Aj6+vMs5fyGEOqGyW1cY\"\n",
            "            ]\n",
            "          }\n",
            "        }\n",
            "      }\n",
            "    }\n",
            "  }\n",
            "}\n",
            "\n",
            "Local state:\n",
            "\u001b[32mfirst_run\u001b[0m: False\n",
            "\u001b[32m_last_extracted_at\u001b[0m: 2024-08-09 12:35:31.211177+00:00\n",
            "\u001b[32m_last_extracted_hash\u001b[0m: 9zLE+fA8W+p7TO9tXuwvTS1rb3aPturqGfHGvOsZVGs=\n",
            "\n",
            "Resources in schema: \u001b[1mgithub_issues_merge\u001b[0m\n",
            "\u001b[1mget_issues\u001b[0m with \u001b[1m4\u001b[0m table(s) and \u001b[1m1\u001b[0m resource state slot(s)\n",
            "\t\u001b[1missues\u001b[0m table \u001b[1m140\u001b[0m column(s) \u001b[32mreceived data\u001b[0m \n",
            "\t\u001b[1missues__labels\u001b[0m table \u001b[1m11\u001b[0m column(s) \u001b[32mreceived data\u001b[0m \n",
            "\t\u001b[1missues__assignees\u001b[0m table \u001b[1m22\u001b[0m column(s) \u001b[32mreceived data\u001b[0m \n",
            "\t\u001b[1missues__performed_via_github_app__events\u001b[0m table \u001b[1m5\u001b[0m column(s) \u001b[32mreceived data\u001b[0m \n",
            "\n",
            "Working dir content:\n",
            "Has \u001b[1m1\u001b[0m completed load packages with following load ids:\n",
            "1723206930.5175498\n",
            "\n",
            "Pipeline has last run trace. Use 'dlt pipeline github_issues_merge trace' to inspect \n"
          ]
        }
      ]
    },
    {
      "cell_type": "markdown",
      "source": [
        "### Method 2: Through Python"
      ],
      "metadata": {
        "id": "-rQWiIUqhcpR"
      }
    },
    {
      "cell_type": "code",
      "source": [
        "import json\n",
        "\n",
        "def read_state(filepath):\n",
        "    with open(filepath, 'r') as file:\n",
        "        data = json.load(file)\n",
        "        pretty_json = json.dumps(data, indent=4)\n",
        "        return pretty_json"
      ],
      "metadata": {
        "id": "hbXv6oN748tx"
      },
      "execution_count": null,
      "outputs": []
    },
    {
      "cell_type": "code",
      "source": [
        "# stored in your default pipelines folder\n",
        "print(read_state(\"/var/dlt/pipelines/github_issues_merge/state.json\"))"
      ],
      "metadata": {
        "colab": {
          "base_uri": "https://localhost:8080/"
        },
        "id": "dQbsUPXUNjN6",
        "outputId": "c06a7854-b718-479a-c104-68d3952f1da5"
      },
      "execution_count": null,
      "outputs": [
        {
          "output_type": "stream",
          "name": "stdout",
          "text": [
            "{\n",
            "    \"_state_version\": 1,\n",
            "    \"_state_engine_version\": 4,\n",
            "    \"_local\": {\n",
            "        \"first_run\": false,\n",
            "        \"_last_extracted_at\": \"\\uf0272024-08-09T12:35:31.211177+00:00\",\n",
            "        \"_last_extracted_hash\": \"9zLE+fA8W+p7TO9tXuwvTS1rb3aPturqGfHGvOsZVGs=\"\n",
            "    },\n",
            "    \"pipeline_name\": \"github_issues_merge\",\n",
            "    \"dataset_name\": \"github_data_merge\",\n",
            "    \"default_schema_name\": \"github_issues_merge\",\n",
            "    \"schema_names\": [\n",
            "        \"github_issues_merge\"\n",
            "    ],\n",
            "    \"destination_type\": \"dlt.destinations.duckdb\",\n",
            "    \"destination_name\": \"duckdb\",\n",
            "    \"_version_hash\": \"9zLE+fA8W+p7TO9tXuwvTS1rb3aPturqGfHGvOsZVGs=\",\n",
            "    \"sources\": {\n",
            "        \"github_issues_merge\": {\n",
            "            \"resources\": {\n",
            "                \"get_issues\": {\n",
            "                    \"incremental\": {\n",
            "                        \"updated_at\": {\n",
            "                            \"initial_value\": \"1970-01-01T00:00:00Z\",\n",
            "                            \"last_value\": \"2024-08-09T12:27:54Z\",\n",
            "                            \"unique_hashes\": [\n",
            "                                \"Aj6+vMs5fyGEOqGyW1cY\"\n",
            "                            ]\n",
            "                        }\n",
            "                    }\n",
            "                }\n",
            "            }\n",
            "        }\n",
            "    }\n",
            "}\n"
          ]
        }
      ]
    },
    {
      "cell_type": "markdown",
      "source": [
        "## Modify state"
      ],
      "metadata": {
        "id": "pDoBkbLv-tng"
      }
    },
    {
      "cell_type": "markdown",
      "source": [
        "### Resource state"
      ],
      "metadata": {
        "id": "Nv6E1ACc8W0S"
      }
    },
    {
      "cell_type": "code",
      "source": [
        "@dlt.resource(\n",
        "    table_name=\"issues\",\n",
        "    write_disposition=\"merge\",\n",
        "    primary_key=\"id\",\n",
        ")\n",
        "def get_issues(\n",
        "    updated_at=dlt.sources.incremental(\"updated_at\", initial_value=\"1970-01-01T00:00:00Z\")\n",
        "):\n",
        "    url = (\n",
        "        f\"{BASE_URL}?since={updated_at.last_value}&per_page=100&sort=updated\"\n",
        "        \"&directions=desc&state=open\"\n",
        "    )\n",
        "    # get a value from the state\n",
        "    last_value = dlt.current.resource_state().get(\"incremental\", {}).get(\"updated_at\", {}).get(\"last_value\")\n",
        "    # Let's set some custom state information\n",
        "    dlt.current.resource_state().setdefault(\"new_key\", [\"first_value\", \"second_value\"])\n",
        "\n",
        "    yield pagination(url)\n",
        "\n",
        "\n",
        "load_info = pipeline.run(get_issues)"
      ],
      "metadata": {
        "id": "ar4rbS8s4XmD"
      },
      "execution_count": null,
      "outputs": []
    },
    {
      "cell_type": "code",
      "source": [
        "print(read_state(\"/var/dlt/pipelines/github_issues_merge/state.json\"))"
      ],
      "metadata": {
        "colab": {
          "base_uri": "https://localhost:8080/"
        },
        "id": "GHRKNXFQ9DrB",
        "outputId": "434c49dc-ea7f-49da-d52f-6c68093d9f30"
      },
      "execution_count": null,
      "outputs": [
        {
          "output_type": "stream",
          "name": "stdout",
          "text": [
            "{\n",
            "    \"_state_version\": 2,\n",
            "    \"_state_engine_version\": 4,\n",
            "    \"_local\": {\n",
            "        \"first_run\": false,\n",
            "        \"_last_extracted_at\": \"\\uf0272024-08-09T12:44:09.515788+00:00\",\n",
            "        \"_last_extracted_hash\": \"RZy6JLHlAe7bQFvOFEtb/AN/HUDeqvK9kPrfFYsMUVY=\"\n",
            "    },\n",
            "    \"pipeline_name\": \"github_issues_merge\",\n",
            "    \"dataset_name\": \"github_data_merge\",\n",
            "    \"default_schema_name\": \"github_issues_merge\",\n",
            "    \"schema_names\": [\n",
            "        \"github_issues_merge\"\n",
            "    ],\n",
            "    \"destination_type\": \"dlt.destinations.duckdb\",\n",
            "    \"destination_name\": \"duckdb\",\n",
            "    \"_version_hash\": \"RZy6JLHlAe7bQFvOFEtb/AN/HUDeqvK9kPrfFYsMUVY=\",\n",
            "    \"sources\": {\n",
            "        \"github_issues_merge\": {\n",
            "            \"resources\": {\n",
            "                \"get_issues\": {\n",
            "                    \"incremental\": {\n",
            "                        \"updated_at\": {\n",
            "                            \"initial_value\": \"1970-01-01T00:00:00Z\",\n",
            "                            \"last_value\": \"2024-08-09T12:27:54Z\",\n",
            "                            \"unique_hashes\": [\n",
            "                                \"Aj6+vMs5fyGEOqGyW1cY\"\n",
            "                            ]\n",
            "                        }\n",
            "                    },\n",
            "                    \"new_key\": [\n",
            "                        \"first_value\",\n",
            "                        \"second_value\"\n",
            "                    ]\n",
            "                }\n",
            "            }\n",
            "        }\n",
            "    }\n",
            "}\n"
          ]
        }
      ]
    },
    {
      "cell_type": "code",
      "source": [
        "@dlt.resource(\n",
        "    table_name=\"issues\",\n",
        "    write_disposition=\"merge\",\n",
        "    primary_key=\"id\",\n",
        ")\n",
        "def get_issues(\n",
        "    updated_at=dlt.sources.incremental(\"updated_at\", initial_value=\"1970-01-01T00:00:00Z\")\n",
        "):\n",
        "    url = (\n",
        "        f\"{BASE_URL}?since={updated_at.last_value}&per_page=100&sort=updated\"\n",
        "        \"&directions=desc&state=open\"\n",
        "    )\n",
        "    # Let's set some custom state information\n",
        "    new_keys = dlt.current.resource_state().setdefault(\"new_key\", [\"first_value\", \"second_value\"])\n",
        "    if \"something_happend\":\n",
        "        new_keys.append(\"third_value\")\n",
        "\n",
        "    incremental_dict = dlt.current.resource_state().get(\"incremental\")\n",
        "    incremental_dict.update({\"second_new_key\": \"forth_value\"})\n",
        "\n",
        "    yield pagination(url)\n",
        "\n",
        "\n",
        "load_info = pipeline.run(get_issues)"
      ],
      "metadata": {
        "id": "14LRQDaH4hDh"
      },
      "execution_count": null,
      "outputs": []
    },
    {
      "cell_type": "code",
      "source": [
        "print(read_state(\"/var/dlt/pipelines/github_issues_merge/state.json\"))"
      ],
      "metadata": {
        "colab": {
          "base_uri": "https://localhost:8080/"
        },
        "id": "L0B_ErB54itq",
        "outputId": "14e93284-e253-4215-ceb4-c477ee4654dd"
      },
      "execution_count": null,
      "outputs": [
        {
          "output_type": "stream",
          "name": "stdout",
          "text": [
            "{\n",
            "    \"_state_version\": 3,\n",
            "    \"_state_engine_version\": 4,\n",
            "    \"_local\": {\n",
            "        \"first_run\": false,\n",
            "        \"_last_extracted_at\": \"\\uf0272024-08-09T12:44:32.905886+00:00\",\n",
            "        \"_last_extracted_hash\": \"qANGdwkvFkah9tfXIm75yJ+h3XeV7vBtAJAoYExaKMg=\"\n",
            "    },\n",
            "    \"pipeline_name\": \"github_issues_merge\",\n",
            "    \"dataset_name\": \"github_data_merge\",\n",
            "    \"default_schema_name\": \"github_issues_merge\",\n",
            "    \"schema_names\": [\n",
            "        \"github_issues_merge\"\n",
            "    ],\n",
            "    \"destination_type\": \"dlt.destinations.duckdb\",\n",
            "    \"destination_name\": \"duckdb\",\n",
            "    \"_version_hash\": \"qANGdwkvFkah9tfXIm75yJ+h3XeV7vBtAJAoYExaKMg=\",\n",
            "    \"sources\": {\n",
            "        \"github_issues_merge\": {\n",
            "            \"resources\": {\n",
            "                \"get_issues\": {\n",
            "                    \"incremental\": {\n",
            "                        \"updated_at\": {\n",
            "                            \"initial_value\": \"1970-01-01T00:00:00Z\",\n",
            "                            \"last_value\": \"2024-08-09T12:27:54Z\",\n",
            "                            \"unique_hashes\": [\n",
            "                                \"Aj6+vMs5fyGEOqGyW1cY\"\n",
            "                            ]\n",
            "                        },\n",
            "                        \"second_new_key\": \"forth_value\"\n",
            "                    },\n",
            "                    \"new_key\": [\n",
            "                        \"first_value\",\n",
            "                        \"second_value\",\n",
            "                        \"third_value\"\n",
            "                    ]\n",
            "                }\n",
            "            }\n",
            "        }\n",
            "    }\n",
            "}\n"
          ]
        }
      ]
    },
    {
      "cell_type": "markdown",
      "source": [
        "### Source state\n",
        "\n",
        "You can also access the source-scoped state with `dlt.current.source_state()` which can be shared across resources of a particular source and is also available read-only in the source-decorated functions. The most common use case for the source-scoped state is to store mapping of custom fields to their displayable names. You can take a look at our pipedrive source for an example of state passed across resources."
      ],
      "metadata": {
        "id": "uKsko-OV_Hqa"
      }
    },
    {
      "cell_type": "code",
      "source": [
        "@dlt.resource(\n",
        "    table_name=\"issues\",\n",
        "    write_disposition=\"merge\",\n",
        "    primary_key=\"id\",\n",
        ")\n",
        "def get_issues(\n",
        "    updated_at=dlt.sources.incremental(\"updated_at\", initial_value=\"1970-01-01T00:00:00Z\")\n",
        "):\n",
        "    url = (\n",
        "        f\"{BASE_URL}?since={updated_at.last_value}&per_page=100&sort=updated\"\n",
        "        \"&directions=desc&state=open\"\n",
        "    )\n",
        "    # Let's set some custom state information\n",
        "    source_new_keys = dlt.current.source_state().setdefault(\"source_new_key\", \"fifth_value\")\n",
        "\n",
        "    yield pagination(url)\n",
        "\n",
        "\n",
        "load_info = pipeline.run(get_issues)"
      ],
      "metadata": {
        "id": "ITBOLgf_-dIl"
      },
      "execution_count": null,
      "outputs": []
    },
    {
      "cell_type": "code",
      "source": [
        "print(read_state(\"/var/dlt/pipelines/github_issues_merge/state.json\"))"
      ],
      "metadata": {
        "colab": {
          "base_uri": "https://localhost:8080/"
        },
        "id": "cJJ8MAh0_WSM",
        "outputId": "97846719-60e3-4f68-8759-e79985cac8f7"
      },
      "execution_count": null,
      "outputs": [
        {
          "output_type": "stream",
          "name": "stdout",
          "text": [
            "{\n",
            "    \"_state_version\": 4,\n",
            "    \"_state_engine_version\": 4,\n",
            "    \"_local\": {\n",
            "        \"first_run\": false,\n",
            "        \"_last_extracted_at\": \"\\uf0272024-08-09T12:45:43.078262+00:00\",\n",
            "        \"_last_extracted_hash\": \"o6cvM8PJKtfOourJeM4oTIfDCaKChS1rCkDgwdMNwbI=\"\n",
            "    },\n",
            "    \"pipeline_name\": \"github_issues_merge\",\n",
            "    \"dataset_name\": \"github_data_merge\",\n",
            "    \"default_schema_name\": \"github_issues_merge\",\n",
            "    \"schema_names\": [\n",
            "        \"github_issues_merge\"\n",
            "    ],\n",
            "    \"destination_type\": \"dlt.destinations.duckdb\",\n",
            "    \"destination_name\": \"duckdb\",\n",
            "    \"_version_hash\": \"o6cvM8PJKtfOourJeM4oTIfDCaKChS1rCkDgwdMNwbI=\",\n",
            "    \"sources\": {\n",
            "        \"github_issues_merge\": {\n",
            "            \"resources\": {\n",
            "                \"get_issues\": {\n",
            "                    \"incremental\": {\n",
            "                        \"updated_at\": {\n",
            "                            \"initial_value\": \"1970-01-01T00:00:00Z\",\n",
            "                            \"last_value\": \"2024-08-09T12:27:54Z\",\n",
            "                            \"unique_hashes\": [\n",
            "                                \"Aj6+vMs5fyGEOqGyW1cY\"\n",
            "                            ]\n",
            "                        },\n",
            "                        \"second_new_key\": \"forth_value\"\n",
            "                    },\n",
            "                    \"new_key\": [\n",
            "                        \"first_value\",\n",
            "                        \"second_value\",\n",
            "                        \"third_value\"\n",
            "                    ]\n",
            "                }\n",
            "            },\n",
            "            \"source_new_key\": \"fifth_value\"\n",
            "        }\n",
            "    }\n",
            "}\n"
          ]
        }
      ]
    },
    {
      "cell_type": "markdown",
      "source": [
        "## Syncing state with destination\n",
        "\n",
        "What if you run your pipeline on, for example, Airflow where every task gets a clean filesystem and pipeline working directory is always deleted?\n",
        "\n",
        "dlt loads your state into the destination together with all other data and when faced with a clean start, it will try to restore state from the destination.\n",
        "\n",
        "The remote state is identified by pipeline name, the destination location (as given by the credentials) and destination dataset. To re-use the same state, use the same pipeline name and destination.\n",
        "\n",
        "The state is stored in the `_dlt_pipeline_state` table at the destination and contains information about the pipeline, pipeline run (that the state belongs to) and state blob.\n",
        "\n",
        "dlt has `dlt pipeline <pipeline name> sync` command where you can request the state back from that table.\n",
        "\n",
        "💡 If you can keep the pipeline working directory across the runs, you can disable the state sync by setting `restore_from_destination=false` i.e. in your `config.toml`."
      ],
      "metadata": {
        "id": "z_6oZdQID8zJ"
      }
    },
    {
      "cell_type": "code",
      "source": [
        "import duckdb\n",
        "from google.colab import data_table\n",
        "data_table.enable_dataframe_formatter()\n",
        "\n",
        "# a database 'chess_pipeline.duckdb' was created in working directory so just connect to it\n",
        "conn = duckdb.connect(f\"{pipeline.pipeline_name}.duckdb\")\n",
        "conn.sql(f\"SET search_path = '{pipeline.dataset_name}'\")\n",
        "stats_table = conn.sql(\"SELECT * FROM _dlt_pipeline_state\").df()\n",
        "display(stats_table)"
      ],
      "metadata": {
        "colab": {
          "base_uri": "https://localhost:8080/",
          "height": 322
        },
        "id": "YKgMATS-_Wx0",
        "outputId": "17478b56-0d08-4dc9-c1f6-f31cc2c20e58"
      },
      "execution_count": null,
      "outputs": [
        {
          "output_type": "display_data",
          "data": {
            "text/plain": [
              "   version  engine_version        pipeline_name  \\\n",
              "0        1               4  github_issues_merge   \n",
              "1        2               4  github_issues_merge   \n",
              "2        3               4  github_issues_merge   \n",
              "3        4               4  github_issues_merge   \n",
              "4        5               4  github_issues_merge   \n",
              "\n",
              "                                               state  \\\n",
              "0  eNp9kUFPwkAQhf/LXi24bYFqEy/EgxzUQAhGDNkM7UBX2q...   \n",
              "1  eNp9kW9PwjAQxr9LXw/sBmSwxDcmRowEFwQFjGnKerCGrs...   \n",
              "2  eNp9kVFPwjAUhf9LXx3QweJkiQ/qgySaYHCozJCmrHdbQ1...   \n",
              "3  eNp9kV9rwjAUxb9LXq0urTKxsJfJYOxh1eE2dUhIm2sTbG...   \n",
              "4  eNqdkVtPwkAQhf/LvlpwuYW0iQ+KD2gURIkGDNks7dCubZ...   \n",
              "\n",
              "                        created_at  \\\n",
              "0 2024-07-30 09:01:42.700012+00:00   \n",
              "1 2024-07-30 09:16:04.439816+00:00   \n",
              "2 2024-07-30 09:21:51.795841+00:00   \n",
              "3 2024-07-30 09:29:57.942690+00:00   \n",
              "4 2024-07-30 09:34:07.673203+00:00   \n",
              "\n",
              "                                   version_hash        _dlt_load_id  \\\n",
              "0  3ryk81R3QO6V52DWm/TQdyV2iap2BRmevzYcHInIq7o=  1722330101.7498035   \n",
              "1  pOpUXPxEfLnv50RHdGc21k17npPt2shXN8KPLYyYRZ4=  1722330964.0833151   \n",
              "2  X4TiZf3emGBHZRxs/UekZKYURnLh96f7Ta+0Y2SOAvw=  1722331311.4542563   \n",
              "3  C2XkOy+erOyhEQTPQ+XRJZN1hbq2mUY2YOssB9i6y1c=   1722331797.610587   \n",
              "4  rDHQOpvJvuYCBQzkAjRxkLYHlreMSd7+fYRiqz9NNIk=  1722332047.2697608   \n",
              "\n",
              "          _dlt_id  \n",
              "0  7FG7K+UjKN5kOg  \n",
              "1  ZBw2yBMiBTg3vA  \n",
              "2  anfzTXtTUiuIKw  \n",
              "3  IuU3rynqij5gIg  \n",
              "4  vOcAIREiySHGRQ  "
            ],
            "text/html": [
              "\n",
              "  <div id=\"df-cdf59085-b476-47b9-9192-275e5c22ed66\" class=\"colab-df-container\">\n",
              "    <div>\n",
              "<style scoped>\n",
              "    .dataframe tbody tr th:only-of-type {\n",
              "        vertical-align: middle;\n",
              "    }\n",
              "\n",
              "    .dataframe tbody tr th {\n",
              "        vertical-align: top;\n",
              "    }\n",
              "\n",
              "    .dataframe thead th {\n",
              "        text-align: right;\n",
              "    }\n",
              "</style>\n",
              "<table border=\"1\" class=\"dataframe\">\n",
              "  <thead>\n",
              "    <tr style=\"text-align: right;\">\n",
              "      <th></th>\n",
              "      <th>version</th>\n",
              "      <th>engine_version</th>\n",
              "      <th>pipeline_name</th>\n",
              "      <th>state</th>\n",
              "      <th>created_at</th>\n",
              "      <th>version_hash</th>\n",
              "      <th>_dlt_load_id</th>\n",
              "      <th>_dlt_id</th>\n",
              "    </tr>\n",
              "  </thead>\n",
              "  <tbody>\n",
              "    <tr>\n",
              "      <th>0</th>\n",
              "      <td>1</td>\n",
              "      <td>4</td>\n",
              "      <td>github_issues_merge</td>\n",
              "      <td>eNp9kUFPwkAQhf/LXi24bYFqEy/EgxzUQAhGDNkM7UBX2q...</td>\n",
              "      <td>2024-07-30 09:01:42.700012+00:00</td>\n",
              "      <td>3ryk81R3QO6V52DWm/TQdyV2iap2BRmevzYcHInIq7o=</td>\n",
              "      <td>1722330101.7498035</td>\n",
              "      <td>7FG7K+UjKN5kOg</td>\n",
              "    </tr>\n",
              "    <tr>\n",
              "      <th>1</th>\n",
              "      <td>2</td>\n",
              "      <td>4</td>\n",
              "      <td>github_issues_merge</td>\n",
              "      <td>eNp9kW9PwjAQxr9LXw/sBmSwxDcmRowEFwQFjGnKerCGrs...</td>\n",
              "      <td>2024-07-30 09:16:04.439816+00:00</td>\n",
              "      <td>pOpUXPxEfLnv50RHdGc21k17npPt2shXN8KPLYyYRZ4=</td>\n",
              "      <td>1722330964.0833151</td>\n",
              "      <td>ZBw2yBMiBTg3vA</td>\n",
              "    </tr>\n",
              "    <tr>\n",
              "      <th>2</th>\n",
              "      <td>3</td>\n",
              "      <td>4</td>\n",
              "      <td>github_issues_merge</td>\n",
              "      <td>eNp9kVFPwjAUhf9LXx3QweJkiQ/qgySaYHCozJCmrHdbQ1...</td>\n",
              "      <td>2024-07-30 09:21:51.795841+00:00</td>\n",
              "      <td>X4TiZf3emGBHZRxs/UekZKYURnLh96f7Ta+0Y2SOAvw=</td>\n",
              "      <td>1722331311.4542563</td>\n",
              "      <td>anfzTXtTUiuIKw</td>\n",
              "    </tr>\n",
              "    <tr>\n",
              "      <th>3</th>\n",
              "      <td>4</td>\n",
              "      <td>4</td>\n",
              "      <td>github_issues_merge</td>\n",
              "      <td>eNp9kV9rwjAUxb9LXq0urTKxsJfJYOxh1eE2dUhIm2sTbG...</td>\n",
              "      <td>2024-07-30 09:29:57.942690+00:00</td>\n",
              "      <td>C2XkOy+erOyhEQTPQ+XRJZN1hbq2mUY2YOssB9i6y1c=</td>\n",
              "      <td>1722331797.610587</td>\n",
              "      <td>IuU3rynqij5gIg</td>\n",
              "    </tr>\n",
              "    <tr>\n",
              "      <th>4</th>\n",
              "      <td>5</td>\n",
              "      <td>4</td>\n",
              "      <td>github_issues_merge</td>\n",
              "      <td>eNqdkVtPwkAQhf/LvlpwuYW0iQ+KD2gURIkGDNks7dCubZ...</td>\n",
              "      <td>2024-07-30 09:34:07.673203+00:00</td>\n",
              "      <td>rDHQOpvJvuYCBQzkAjRxkLYHlreMSd7+fYRiqz9NNIk=</td>\n",
              "      <td>1722332047.2697608</td>\n",
              "      <td>vOcAIREiySHGRQ</td>\n",
              "    </tr>\n",
              "  </tbody>\n",
              "</table>\n",
              "</div>\n",
              "    <div class=\"colab-df-buttons\">\n",
              "\n",
              "  <div class=\"colab-df-container\">\n",
              "    <button class=\"colab-df-convert\" onclick=\"convertToInteractive('df-cdf59085-b476-47b9-9192-275e5c22ed66')\"\n",
              "            title=\"Convert this dataframe to an interactive table.\"\n",
              "            style=\"display:none;\">\n",
              "\n",
              "  <svg xmlns=\"http://www.w3.org/2000/svg\" height=\"24px\" viewBox=\"0 -960 960 960\">\n",
              "    <path d=\"M120-120v-720h720v720H120Zm60-500h600v-160H180v160Zm220 220h160v-160H400v160Zm0 220h160v-160H400v160ZM180-400h160v-160H180v160Zm440 0h160v-160H620v160ZM180-180h160v-160H180v160Zm440 0h160v-160H620v160Z\"/>\n",
              "  </svg>\n",
              "    </button>\n",
              "\n",
              "  <style>\n",
              "    .colab-df-container {\n",
              "      display:flex;\n",
              "      gap: 12px;\n",
              "    }\n",
              "\n",
              "    .colab-df-convert {\n",
              "      background-color: #E8F0FE;\n",
              "      border: none;\n",
              "      border-radius: 50%;\n",
              "      cursor: pointer;\n",
              "      display: none;\n",
              "      fill: #1967D2;\n",
              "      height: 32px;\n",
              "      padding: 0 0 0 0;\n",
              "      width: 32px;\n",
              "    }\n",
              "\n",
              "    .colab-df-convert:hover {\n",
              "      background-color: #E2EBFA;\n",
              "      box-shadow: 0px 1px 2px rgba(60, 64, 67, 0.3), 0px 1px 3px 1px rgba(60, 64, 67, 0.15);\n",
              "      fill: #174EA6;\n",
              "    }\n",
              "\n",
              "    .colab-df-buttons div {\n",
              "      margin-bottom: 4px;\n",
              "    }\n",
              "\n",
              "    [theme=dark] .colab-df-convert {\n",
              "      background-color: #3B4455;\n",
              "      fill: #D2E3FC;\n",
              "    }\n",
              "\n",
              "    [theme=dark] .colab-df-convert:hover {\n",
              "      background-color: #434B5C;\n",
              "      box-shadow: 0px 1px 3px 1px rgba(0, 0, 0, 0.15);\n",
              "      filter: drop-shadow(0px 1px 2px rgba(0, 0, 0, 0.3));\n",
              "      fill: #FFFFFF;\n",
              "    }\n",
              "  </style>\n",
              "\n",
              "    <script>\n",
              "      const buttonEl =\n",
              "        document.querySelector('#df-cdf59085-b476-47b9-9192-275e5c22ed66 button.colab-df-convert');\n",
              "      buttonEl.style.display =\n",
              "        google.colab.kernel.accessAllowed ? 'block' : 'none';\n",
              "\n",
              "      async function convertToInteractive(key) {\n",
              "        const element = document.querySelector('#df-cdf59085-b476-47b9-9192-275e5c22ed66');\n",
              "        const dataTable =\n",
              "          await google.colab.kernel.invokeFunction('convertToInteractive',\n",
              "                                                    [key], {});\n",
              "        if (!dataTable) return;\n",
              "\n",
              "        const docLinkHtml = 'Like what you see? Visit the ' +\n",
              "          '<a target=\"_blank\" href=https://colab.research.google.com/notebooks/data_table.ipynb>data table notebook</a>'\n",
              "          + ' to learn more about interactive tables.';\n",
              "        element.innerHTML = '';\n",
              "        dataTable['output_type'] = 'display_data';\n",
              "        await google.colab.output.renderOutput(dataTable, element);\n",
              "        const docLink = document.createElement('div');\n",
              "        docLink.innerHTML = docLinkHtml;\n",
              "        element.appendChild(docLink);\n",
              "      }\n",
              "    </script>\n",
              "  </div>\n",
              "\n",
              "\n",
              "<div id=\"df-74f4d7f3-5173-4241-abab-1563a3ecd995\">\n",
              "  <button class=\"colab-df-quickchart\" onclick=\"quickchart('df-74f4d7f3-5173-4241-abab-1563a3ecd995')\"\n",
              "            title=\"Suggest charts\"\n",
              "            style=\"display:none;\">\n",
              "\n",
              "<svg xmlns=\"http://www.w3.org/2000/svg\" height=\"24px\"viewBox=\"0 0 24 24\"\n",
              "     width=\"24px\">\n",
              "    <g>\n",
              "        <path d=\"M19 3H5c-1.1 0-2 .9-2 2v14c0 1.1.9 2 2 2h14c1.1 0 2-.9 2-2V5c0-1.1-.9-2-2-2zM9 17H7v-7h2v7zm4 0h-2V7h2v10zm4 0h-2v-4h2v4z\"/>\n",
              "    </g>\n",
              "</svg>\n",
              "  </button>\n",
              "\n",
              "<style>\n",
              "  .colab-df-quickchart {\n",
              "      --bg-color: #E8F0FE;\n",
              "      --fill-color: #1967D2;\n",
              "      --hover-bg-color: #E2EBFA;\n",
              "      --hover-fill-color: #174EA6;\n",
              "      --disabled-fill-color: #AAA;\n",
              "      --disabled-bg-color: #DDD;\n",
              "  }\n",
              "\n",
              "  [theme=dark] .colab-df-quickchart {\n",
              "      --bg-color: #3B4455;\n",
              "      --fill-color: #D2E3FC;\n",
              "      --hover-bg-color: #434B5C;\n",
              "      --hover-fill-color: #FFFFFF;\n",
              "      --disabled-bg-color: #3B4455;\n",
              "      --disabled-fill-color: #666;\n",
              "  }\n",
              "\n",
              "  .colab-df-quickchart {\n",
              "    background-color: var(--bg-color);\n",
              "    border: none;\n",
              "    border-radius: 50%;\n",
              "    cursor: pointer;\n",
              "    display: none;\n",
              "    fill: var(--fill-color);\n",
              "    height: 32px;\n",
              "    padding: 0;\n",
              "    width: 32px;\n",
              "  }\n",
              "\n",
              "  .colab-df-quickchart:hover {\n",
              "    background-color: var(--hover-bg-color);\n",
              "    box-shadow: 0 1px 2px rgba(60, 64, 67, 0.3), 0 1px 3px 1px rgba(60, 64, 67, 0.15);\n",
              "    fill: var(--button-hover-fill-color);\n",
              "  }\n",
              "\n",
              "  .colab-df-quickchart-complete:disabled,\n",
              "  .colab-df-quickchart-complete:disabled:hover {\n",
              "    background-color: var(--disabled-bg-color);\n",
              "    fill: var(--disabled-fill-color);\n",
              "    box-shadow: none;\n",
              "  }\n",
              "\n",
              "  .colab-df-spinner {\n",
              "    border: 2px solid var(--fill-color);\n",
              "    border-color: transparent;\n",
              "    border-bottom-color: var(--fill-color);\n",
              "    animation:\n",
              "      spin 1s steps(1) infinite;\n",
              "  }\n",
              "\n",
              "  @keyframes spin {\n",
              "    0% {\n",
              "      border-color: transparent;\n",
              "      border-bottom-color: var(--fill-color);\n",
              "      border-left-color: var(--fill-color);\n",
              "    }\n",
              "    20% {\n",
              "      border-color: transparent;\n",
              "      border-left-color: var(--fill-color);\n",
              "      border-top-color: var(--fill-color);\n",
              "    }\n",
              "    30% {\n",
              "      border-color: transparent;\n",
              "      border-left-color: var(--fill-color);\n",
              "      border-top-color: var(--fill-color);\n",
              "      border-right-color: var(--fill-color);\n",
              "    }\n",
              "    40% {\n",
              "      border-color: transparent;\n",
              "      border-right-color: var(--fill-color);\n",
              "      border-top-color: var(--fill-color);\n",
              "    }\n",
              "    60% {\n",
              "      border-color: transparent;\n",
              "      border-right-color: var(--fill-color);\n",
              "    }\n",
              "    80% {\n",
              "      border-color: transparent;\n",
              "      border-right-color: var(--fill-color);\n",
              "      border-bottom-color: var(--fill-color);\n",
              "    }\n",
              "    90% {\n",
              "      border-color: transparent;\n",
              "      border-bottom-color: var(--fill-color);\n",
              "    }\n",
              "  }\n",
              "</style>\n",
              "\n",
              "  <script>\n",
              "    async function quickchart(key) {\n",
              "      const quickchartButtonEl =\n",
              "        document.querySelector('#' + key + ' button');\n",
              "      quickchartButtonEl.disabled = true;  // To prevent multiple clicks.\n",
              "      quickchartButtonEl.classList.add('colab-df-spinner');\n",
              "      try {\n",
              "        const charts = await google.colab.kernel.invokeFunction(\n",
              "            'suggestCharts', [key], {});\n",
              "      } catch (error) {\n",
              "        console.error('Error during call to suggestCharts:', error);\n",
              "      }\n",
              "      quickchartButtonEl.classList.remove('colab-df-spinner');\n",
              "      quickchartButtonEl.classList.add('colab-df-quickchart-complete');\n",
              "    }\n",
              "    (() => {\n",
              "      let quickchartButtonEl =\n",
              "        document.querySelector('#df-74f4d7f3-5173-4241-abab-1563a3ecd995 button');\n",
              "      quickchartButtonEl.style.display =\n",
              "        google.colab.kernel.accessAllowed ? 'block' : 'none';\n",
              "    })();\n",
              "  </script>\n",
              "</div>\n",
              "\n",
              "  <div id=\"id_b25c029e-e2c3-4d41-a7a5-4c29cdb6e28f\">\n",
              "    <style>\n",
              "      .colab-df-generate {\n",
              "        background-color: #E8F0FE;\n",
              "        border: none;\n",
              "        border-radius: 50%;\n",
              "        cursor: pointer;\n",
              "        display: none;\n",
              "        fill: #1967D2;\n",
              "        height: 32px;\n",
              "        padding: 0 0 0 0;\n",
              "        width: 32px;\n",
              "      }\n",
              "\n",
              "      .colab-df-generate:hover {\n",
              "        background-color: #E2EBFA;\n",
              "        box-shadow: 0px 1px 2px rgba(60, 64, 67, 0.3), 0px 1px 3px 1px rgba(60, 64, 67, 0.15);\n",
              "        fill: #174EA6;\n",
              "      }\n",
              "\n",
              "      [theme=dark] .colab-df-generate {\n",
              "        background-color: #3B4455;\n",
              "        fill: #D2E3FC;\n",
              "      }\n",
              "\n",
              "      [theme=dark] .colab-df-generate:hover {\n",
              "        background-color: #434B5C;\n",
              "        box-shadow: 0px 1px 3px 1px rgba(0, 0, 0, 0.15);\n",
              "        filter: drop-shadow(0px 1px 2px rgba(0, 0, 0, 0.3));\n",
              "        fill: #FFFFFF;\n",
              "      }\n",
              "    </style>\n",
              "    <button class=\"colab-df-generate\" onclick=\"generateWithVariable('stats_table')\"\n",
              "            title=\"Generate code using this dataframe.\"\n",
              "            style=\"display:none;\">\n",
              "\n",
              "  <svg xmlns=\"http://www.w3.org/2000/svg\" height=\"24px\"viewBox=\"0 0 24 24\"\n",
              "       width=\"24px\">\n",
              "    <path d=\"M7,19H8.4L18.45,9,17,7.55,7,17.6ZM5,21V16.75L18.45,3.32a2,2,0,0,1,2.83,0l1.4,1.43a1.91,1.91,0,0,1,.58,1.4,1.91,1.91,0,0,1-.58,1.4L9.25,21ZM18.45,9,17,7.55Zm-12,3A5.31,5.31,0,0,0,4.9,8.1,5.31,5.31,0,0,0,1,6.5,5.31,5.31,0,0,0,4.9,4.9,5.31,5.31,0,0,0,6.5,1,5.31,5.31,0,0,0,8.1,4.9,5.31,5.31,0,0,0,12,6.5,5.46,5.46,0,0,0,6.5,12Z\"/>\n",
              "  </svg>\n",
              "    </button>\n",
              "    <script>\n",
              "      (() => {\n",
              "      const buttonEl =\n",
              "        document.querySelector('#id_b25c029e-e2c3-4d41-a7a5-4c29cdb6e28f button.colab-df-generate');\n",
              "      buttonEl.style.display =\n",
              "        google.colab.kernel.accessAllowed ? 'block' : 'none';\n",
              "\n",
              "      buttonEl.onclick = () => {\n",
              "        google.colab.notebook.generateWithVariable('stats_table');\n",
              "      }\n",
              "      })();\n",
              "    </script>\n",
              "  </div>\n",
              "\n",
              "    </div>\n",
              "  </div>\n"
            ],
            "application/vnd.google.colaboratory.intrinsic+json": {
              "type": "dataframe",
              "variable_name": "stats_table",
              "summary": "{\n  \"name\": \"stats_table\",\n  \"rows\": 5,\n  \"fields\": [\n    {\n      \"column\": \"version\",\n      \"properties\": {\n        \"dtype\": \"number\",\n        \"std\": 1,\n        \"min\": 1,\n        \"max\": 5,\n        \"num_unique_values\": 5,\n        \"samples\": [\n          2,\n          5,\n          3\n        ],\n        \"semantic_type\": \"\",\n        \"description\": \"\"\n      }\n    },\n    {\n      \"column\": \"engine_version\",\n      \"properties\": {\n        \"dtype\": \"number\",\n        \"std\": 0,\n        \"min\": 4,\n        \"max\": 4,\n        \"num_unique_values\": 1,\n        \"samples\": [\n          4\n        ],\n        \"semantic_type\": \"\",\n        \"description\": \"\"\n      }\n    },\n    {\n      \"column\": \"pipeline_name\",\n      \"properties\": {\n        \"dtype\": \"category\",\n        \"num_unique_values\": 1,\n        \"samples\": [\n          \"github_issues_merge\"\n        ],\n        \"semantic_type\": \"\",\n        \"description\": \"\"\n      }\n    },\n    {\n      \"column\": \"state\",\n      \"properties\": {\n        \"dtype\": \"string\",\n        \"num_unique_values\": 5,\n        \"samples\": [\n          \"eNp9kW9PwjAQxr9LXw/sBmSwxDcmRowEFwQFjGnKerCGrsz1SiTE727LP6cxNvfmnueXy3PXPWEGOQLbQmXkRpMkCs4S6JXUNacdEMGRG0CmeQEkISuJuV0wr7ICqhWQgJgsh4IfCEOS1zMjjbFgTtSbmwRLbhWyGv498AcckFKWoHyUfykBBqXm6LIy3JUeFAqbNdk0hc3WYvELPk29eOeNWc5N7ozysZxM04/b5UBvO3TUF3dZFK7DWJcpRiafDrsP6WC2m43m7Wt/gI2tMr/7/s+gTq6gzrhzHgHfSZ1VUIBGrnxrS3dbEIzj0ZQouWJbrqxPHPZi2qChqzGlyaHmLoDiBi9MRKN2g8aNFh3TXkK7SdjzjNXy3cJhw9M39a/G8XD6MmnJ58FT2hH32Q15+zy+L1xHwF4=\"\n        ],\n        \"semantic_type\": \"\",\n        \"description\": \"\"\n      }\n    },\n    {\n      \"column\": \"created_at\",\n      \"properties\": {\n        \"dtype\": \"date\",\n        \"min\": \"2024-07-30 09:01:42.700012+00:00\",\n        \"max\": \"2024-07-30 09:34:07.673203+00:00\",\n        \"num_unique_values\": 5,\n        \"samples\": [\n          \"2024-07-30 09:16:04.439816+00:00\"\n        ],\n        \"semantic_type\": \"\",\n        \"description\": \"\"\n      }\n    },\n    {\n      \"column\": \"version_hash\",\n      \"properties\": {\n        \"dtype\": \"string\",\n        \"num_unique_values\": 5,\n        \"samples\": [\n          \"pOpUXPxEfLnv50RHdGc21k17npPt2shXN8KPLYyYRZ4=\"\n        ],\n        \"semantic_type\": \"\",\n        \"description\": \"\"\n      }\n    },\n    {\n      \"column\": \"_dlt_load_id\",\n      \"properties\": {\n        \"dtype\": \"string\",\n        \"num_unique_values\": 5,\n        \"samples\": [\n          \"1722330964.0833151\"\n        ],\n        \"semantic_type\": \"\",\n        \"description\": \"\"\n      }\n    },\n    {\n      \"column\": \"_dlt_id\",\n      \"properties\": {\n        \"dtype\": \"string\",\n        \"num_unique_values\": 5,\n        \"samples\": [\n          \"ZBw2yBMiBTg3vA\"\n        ],\n        \"semantic_type\": \"\",\n        \"description\": \"\"\n      }\n    }\n  ]\n}"
            },
            "application/vnd.google.colaboratory.module+javascript": "\n      import \"https://ssl.gstatic.com/colaboratory/data_table/f565ec32c7e6656f/data_table.js\";\n\n      const table = window.createDataTable({\n        data: [[{\n            'v': 0,\n            'f': \"0\",\n        },\n{\n            'v': 1,\n            'f': \"1\",\n        },\n{\n            'v': 4,\n            'f': \"4\",\n        },\n\"github_issues_merge\",\n\"eNp9kUFPwkAQhf/LXi24bYFqEy/EgxzUQAhGDNkM7UBX2qV0Z1Ek/nd3KWA1xs1c5r0vkzezeyY0AaHYYqXlWrHY904SqqVUDafjsRQINJJQUCCL2VJSZubCqaLAaonMYzrJsIADoVn8cmKk1gb1kZrZSbgAk5No4N8Df8AeK2WJuYvyL5WiJqmAbFZBu9KBaU7thqzbqUlW6fwXfJx69k4biwx0Zo2w2q2u/FE4fOxNusHtU3E5Hqa7SSChDPqjArcfz8ndQA020frGHWBtqsTtvv8zqJUrbDL2nDXgOqmSCgtUBLlrTWlvi6kAqk1JEnKxhdy4xP51xFvctzXmPD7U1AbIQdOZCXjQafGoFfIxv4rDXsx7jjFKbgweNqy/SXcH7/23YXS/oAuKHqavYQfY7LN+XzkzwJ4=\",\n\"2024-07-30 09:01:42.700012+00:00\",\n\"3ryk81R3QO6V52DWm/TQdyV2iap2BRmevzYcHInIq7o=\",\n\"1722330101.7498035\",\n\"7FG7K+UjKN5kOg\"],\n [{\n            'v': 1,\n            'f': \"1\",\n        },\n{\n            'v': 2,\n            'f': \"2\",\n        },\n{\n            'v': 4,\n            'f': \"4\",\n        },\n\"github_issues_merge\",\n\"eNp9kW9PwjAQxr9LXw/sBmSwxDcmRowEFwQFjGnKerCGrsz1SiTE727LP6cxNvfmnueXy3PXPWEGOQLbQmXkRpMkCs4S6JXUNacdEMGRG0CmeQEkISuJuV0wr7ICqhWQgJgsh4IfCEOS1zMjjbFgTtSbmwRLbhWyGv498AcckFKWoHyUfykBBqXm6LIy3JUeFAqbNdk0hc3WYvELPk29eOeNWc5N7ozysZxM04/b5UBvO3TUF3dZFK7DWJcpRiafDrsP6WC2m43m7Wt/gI2tMr/7/s+gTq6gzrhzHgHfSZ1VUIBGrnxrS3dbEIzj0ZQouWJbrqxPHPZi2qChqzGlyaHmLoDiBi9MRKN2g8aNFh3TXkK7SdjzjNXy3cJhw9M39a/G8XD6MmnJ58FT2hH32Q15+zy+L1xHwF4=\",\n\"2024-07-30 09:16:04.439816+00:00\",\n\"pOpUXPxEfLnv50RHdGc21k17npPt2shXN8KPLYyYRZ4=\",\n\"1722330964.0833151\",\n\"ZBw2yBMiBTg3vA\"],\n [{\n            'v': 2,\n            'f': \"2\",\n        },\n{\n            'v': 3,\n            'f': \"3\",\n        },\n{\n            'v': 4,\n            'f': \"4\",\n        },\n\"github_issues_merge\",\n\"eNp9kVFPwjAUhf9LXx3QweJkiQ/qgySaYHCozJCmrHdbQ1fm2oKE8N9tGeA0xua+3Hu/nJxzu0NEaaqBrKFWfCVRNPBOI5A5l61N4CFGNVWgiaQloAjlXBdmQdyUlFDngDyk0gJKeiAUit5PDFfKgDpSc6sEGTVCkxb+LfgD9lDFKxDOyr8UA6W5pNp6JXpbOZAJ3W2NVZeZdMkWv+Cj6nl3SkwKqgq7eAtinmQDKO9vR8nkU/WmsEweZtOJfCyGl1kY0ws86z+Pb9aba3eAlalTl333p1E7rqHN2HM2gOu4TGsoQWoqXGsqe1tghOpmyTWngqypMM6xPwxxB/u2YoyjQyXWgKBKn5k+7gcdHHYGOMbDyL+K/NAxRvIPA4eEzTf1XsMgeSr8xUt1l+PxyDos0Hy/95CEDVnC1kEZr8/SNiikK8mOrUXt+wIVF88y\",\n\"2024-07-30 09:21:51.795841+00:00\",\n\"X4TiZf3emGBHZRxs/UekZKYURnLh96f7Ta+0Y2SOAvw=\",\n\"1722331311.4542563\",\n\"anfzTXtTUiuIKw\"],\n [{\n            'v': 3,\n            'f': \"3\",\n        },\n{\n            'v': 4,\n            'f': \"4\",\n        },\n{\n            'v': 4,\n            'f': \"4\",\n        },\n\"github_issues_merge\",\n\"eNp9kV9rwjAUxb9LXq0urTKxsJfJYOxh1eE2dUhIm2sTbGPNH0cRv/sStZ0bYyEv995fDufcHBDRhhoge1BabCWKB0HTApkL+XPCqKEaDJG0BBSjXBhuU+K7pASVAwqQzjiU9ERoFH80jNDagr5QK6cEa2oLQ67wb8EfcIAqUUHhrfxLMdBGSGqcV2LqyoOsML2rtu4xm21Y+gu+qLazJjHhVHM3GEfzTVJ3QCU1f5jOJtPO/OVp+RzydBeVr4tokWh9PxK3dZjd+QVsrcp89sOfRl1bwTXj1nkGfCVkpqAEaWjhS1u53QIj1JyHwghakD0trHccjoa4i0N3ZxjHp7t0BgqqTctEOBp08bDbxzM8iqP+hbFS7CycEp6/6eZ9OFhOeJi+VeMcJ4/OIUer4zFAEj7JBmoPrYVqpV1QyLaStaXhQjWVe+jOF59b1Eo=\",\n\"2024-07-30 09:29:57.942690+00:00\",\n\"C2XkOy+erOyhEQTPQ+XRJZN1hbq2mUY2YOssB9i6y1c=\",\n\"1722331797.610587\",\n\"IuU3rynqij5gIg\"],\n [{\n            'v': 4,\n            'f': \"4\",\n        },\n{\n            'v': 5,\n            'f': \"5\",\n        },\n{\n            'v': 4,\n            'f': \"4\",\n        },\n\"github_issues_merge\",\n\"eNqdkVtPwkAQhf/LvlpwuYW0iQ+KD2gURIkGDNks7dCubZeylyoQ/ru7hdZqjA8m8zIz356cM7tHRCqqgOQgJFtz5PWccgQ8ZLy26ToooIpKUITTFJCHQqYivSR2SlIQISAHST+ClBaERN5ryTApNcgTtTBKsKI6UaSGfwl+gx2UsQwSa+VPKgCpGKfKeCVqm1kwSFSzNpbNQPtxsPwBn1SrXZmYRFRGZiGuh5Nxlt/meja4muziy7fHj/huNkwE3D8F/bPV7JFtdu5odBNf2AOstfBt9v2vRs1YQJ0x5zwCtmPcF5ACVzSxrc7MbSEgVB2XTDGakJwm2jpuuX3cwC1TU4y9oubGQEKlqpg2bncbuN/o4Cl2vU7b67mW0ZxtNBQJj990/tLvzh+i1vI5G4R4PDQOI7Q4HBzE4Z3EsLXQiolK2gQFf82DqlURE2VXPJTrIiX5p8DhEzEi7HA=\",\n\"2024-07-30 09:34:07.673203+00:00\",\n\"rDHQOpvJvuYCBQzkAjRxkLYHlreMSd7+fYRiqz9NNIk=\",\n\"1722332047.2697608\",\n\"vOcAIREiySHGRQ\"]],\n        columns: [[\"number\", \"index\"], [\"number\", \"version\"], [\"number\", \"engine_version\"], [\"string\", \"pipeline_name\"], [\"string\", \"state\"], [\"string\", \"created_at\"], [\"string\", \"version_hash\"], [\"string\", \"_dlt_load_id\"], [\"string\", \"_dlt_id\"]],\n        columnOptions: [{\"width\": \"1px\", \"className\": \"index_column\"}],\n        rowsPerPage: 25,\n        helpUrl: \"https://colab.research.google.com/notebooks/data_table.ipynb\",\n        suppressOutputScrolling: true,\n        minimumWidth: undefined,\n      });\n\n      function appendQuickchartButton(parentElement) {\n        let quickchartButtonContainerElement = document.createElement('div');\n        quickchartButtonContainerElement.innerHTML = `\n<div id=\"df-16af371e-e043-4bd2-b697-6c6b76cfb010\">\n  <button class=\"colab-df-quickchart\" onclick=\"quickchart('df-16af371e-e043-4bd2-b697-6c6b76cfb010')\"\n            title=\"Suggest charts\"\n            style=\"display:none;\">\n    \n<svg xmlns=\"http://www.w3.org/2000/svg\" height=\"24px\"viewBox=\"0 0 24 24\"\n     width=\"24px\">\n    <g>\n        <path d=\"M19 3H5c-1.1 0-2 .9-2 2v14c0 1.1.9 2 2 2h14c1.1 0 2-.9 2-2V5c0-1.1-.9-2-2-2zM9 17H7v-7h2v7zm4 0h-2V7h2v10zm4 0h-2v-4h2v4z\"/>\n    </g>\n</svg>\n  </button>\n  \n<style>\n  .colab-df-quickchart {\n      --bg-color: #E8F0FE;\n      --fill-color: #1967D2;\n      --hover-bg-color: #E2EBFA;\n      --hover-fill-color: #174EA6;\n      --disabled-fill-color: #AAA;\n      --disabled-bg-color: #DDD;\n  }\n\n  [theme=dark] .colab-df-quickchart {\n      --bg-color: #3B4455;\n      --fill-color: #D2E3FC;\n      --hover-bg-color: #434B5C;\n      --hover-fill-color: #FFFFFF;\n      --disabled-bg-color: #3B4455;\n      --disabled-fill-color: #666;\n  }\n\n  .colab-df-quickchart {\n    background-color: var(--bg-color);\n    border: none;\n    border-radius: 50%;\n    cursor: pointer;\n    display: none;\n    fill: var(--fill-color);\n    height: 32px;\n    padding: 0;\n    width: 32px;\n  }\n\n  .colab-df-quickchart:hover {\n    background-color: var(--hover-bg-color);\n    box-shadow: 0 1px 2px rgba(60, 64, 67, 0.3), 0 1px 3px 1px rgba(60, 64, 67, 0.15);\n    fill: var(--button-hover-fill-color);\n  }\n\n  .colab-df-quickchart-complete:disabled,\n  .colab-df-quickchart-complete:disabled:hover {\n    background-color: var(--disabled-bg-color);\n    fill: var(--disabled-fill-color);\n    box-shadow: none;\n  }\n\n  .colab-df-spinner {\n    border: 2px solid var(--fill-color);\n    border-color: transparent;\n    border-bottom-color: var(--fill-color);\n    animation:\n      spin 1s steps(1) infinite;\n  }\n\n  @keyframes spin {\n    0% {\n      border-color: transparent;\n      border-bottom-color: var(--fill-color);\n      border-left-color: var(--fill-color);\n    }\n    20% {\n      border-color: transparent;\n      border-left-color: var(--fill-color);\n      border-top-color: var(--fill-color);\n    }\n    30% {\n      border-color: transparent;\n      border-left-color: var(--fill-color);\n      border-top-color: var(--fill-color);\n      border-right-color: var(--fill-color);\n    }\n    40% {\n      border-color: transparent;\n      border-right-color: var(--fill-color);\n      border-top-color: var(--fill-color);\n    }\n    60% {\n      border-color: transparent;\n      border-right-color: var(--fill-color);\n    }\n    80% {\n      border-color: transparent;\n      border-right-color: var(--fill-color);\n      border-bottom-color: var(--fill-color);\n    }\n    90% {\n      border-color: transparent;\n      border-bottom-color: var(--fill-color);\n    }\n  }\n</style>\n\n  <script>\n    async function quickchart(key) {\n      const quickchartButtonEl =\n        document.querySelector('#' + key + ' button');\n      quickchartButtonEl.disabled = true;  // To prevent multiple clicks.\n      quickchartButtonEl.classList.add('colab-df-spinner');\n      try {\n        const charts = await google.colab.kernel.invokeFunction(\n            'suggestCharts', [key], {});\n      } catch (error) {\n        console.error('Error during call to suggestCharts:', error);\n      }\n      quickchartButtonEl.classList.remove('colab-df-spinner');\n      quickchartButtonEl.classList.add('colab-df-quickchart-complete');\n    }\n    (() => {\n      let quickchartButtonEl =\n        document.querySelector('#df-16af371e-e043-4bd2-b697-6c6b76cfb010 button');\n      quickchartButtonEl.style.display =\n        google.colab.kernel.accessAllowed ? 'block' : 'none';\n    })();\n  </script>\n</div>`;\n        parentElement.appendChild(quickchartButtonContainerElement);\n      }\n\n      appendQuickchartButton(table);\n    "
          },
          "metadata": {}
        }
      ]
    },
    {
      "cell_type": "markdown",
      "source": [
        "Column \"state\" is compressed json dictionary."
      ],
      "metadata": {
        "id": "YWWhVRmFfQqB"
      }
    },
    {
      "cell_type": "code",
      "source": [
        "!dlt --non-interactive pipeline github_issues_merge sync"
      ],
      "metadata": {
        "colab": {
          "base_uri": "https://localhost:8080/"
        },
        "id": "DHjfwV90EWYG",
        "outputId": "9bd08c65-013d-40e6-8677-7ec379ce727f"
      },
      "execution_count": null,
      "outputs": [
        {
          "output_type": "stream",
          "name": "stdout",
          "text": [
            "usage: dlt pipeline [-h] [--list-pipelines] [--hot-reload] [--pipelines-dir PIPELINES_DIR]\n",
            "                    [--verbose]\n",
            "                    [pipeline_name]\n",
            "                    {info,show,failed-jobs,drop-pending-packages,sync,trace,schema,drop,load-package}\n",
            "                    ...\n"
          ]
        }
      ]
    },
    {
      "cell_type": "code",
      "source": [
        "print(read_state(\"/var/dlt/pipelines/github_issues_merge/state.json\"))"
      ],
      "metadata": {
        "colab": {
          "base_uri": "https://localhost:8080/"
        },
        "id": "SXEGHYlmFLYQ",
        "outputId": "b0f5a4cf-7073-43f3-d823-18c48113ee81"
      },
      "execution_count": null,
      "outputs": [
        {
          "output_type": "stream",
          "name": "stdout",
          "text": [
            "{\n",
            "    \"_state_version\": 4,\n",
            "    \"_state_engine_version\": 4,\n",
            "    \"_local\": {\n",
            "        \"first_run\": false,\n",
            "        \"_last_extracted_at\": \"\\uf0272024-07-30T09:34:07.885072+00:00\",\n",
            "        \"_last_extracted_hash\": \"rDHQOpvJvuYCBQzkAjRxkLYHlreMSd7+fYRiqz9NNIk=\"\n",
            "    },\n",
            "    \"dataset_name\": \"github_data_merge\",\n",
            "    \"schema_names\": [\n",
            "        \"github_issues_merge\"\n",
            "    ],\n",
            "    \"default_schema_name\": \"github_issues_merge\",\n",
            "    \"pipeline_name\": \"github_issues_merge\",\n",
            "    \"destination_type\": \"dlt.destinations.duckdb\",\n",
            "    \"destination_name\": \"duckdb\",\n",
            "    \"_version_hash\": \"rDHQOpvJvuYCBQzkAjRxkLYHlreMSd7+fYRiqz9NNIk=\",\n",
            "    \"sources\": {\n",
            "        \"github_issues_merge\": {\n",
            "            \"resources\": {\n",
            "                \"get_issues\": {\n",
            "                    \"incremental\": {\n",
            "                        \"updated_at\": {\n",
            "                            \"initial_value\": \"1970-01-01T00:00:00Z\",\n",
            "                            \"last_value\": \"2024-07-30T09:32:59Z\",\n",
            "                            \"unique_hashes\": [\n",
            "                                \"/W74ZPh1bVpCg0OHsouh\"\n",
            "                            ]\n",
            "                        }\n",
            "                    },\n",
            "                    \"new_key\": [\n",
            "                        \"first_value\",\n",
            "                        \"second_value\",\n",
            "                        \"third_value\"\n",
            "                    ]\n",
            "                }\n",
            "            },\n",
            "            \"soource_new_key\": [\n",
            "                \"first_value\",\n",
            "                \"second_value\",\n",
            "                \"third_value\"\n",
            "            ]\n",
            "        }\n",
            "    }\n",
            "}\n"
          ]
        }
      ]
    },
    {
      "cell_type": "markdown",
      "source": [
        "## Reset the pipeline state: full or partial\n",
        "**To fully reset the state:**\n",
        "\n",
        "Drop the destination dataset to fully reset the pipeline.\n",
        "Set the `dev_mode` flag when creating pipeline.\n",
        "Use the `dlt pipeline drop --drop-all` command to drop state and tables for a given schema name.\n",
        "\n",
        "**To partially reset the state:**\n",
        "\n",
        "Use the `dlt pipeline drop <resource_name>` command to drop state and tables for a given resource.\n",
        "Use the `dlt pipeline drop --state-paths` command to reset the state at given path without touching the tables and data."
      ],
      "metadata": {
        "id": "dy8V7I6Em1Te"
      }
    },
    {
      "cell_type": "code",
      "source": [],
      "metadata": {
        "id": "d-SwyHgteZxZ"
      },
      "execution_count": null,
      "outputs": []
    },
    {
      "cell_type": "markdown",
      "source": [
        "# Trace"
      ],
      "metadata": {
        "id": "9NSV21f9muZG"
      }
    },
    {
      "cell_type": "code",
      "source": [
        "pipeline = dlt.pipeline(\n",
        "    pipeline_name=\"github_issues_merge_trace\",\n",
        "    destination=\"duckdb\",\n",
        "    dataset_name=\"github_data_merge_trace\",\n",
        ")\n",
        "load_info = pipeline.run(get_issues)\n",
        "print(load_info)"
      ],
      "metadata": {
        "colab": {
          "base_uri": "https://localhost:8080/"
        },
        "id": "E0h-d87OpTFg",
        "outputId": "ddcc8615-736a-47c2-d9ba-cde428f2abf0"
      },
      "execution_count": null,
      "outputs": [
        {
          "output_type": "stream",
          "name": "stdout",
          "text": [
            "{'fifth_value': 'sixth_value'}\n",
            "Pipeline github_issues_merge_trace load step completed in 1.98 seconds\n",
            "1 load package(s) were loaded to destination duckdb and into dataset github_data_merge_trace\n",
            "The duckdb destination used duckdb:////content/github_issues_merge_trace.duckdb location to store data\n",
            "Load package 1722343054.148941 is LOADED and contains no failed jobs\n"
          ]
        }
      ]
    },
    {
      "cell_type": "markdown",
      "source": [
        "## Inspect trace"
      ],
      "metadata": {
        "id": "wjdE9cuco5uA"
      }
    },
    {
      "cell_type": "markdown",
      "source": [
        "### CLI"
      ],
      "metadata": {
        "id": "nSKw104Corl6"
      }
    },
    {
      "cell_type": "markdown",
      "source": [
        "dlt stores the trace of the most recent data load. The trace contains information on the pipeline processing steps: extract, normalize, and load. It also shows the last load_info. You can access this information using the command `dlt pipeline <pipeline_name> trace`."
      ],
      "metadata": {
        "id": "9gV_XLvnniMc"
      }
    },
    {
      "cell_type": "code",
      "source": [
        "!dlt pipeline github_issues_merge_trace trace"
      ],
      "metadata": {
        "colab": {
          "base_uri": "https://localhost:8080/"
        },
        "id": "V01fuTkbhWd0",
        "outputId": "a6e249d8-5da4-47bb-e441-fd9f206c2784"
      },
      "execution_count": null,
      "outputs": [
        {
          "output_type": "stream",
          "name": "stdout",
          "text": [
            "Found pipeline \u001b[1mgithub_issues_merge_trace\u001b[0m in \u001b[1m/var/dlt/pipelines\u001b[0m\n",
            "Run started at 2024-07-30 12:37:34.049247+00:00 and COMPLETED in 4.17 seconds with 4 steps.\n",
            "Step extract COMPLETED in 1.41 seconds.\n",
            "\n",
            "Load package 1722343054.148941 is EXTRACTED and NOT YET LOADED to the destination and contains no failed jobs\n",
            "\n",
            "Step normalize COMPLETED in 0.58 seconds.\n",
            "Normalized data for the following tables:\n",
            "- _dlt_pipeline_state: 1 row(s)\n",
            "- issues: 169 row(s)\n",
            "- issues__labels: 112 row(s)\n",
            "- issues__assignees: 75 row(s)\n",
            "- issues__performed_via_github_app__events: 25 row(s)\n",
            "\n",
            "Load package 1722343054.148941 is NORMALIZED and NOT YET LOADED to the destination and contains no failed jobs\n",
            "\n",
            "Step load COMPLETED in 2.08 seconds.\n",
            "Pipeline github_issues_merge_trace load step completed in 1.98 seconds\n",
            "1 load package(s) were loaded to destination duckdb and into dataset github_data_merge_trace\n",
            "The duckdb destination used duckdb:////content/github_issues_merge_trace.duckdb location to store data\n",
            "Load package 1722343054.148941 is LOADED and contains no failed jobs\n",
            "\n",
            "Step run COMPLETED in 4.17 seconds.\n",
            "Pipeline github_issues_merge_trace load step completed in 1.98 seconds\n",
            "1 load package(s) were loaded to destination duckdb and into dataset github_data_merge_trace\n",
            "The duckdb destination used duckdb:////content/github_issues_merge_trace.duckdb location to store data\n",
            "Load package 1722343054.148941 is LOADED and contains no failed jobs\n"
          ]
        }
      ]
    },
    {
      "cell_type": "markdown",
      "source": [
        "### Python"
      ],
      "metadata": {
        "id": "5n-5HyM5ovku"
      }
    },
    {
      "cell_type": "code",
      "source": [
        "# print human friendly trace information\n",
        "print(pipeline.last_trace)"
      ],
      "metadata": {
        "id": "IcYAo4sehXlS",
        "colab": {
          "base_uri": "https://localhost:8080/"
        },
        "outputId": "f5e77bbc-110a-43b9-fd46-3e52faf98f9f"
      },
      "execution_count": null,
      "outputs": [
        {
          "output_type": "stream",
          "name": "stdout",
          "text": [
            "Run started at 2024-07-30 12:37:34.049247+00:00 and COMPLETED in 4.17 seconds with 4 steps.\n",
            "Step extract COMPLETED in 1.41 seconds.\n",
            "\n",
            "Load package 1722343054.148941 is EXTRACTED and NOT YET LOADED to the destination and contains no failed jobs\n",
            "\n",
            "Step normalize COMPLETED in 0.58 seconds.\n",
            "Normalized data for the following tables:\n",
            "- _dlt_pipeline_state: 1 row(s)\n",
            "- issues: 169 row(s)\n",
            "- issues__labels: 112 row(s)\n",
            "- issues__assignees: 75 row(s)\n",
            "- issues__performed_via_github_app__events: 25 row(s)\n",
            "\n",
            "Load package 1722343054.148941 is NORMALIZED and NOT YET LOADED to the destination and contains no failed jobs\n",
            "\n",
            "Step load COMPLETED in 2.08 seconds.\n",
            "Pipeline github_issues_merge_trace load step completed in 1.98 seconds\n",
            "1 load package(s) were loaded to destination duckdb and into dataset github_data_merge_trace\n",
            "The duckdb destination used duckdb:////content/github_issues_merge_trace.duckdb location to store data\n",
            "Load package 1722343054.148941 is LOADED and contains no failed jobs\n",
            "\n",
            "Step run COMPLETED in 4.17 seconds.\n",
            "Pipeline github_issues_merge_trace load step completed in 1.98 seconds\n",
            "1 load package(s) were loaded to destination duckdb and into dataset github_data_merge_trace\n",
            "The duckdb destination used duckdb:////content/github_issues_merge_trace.duckdb location to store data\n",
            "Load package 1722343054.148941 is LOADED and contains no failed jobs\n"
          ]
        }
      ]
    },
    {
      "cell_type": "code",
      "source": [
        "# print human friendly extract information\n",
        "print(pipeline.last_trace.last_extract_info)"
      ],
      "metadata": {
        "colab": {
          "base_uri": "https://localhost:8080/"
        },
        "id": "cFVLI1xgpBhu",
        "outputId": "dfe56cf5-c78f-4b71-d4e3-efccad84daf9"
      },
      "execution_count": null,
      "outputs": [
        {
          "output_type": "stream",
          "name": "stdout",
          "text": [
            "\n",
            "Load package 1722343054.148941 is EXTRACTED and NOT YET LOADED to the destination and contains no failed jobs\n"
          ]
        }
      ]
    },
    {
      "cell_type": "code",
      "source": [
        "# print human friendly normalization information\n",
        "print(pipeline.last_trace.last_normalize_info)"
      ],
      "metadata": {
        "colab": {
          "base_uri": "https://localhost:8080/"
        },
        "id": "6-QcXox7pG9d",
        "outputId": "330c0a0e-85ca-4179-e707-3dfb95cac520"
      },
      "execution_count": null,
      "outputs": [
        {
          "output_type": "stream",
          "name": "stdout",
          "text": [
            "Normalized data for the following tables:\n",
            "- _dlt_pipeline_state: 1 row(s)\n",
            "- issues: 169 row(s)\n",
            "- issues__labels: 112 row(s)\n",
            "- issues__assignees: 75 row(s)\n",
            "- issues__performed_via_github_app__events: 25 row(s)\n",
            "\n",
            "Load package 1722343054.148941 is NORMALIZED and NOT YET LOADED to the destination and contains no failed jobs\n"
          ]
        }
      ]
    },
    {
      "cell_type": "code",
      "source": [
        " # access row counts dictionary of normalize info\n",
        "print(pipeline.last_trace.last_normalize_info.row_counts)"
      ],
      "metadata": {
        "colab": {
          "base_uri": "https://localhost:8080/"
        },
        "id": "KV_PvAFppk2f",
        "outputId": "ca4a7331-d526-4291-a742-55fea15cd7be"
      },
      "execution_count": null,
      "outputs": [
        {
          "output_type": "stream",
          "name": "stdout",
          "text": [
            "{'_dlt_pipeline_state': 1, 'issues': 169, 'issues__labels': 112, 'issues__assignees': 75, 'issues__performed_via_github_app__events': 25}\n"
          ]
        }
      ]
    },
    {
      "cell_type": "code",
      "source": [
        "# print human friendly load information\n",
        "print(pipeline.last_trace.last_load_info)"
      ],
      "metadata": {
        "colab": {
          "base_uri": "https://localhost:8080/"
        },
        "id": "19e4vnHppm7g",
        "outputId": "66791743-9ede-4ad9-abbc-0fa3449e02f5"
      },
      "execution_count": null,
      "outputs": [
        {
          "output_type": "stream",
          "name": "stdout",
          "text": [
            "Pipeline github_issues_merge_trace load step completed in 1.98 seconds\n",
            "1 load package(s) were loaded to destination duckdb and into dataset github_data_merge_trace\n",
            "The duckdb destination used duckdb:////content/github_issues_merge_trace.duckdb location to store data\n",
            "Load package 1722343054.148941 is LOADED and contains no failed jobs\n"
          ]
        }
      ]
    },
    {
      "cell_type": "code",
      "source": [],
      "metadata": {
        "id": "m67uswooprzJ"
      },
      "execution_count": null,
      "outputs": []
    },
    {
      "cell_type": "markdown",
      "source": [
        "### Python\n",
        "\n",
        "You can access all this information in your pipeline script, save `load_info` and trace to the destination etc.\n",
        "\n",
        "For each load, you can test and alert on anomalies (e.g., no data, too much loaded to a table).\n",
        "\n",
        "You can save complete lineage info for a particular `load_id` including a list of loaded files, error messages (if any), elapsed times, schema changes. This can be helpful, for example, when troubleshooting problems."
      ],
      "metadata": {
        "id": "hnum-cCAsx3o"
      }
    },
    {
      "cell_type": "code",
      "source": [
        "print(load_info.load_packages[0])"
      ],
      "metadata": {
        "colab": {
          "base_uri": "https://localhost:8080/"
        },
        "id": "Kv3TNNSxp5W_",
        "outputId": "a6f63231-91b3-4004-ad2f-686e9724d1dd"
      },
      "execution_count": null,
      "outputs": [
        {
          "output_type": "stream",
          "name": "stdout",
          "text": [
            "The package with load id 1722343054.148941 for schema github_issues_merge_trace is in LOADED state. It updated schema for 7 tables. The package was LOADED at 2024-07-30 12:37:38.147890+00:00.\n",
            "Jobs details:\n",
            "Job: issues__assignees.ea84ca5dd6.insert_values, table: issues__assignees in completed_jobs. File type: insert_values, size: 4.0K. Started on: 2024-07-30 12:37:35.785707+00:00 and completed in 2.36 seconds.\n",
            "Job: issues.9a51a5dcc7.sql, table: issues in completed_jobs. File type: sql, size: 9.2K. Started on: 2024-07-30 12:37:37.309825+00:00 and completed in 0.84 seconds.\n",
            "Job: issues__labels.3fc08a7c7c.insert_values, table: issues__labels in completed_jobs. File type: insert_values, size: 3.8K. Started on: 2024-07-30 12:37:35.776706+00:00 and completed in 2.37 seconds.\n",
            "Job: _dlt_pipeline_state.3273b65a40.insert_values, table: _dlt_pipeline_state in completed_jobs. File type: insert_values, size: 680B. Started on: 2024-07-30 12:37:35.700700+00:00 and completed in 2.45 seconds.\n",
            "Job: issues.ba0d882890.insert_values, table: issues in completed_jobs. File type: insert_values, size: 103.2K. Started on: 2024-07-30 12:37:35.771705+00:00 and completed in 2.38 seconds.\n",
            "Job: issues__performed_via_github_app__events.2889f0e535.insert_values, table: issues__performed_via_github_app__events in completed_jobs. File type: insert_values, size: 740B. Started on: 2024-07-30 12:37:35.786706+00:00 and completed in 2.36 seconds.\n"
          ]
        }
      ]
    },
    {
      "cell_type": "code",
      "source": [
        "all_attributes_methods = dir(load_info.load_packages[0])\n",
        "public_attributes_methods = [attr for attr in all_attributes_methods if not attr.startswith('_')]\n",
        "\n",
        "print(\"Public attributes and methods with their types:\")\n",
        "for attr in public_attributes_methods:\n",
        "    attr_value = getattr(load_info.load_packages[0], attr)\n",
        "    if callable(attr_value):\n",
        "        print(f\"{attr} (method)\")\n",
        "    else:\n",
        "        print(f\"{attr} (attribute)\")"
      ],
      "metadata": {
        "colab": {
          "base_uri": "https://localhost:8080/"
        },
        "id": "qfLbKnCO0URi",
        "outputId": "00faa4fb-4454-4a59-e546-bad34c5861b7"
      },
      "execution_count": null,
      "outputs": [
        {
          "output_type": "stream",
          "name": "stdout",
          "text": [
            "Public attributes and methods with their types:\n",
            "asdict (method)\n",
            "asstr (method)\n",
            "completed_at (attribute)\n",
            "count (method)\n",
            "index (method)\n",
            "jobs (attribute)\n",
            "load_id (attribute)\n",
            "package_path (attribute)\n",
            "schema (attribute)\n",
            "schema_hash (attribute)\n",
            "schema_name (attribute)\n",
            "schema_update (attribute)\n",
            "state (attribute)\n"
          ]
        }
      ]
    },
    {
      "cell_type": "code",
      "source": [
        "load_info.load_packages[0].asdict()"
      ],
      "metadata": {
        "id": "MKQSVFW2pw4J"
      },
      "execution_count": null,
      "outputs": []
    },
    {
      "cell_type": "code",
      "source": [],
      "metadata": {
        "id": "jnmB1N4CqQ2T"
      },
      "execution_count": null,
      "outputs": []
    }
  ]
}