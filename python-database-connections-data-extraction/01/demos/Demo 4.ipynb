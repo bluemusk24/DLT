{
 "cells": [
  {
   "cell_type": "code",
   "execution_count": 1,
   "id": "06043415-ca11-4974-89d4-27a0701a8f1c",
   "metadata": {},
   "outputs": [
    {
     "name": "stdout",
     "output_type": "stream",
     "text": [
      "Connected to MySQL database!\n"
     ]
    }
   ],
   "source": [
    "import mysql.connector\n",
    "\n",
    "# Establish connection\n",
    "conn = mysql.connector.connect(\n",
    "    host=\"localhost\",\n",
    "    user=\"root\",\n",
    "    password=\"mysql\",\n",
    "    database=\"sakila\"\n",
    ")\n",
    "\n",
    "# Check if the connection is successful\n",
    "if conn.is_connected():\n",
    "    print(\"Connected to MySQL database!\")\n",
    "    \n",
    "# Create a cursor object to interact with the database    \n",
    "cursor = conn.cursor()    "
   ]
  },
  {
   "cell_type": "code",
   "execution_count": 2,
   "id": "2648482e-0804-4e49-993f-4941e9dd3397",
   "metadata": {},
   "outputs": [
    {
     "name": "stdout",
     "output_type": "stream",
     "text": [
      "Table created successfully!\n"
     ]
    }
   ],
   "source": [
    "cursor.execute(\"\"\"\n",
    "CREATE TABLE IF NOT EXISTS employees (\n",
    "    id INT AUTO_INCREMENT PRIMARY KEY,\n",
    "    name VARCHAR(50),\n",
    "    department VARCHAR(50),\n",
    "    salary FLOAT\n",
    ")\n",
    "\"\"\")\n",
    "conn.commit()\n",
    "print(\"Table created successfully!\")"
   ]
  },
  {
   "cell_type": "code",
   "execution_count": 3,
   "id": "67f6a103-80d7-42b7-b2ff-3cf6e194a85d",
   "metadata": {},
   "outputs": [
    {
     "name": "stdout",
     "output_type": "stream",
     "text": [
      "Data inserted successfully!\n"
     ]
    }
   ],
   "source": [
    "sql_insert = \"INSERT INTO employees (name, department, salary) VALUES (%s, %s, %s)\"\n",
    "values = [\n",
    "    (\"Alice\", \"HR\", 60000),\n",
    "    (\"Bob\", \"IT\", 75000),\n",
    "    (\"Charlie\", \"Finance\", 72000)\n",
    "]\n",
    "\n",
    "cursor.executemany(sql_insert, values)  # Inserts multiple rows\n",
    "conn.commit()  # Commit the transaction\n",
    "print(\"Data inserted successfully!\")"
   ]
  },
  {
   "cell_type": "code",
   "execution_count": 4,
   "id": "005f3656-5d9a-464f-a61f-6d83ab0b6ba3",
   "metadata": {},
   "outputs": [
    {
     "name": "stdout",
     "output_type": "stream",
     "text": [
      "(1, 'Alice', 'HR', 60000.0)\n",
      "(2, 'Bob', 'IT', 75000.0)\n",
      "(3, 'Charlie', 'Finance', 72000.0)\n"
     ]
    }
   ],
   "source": [
    "cursor.execute(\"SELECT * FROM employees\")\n",
    "rows = cursor.fetchall()  # Fetch all rows\n",
    "\n",
    "# Display results\n",
    "for row in rows:\n",
    "    print(row)"
   ]
  },
  {
   "cell_type": "code",
   "execution_count": 5,
   "id": "5c934855-ef8f-4275-a1e9-dfeb440c7259",
   "metadata": {},
   "outputs": [
    {
     "name": "stdout",
     "output_type": "stream",
     "text": [
      "Salary updated for IT department!\n"
     ]
    }
   ],
   "source": [
    "sql_update = \"UPDATE employees SET salary = salary + 5000 WHERE department = 'IT'\"\n",
    "cursor.execute(sql_update)\n",
    "conn.commit()\n",
    "print(\"Salary updated for IT department!\")"
   ]
  },
  {
   "cell_type": "code",
   "execution_count": 6,
   "id": "c6461a17-4627-4de0-aee8-a43c11f463a3",
   "metadata": {},
   "outputs": [
    {
     "name": "stdout",
     "output_type": "stream",
     "text": [
      "[(2, 'Bob', 'IT', 80000.0)]\n"
     ]
    }
   ],
   "source": [
    "cursor.execute(\"SELECT * FROM employees WHERE department = 'IT'\")\n",
    "print(cursor.fetchall())"
   ]
  },
  {
   "cell_type": "code",
   "execution_count": 7,
   "id": "ca239b64-248c-485b-9027-cddab8dbc85f",
   "metadata": {},
   "outputs": [
    {
     "name": "stdout",
     "output_type": "stream",
     "text": [
      "Record deleted successfully!\n"
     ]
    }
   ],
   "source": [
    "sql_delete = \"DELETE FROM employees WHERE name = 'Charlie'\"\n",
    "cursor.execute(sql_delete)\n",
    "conn.commit()\n",
    "print(\"Record deleted successfully!\")"
   ]
  },
  {
   "cell_type": "code",
   "execution_count": 8,
   "id": "d16767f9-8fa5-4cdd-9964-42c2ebfe8378",
   "metadata": {},
   "outputs": [
    {
     "name": "stdout",
     "output_type": "stream",
     "text": [
      "[(1, 'Alice', 'HR', 60000.0), (2, 'Bob', 'IT', 80000.0)]\n"
     ]
    }
   ],
   "source": [
    "cursor.execute(\"SELECT * FROM employees\")\n",
    "print(cursor.fetchall())"
   ]
  },
  {
   "cell_type": "code",
   "execution_count": 9,
   "id": "0ea23357-0031-417d-981c-d1bde178ca8e",
   "metadata": {},
   "outputs": [
    {
     "name": "stdout",
     "output_type": "stream",
     "text": [
      "Transaction rolled back due to error: Simulated Error!\n"
     ]
    }
   ],
   "source": [
    "try:\n",
    "    cursor.execute(\"UPDATE employees SET salary = salary - 5000 WHERE department = 'IT'\")\n",
    "    raise Exception(\"Simulated Error!\")  # Simulating an issue\n",
    "    conn.commit()  # This won't execute because of the error\n",
    "except Exception as e:\n",
    "    conn.rollback()  # Rolls back to the previous state\n",
    "    print(\"Transaction rolled back due to error:\", e)"
   ]
  },
  {
   "cell_type": "code",
   "execution_count": 10,
   "id": "0169c787-d2fc-4aba-86bd-d629199ccb43",
   "metadata": {},
   "outputs": [
    {
     "name": "stdout",
     "output_type": "stream",
     "text": [
      "Database connection closed!\n"
     ]
    }
   ],
   "source": [
    "cursor.close()\n",
    "conn.close()\n",
    "print(\"Database connection closed!\")"
   ]
  },
  {
   "cell_type": "code",
   "execution_count": null,
   "id": "7771ddda-9589-4e55-9c16-e952b96e2113",
   "metadata": {},
   "outputs": [],
   "source": []
  }
 ],
 "metadata": {
  "kernelspec": {
   "display_name": "Python 3 (ipykernel)",
   "language": "python",
   "name": "python3"
  },
  "language_info": {
   "codemirror_mode": {
    "name": "ipython",
    "version": 3
   },
   "file_extension": ".py",
   "mimetype": "text/x-python",
   "name": "python",
   "nbconvert_exporter": "python",
   "pygments_lexer": "ipython3",
   "version": "3.10.0"
  }
 },
 "nbformat": 4,
 "nbformat_minor": 5
}
