{
 "cells": [
  {
   "cell_type": "code",
   "execution_count": 1,
   "id": "bc1d20fe-7958-4829-8a8e-51fcf73cd4d6",
   "metadata": {},
   "outputs": [
    {
     "ename": "ModuleNotFoundError",
     "evalue": "No module named 'mysql'",
     "output_type": "error",
     "traceback": [
      "\u001b[1;31m---------------------------------------------------------------------------\u001b[0m",
      "\u001b[1;31mModuleNotFoundError\u001b[0m                       Traceback (most recent call last)",
      "Cell \u001b[1;32mIn[1], line 1\u001b[0m\n\u001b[1;32m----> 1\u001b[0m \u001b[38;5;28;01mimport\u001b[39;00m \u001b[38;5;21;01mmysql\u001b[39;00m\u001b[38;5;21;01m.\u001b[39;00m\u001b[38;5;21;01mconnector\u001b[39;00m\n\u001b[0;32m      3\u001b[0m \u001b[38;5;28mprint\u001b[39m(\u001b[38;5;124m\"\u001b[39m\u001b[38;5;124mMySQL Connector Version:\u001b[39m\u001b[38;5;124m\"\u001b[39m, mysql\u001b[38;5;241m.\u001b[39mconnector\u001b[38;5;241m.\u001b[39m__version__)\n",
      "\u001b[1;31mModuleNotFoundError\u001b[0m: No module named 'mysql'"
     ]
    }
   ],
   "source": [
    "import mysql.connector\n",
    "\n",
    "print(\"MySQL Connector Version:\", mysql.connector.__version__)"
   ]
  },
  {
   "cell_type": "code",
   "execution_count": 2,
   "id": "bc64e897-b915-40fd-9bee-3c1356da3e2c",
   "metadata": {},
   "outputs": [
    {
     "name": "stdout",
     "output_type": "stream",
     "text": [
      "Collecting mysql-connector-python\n",
      "  Using cached mysql_connector_python-9.2.0-cp310-cp310-win_amd64.whl.metadata (6.2 kB)\n",
      "Using cached mysql_connector_python-9.2.0-cp310-cp310-win_amd64.whl (16.1 MB)\n",
      "Installing collected packages: mysql-connector-python\n",
      "Successfully installed mysql-connector-python-9.2.0\n"
     ]
    }
   ],
   "source": [
    "!pip install mysql-connector-python"
   ]
  },
  {
   "cell_type": "code",
   "execution_count": 3,
   "id": "46e46818-7ab5-47f9-801c-0161a74633eb",
   "metadata": {},
   "outputs": [
    {
     "name": "stdout",
     "output_type": "stream",
     "text": [
      "MySQL Connector Version: 9.2.0\n"
     ]
    }
   ],
   "source": [
    "import mysql.connector\n",
    "\n",
    "print(\"MySQL Connector Version:\", mysql.connector.__version__)"
   ]
  },
  {
   "cell_type": "code",
   "execution_count": 4,
   "id": "c22b0270-4e0e-4d97-90a8-ada660ae82ab",
   "metadata": {},
   "outputs": [
    {
     "name": "stdout",
     "output_type": "stream",
     "text": [
      "Module not found: No module named 'mysql.sqlalchemy'\n",
      "Run `!pip install sqlalchemy` to install missing dependencies.\n"
     ]
    }
   ],
   "source": [
    "try:\n",
    "    import mysql.sqlalchemy    \n",
    "    print(\"SQLAlchemy Version:\", sqlalchemy.__version__)\n",
    "    \n",
    "except ImportError as e:\n",
    "    print(\"Module not found:\", e)\n",
    "    print(\"Run `!pip install sqlalchemy` to install missing dependencies.\")"
   ]
  },
  {
   "cell_type": "code",
   "execution_count": 5,
   "id": "533f1a50-e091-44ce-8458-88983c63b948",
   "metadata": {},
   "outputs": [
    {
     "name": "stdout",
     "output_type": "stream",
     "text": [
      "Collecting sqlalchemy\n",
      "  Using cached SQLAlchemy-2.0.38-cp310-cp310-win_amd64.whl.metadata (9.9 kB)\n",
      "Requirement already satisfied: greenlet!=0.4.17 in c:\\users\\pinal\\appdata\\local\\programs\\python\\python310\\lib\\site-packages (from sqlalchemy) (3.1.1)\n",
      "Requirement already satisfied: typing-extensions>=4.6.0 in c:\\users\\pinal\\appdata\\local\\programs\\python\\python310\\lib\\site-packages (from sqlalchemy) (4.12.2)\n",
      "Using cached SQLAlchemy-2.0.38-cp310-cp310-win_amd64.whl (2.1 MB)\n",
      "Installing collected packages: sqlalchemy\n",
      "Successfully installed sqlalchemy-2.0.38\n"
     ]
    }
   ],
   "source": [
    "!pip install sqlalchemy"
   ]
  },
  {
   "cell_type": "code",
   "execution_count": 6,
   "id": "7f36d213-661e-43b5-b493-63bb21ef0eaf",
   "metadata": {},
   "outputs": [
    {
     "name": "stdout",
     "output_type": "stream",
     "text": [
      "SQLAlchemy Version: 2.0.38\n"
     ]
    }
   ],
   "source": [
    "try:\n",
    "    import sqlalchemy\n",
    "    \n",
    "    print(\"SQLAlchemy Version:\", sqlalchemy.__version__)\n",
    "    \n",
    "except ImportError as e:\n",
    "    print(\"Module not found:\", e)\n",
    "    print(\"Run `!pip install sqlalchemy` to install missing dependencies.\")"
   ]
  },
  {
   "cell_type": "code",
   "execution_count": 7,
   "id": "00e1babd-2453-406c-987c-3d69e2c215b0",
   "metadata": {},
   "outputs": [
    {
     "name": "stdout",
     "output_type": "stream",
     "text": [
      "Requirement already satisfied: mysql-connector-python in c:\\users\\pinal\\appdata\\local\\programs\\python\\python310\\lib\\site-packages (9.2.0)\n",
      "Requirement already satisfied: sqlalchemy in c:\\users\\pinal\\appdata\\local\\programs\\python\\python310\\lib\\site-packages (2.0.38)\n",
      "Collecting pymysql\n",
      "  Using cached PyMySQL-1.1.1-py3-none-any.whl.metadata (4.4 kB)\n",
      "Requirement already satisfied: greenlet!=0.4.17 in c:\\users\\pinal\\appdata\\local\\programs\\python\\python310\\lib\\site-packages (from sqlalchemy) (3.1.1)\n",
      "Requirement already satisfied: typing-extensions>=4.6.0 in c:\\users\\pinal\\appdata\\local\\programs\\python\\python310\\lib\\site-packages (from sqlalchemy) (4.12.2)\n",
      "Using cached PyMySQL-1.1.1-py3-none-any.whl (44 kB)\n",
      "Installing collected packages: pymysql\n",
      "Successfully installed pymysql-1.1.1\n"
     ]
    }
   ],
   "source": [
    "!pip install mysql-connector-python sqlalchemy pymysql"
   ]
  },
  {
   "cell_type": "code",
   "execution_count": 8,
   "id": "87c564cd-ed99-467d-8e36-bf0e424df28b",
   "metadata": {},
   "outputs": [
    {
     "name": "stdout",
     "output_type": "stream",
     "text": [
      "MySQL Connector Version: 9.2.0\n",
      "SQLAlchemy Version: 2.0.38\n",
      "PyMySQL Version: 1.4.6\n"
     ]
    }
   ],
   "source": [
    "import mysql.connector\n",
    "import sqlalchemy\n",
    "import pymysql\n",
    "\n",
    "print(\"MySQL Connector Version:\", mysql.connector.__version__)\n",
    "print(\"SQLAlchemy Version:\", sqlalchemy.__version__)\n",
    "print(\"PyMySQL Version:\", pymysql.__version__) "
   ]
  },
  {
   "cell_type": "code",
   "execution_count": null,
   "id": "136944f1-49c2-4fd2-8de6-332614176721",
   "metadata": {},
   "outputs": [],
   "source": []
  }
 ],
 "metadata": {
  "kernelspec": {
   "display_name": "Python 3 (ipykernel)",
   "language": "python",
   "name": "python3"
  },
  "language_info": {
   "codemirror_mode": {
    "name": "ipython",
    "version": 3
   },
   "file_extension": ".py",
   "mimetype": "text/x-python",
   "name": "python",
   "nbconvert_exporter": "python",
   "pygments_lexer": "ipython3",
   "version": "3.10.0"
  }
 },
 "nbformat": 4,
 "nbformat_minor": 5
}
