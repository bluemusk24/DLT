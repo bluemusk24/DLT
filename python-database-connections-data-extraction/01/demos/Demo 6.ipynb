{
 "cells": [
  {
   "cell_type": "code",
   "execution_count": 1,
   "id": "1e0f4e2b-c9d8-470b-8022-f62f6dda6f28",
   "metadata": {},
   "outputs": [
    {
     "name": "stdout",
     "output_type": "stream",
     "text": [
      "Error: 1045 (28000): Access denied for user 'root'@'localhost' (using password: YES)\n"
     ]
    }
   ],
   "source": [
    "import mysql.connector\n",
    "from mysql.connector import Error\n",
    "\n",
    "try:\n",
    "    conn = mysql.connector.connect(\n",
    "        host=\"localhost\",\n",
    "        user=\"root\",\n",
    "        password=\"wrongpassword\",  # Intentionally wrong\n",
    "        database=\"sakila\"\n",
    "    )\n",
    "    if conn.is_connected():\n",
    "        print(\"Connected successfully!\")\n",
    "\n",
    "except Error as e:\n",
    "    print(f\"Error: {e}\")\n",
    "\n",
    "finally:\n",
    "    if 'conn' in locals() and conn.is_connected():\n",
    "        conn.close()\n",
    "        print(\"Connection closed.\")\n"
   ]
  },
  {
   "cell_type": "code",
   "execution_count": 2,
   "id": "30a26a8a-df26-48f7-881b-1dfe2e971ffc",
   "metadata": {},
   "outputs": [
    {
     "name": "stdout",
     "output_type": "stream",
     "text": [
      "Attempt 1: Connection failed due to 1045 (28000): Access denied for user 'root'@'localhost' (using password: YES)\n",
      "Attempt 2: Connection failed due to 1045 (28000): Access denied for user 'root'@'localhost' (using password: YES)\n",
      "Attempt 3: Connection failed due to 1045 (28000): Access denied for user 'root'@'localhost' (using password: YES)\n",
      "Attempt 4: Connection failed due to 1045 (28000): Access denied for user 'root'@'localhost' (using password: YES)\n",
      "Attempt 5: Connection failed due to 1045 (28000): Access denied for user 'root'@'localhost' (using password: YES)\n",
      "All retry attempts failed. Exiting.\n"
     ]
    }
   ],
   "source": [
    "import time\n",
    "import mysql.connector\n",
    "from mysql.connector import Error\n",
    "\n",
    "MAX_RETRIES = 5\n",
    "\n",
    "for attempt in range(MAX_RETRIES):\n",
    "    try:\n",
    "        conn = mysql.connector.connect(\n",
    "            host=\"localhost\",\n",
    "            user=\"root\",\n",
    "            password=\"wrongpassword\",  # Intentionally wrong\n",
    "            database=\"sakila\"\n",
    "        )\n",
    "        if conn.is_connected():\n",
    "            print(\"Connected successfully on attempt\", attempt + 1)\n",
    "            break  # Exit loop if connection is successful\n",
    "\n",
    "    except Error as e:\n",
    "        print(f\"Attempt {attempt + 1}: Connection failed due to {e}\")\n",
    "        time.sleep(2 ** attempt)  # Exponential backoff (2^0, 2^1, 2^2,...)\n",
    "else:\n",
    "    print(\"All retry attempts failed. Exiting.\")\n"
   ]
  },
  {
   "cell_type": "code",
   "execution_count": 7,
   "id": "579872df-e822-4216-816b-76c415eb78be",
   "metadata": {},
   "outputs": [
    {
     "name": "stdout",
     "output_type": "stream",
     "text": [
      "Error: Database does not exist!\n"
     ]
    }
   ],
   "source": [
    "from mysql.connector import errorcode\n",
    "\n",
    "try:\n",
    "    conn = mysql.connector.connect(\n",
    "        host=\"localhost\",\n",
    "        user=\"root\",\n",
    "        password=\"mysql\",\n",
    "        database=\"sakila111\"   # Intentionally wrong\n",
    "    )\n",
    "    \n",
    "    # If connection is successful, print message\n",
    "    if conn.is_connected():\n",
    "        print(\"Connected successfully to the 'sakila' database!\")\n",
    "        \n",
    "except Error as e:\n",
    "    if e.errno == errorcode.ER_ACCESS_DENIED_ERROR:\n",
    "        print(\"Error: Invalid username or password!\")\n",
    "    elif e.errno == errorcode.ER_BAD_DB_ERROR:\n",
    "        print(\"Error: Database does not exist!\")\n",
    "    else:\n",
    "        print(f\"Unexpected Error: {e}\")\n"
   ]
  },
  {
   "cell_type": "code",
   "execution_count": 5,
   "id": "4a4befd7-4e35-4dad-aaff-f87bf10d8afa",
   "metadata": {},
   "outputs": [
    {
     "name": "stdout",
     "output_type": "stream",
     "text": [
      "Database connection closed.\n"
     ]
    }
   ],
   "source": [
    "if 'conn' in locals() and conn.is_connected():\n",
    "    conn.close()\n",
    "    print(\"Database connection closed.\")"
   ]
  },
  {
   "cell_type": "code",
   "execution_count": null,
   "id": "23c77623-e5ce-4a6e-a200-ab11ca686ee5",
   "metadata": {},
   "outputs": [],
   "source": []
  }
 ],
 "metadata": {
  "kernelspec": {
   "display_name": "Python 3 (ipykernel)",
   "language": "python",
   "name": "python3"
  },
  "language_info": {
   "codemirror_mode": {
    "name": "ipython",
    "version": 3
   },
   "file_extension": ".py",
   "mimetype": "text/x-python",
   "name": "python",
   "nbconvert_exporter": "python",
   "pygments_lexer": "ipython3",
   "version": "3.10.0"
  }
 },
 "nbformat": 4,
 "nbformat_minor": 5
}
