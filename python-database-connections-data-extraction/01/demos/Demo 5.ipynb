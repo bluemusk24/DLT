{
 "cells": [
  {
   "cell_type": "code",
   "execution_count": 1,
   "id": "17567e6d-9473-4afe-b7b8-f2370a90e01b",
   "metadata": {},
   "outputs": [
    {
     "name": "stdout",
     "output_type": "stream",
     "text": [
      "Requirement already satisfied: python-dotenv in c:\\users\\pinal\\appdata\\local\\programs\\python\\python310\\lib\\site-packages (1.0.1)\n"
     ]
    }
   ],
   "source": [
    "!pip install python-dotenv"
   ]
  },
  {
   "cell_type": "code",
   "execution_count": 4,
   "id": "a495b68d-29c8-47b3-8a43-b5f55a435b70",
   "metadata": {},
   "outputs": [
    {
     "name": "stdout",
     "output_type": "stream",
     "text": [
      "Connected securely using .env file!\n"
     ]
    }
   ],
   "source": [
    "from dotenv import load_dotenv\n",
    "import os\n",
    "import mysql.connector\n",
    "\n",
    "# Load environment variables from .env file\n",
    "load_dotenv()\n",
    "\n",
    "conn = mysql.connector.connect(\n",
    "    host=os.getenv(\"MYSQL_HOST\"),\n",
    "    user=os.getenv(\"MYSQL_USER\"),\n",
    "    password=os.getenv(\"MYSQL_PASSWORD\"),\n",
    "    database=os.getenv(\"MYSQL_DATABASE\")\n",
    ")\n",
    "\n",
    "print(\"Connected securely using .env file!\")\n",
    "conn.close()"
   ]
  },
  {
   "cell_type": "code",
   "execution_count": 7,
   "id": "f4a843d5-9a08-4ee4-aa54-6554fa5ad562",
   "metadata": {},
   "outputs": [
    {
     "name": "stdout",
     "output_type": "stream",
     "text": [
      "Connected securely using config.ini file!\n"
     ]
    }
   ],
   "source": [
    "import configparser\n",
    "import mysql.connector\n",
    "\n",
    "# Read configuration file\n",
    "config = configparser.ConfigParser()\n",
    "config.read(\"config.ini\")\n",
    "\n",
    "conn = mysql.connector.connect(\n",
    "    host=config[\"mysql\"][\"host\"],\n",
    "    user=config[\"mysql\"][\"user\"],\n",
    "    password=config[\"mysql\"][\"password\"],\n",
    "    database=config[\"mysql\"][\"database\"]\n",
    ")\n",
    "\n",
    "print(\"Connected securely using config.ini file!\")\n",
    "conn.close()"
   ]
  },
  {
   "cell_type": "code",
   "execution_count": null,
   "id": "6602b625-b89d-4a2e-b8b0-d535b6c080d1",
   "metadata": {},
   "outputs": [],
   "source": []
  }
 ],
 "metadata": {
  "kernelspec": {
   "display_name": "Python 3 (ipykernel)",
   "language": "python",
   "name": "python3"
  },
  "language_info": {
   "codemirror_mode": {
    "name": "ipython",
    "version": 3
   },
   "file_extension": ".py",
   "mimetype": "text/x-python",
   "name": "python",
   "nbconvert_exporter": "python",
   "pygments_lexer": "ipython3",
   "version": "3.10.0"
  }
 },
 "nbformat": 4,
 "nbformat_minor": 5
}
