{
 "cells": [
  {
   "cell_type": "code",
   "execution_count": 1,
   "id": "fef60f78-f28d-405d-a0f6-f3ffcca9d0b5",
   "metadata": {},
   "outputs": [
    {
     "name": "stdout",
     "output_type": "stream",
     "text": [
      "Connected to MongoDB successfully!\n",
      "Using database: SQLAuthority, collection: employees\n"
     ]
    }
   ],
   "source": [
    "import pymongo\n",
    "from pymongo import MongoClient\n",
    "\n",
    "# Step 1: Establish Connection to MongoDB\n",
    "client = MongoClient(\"mongodb://localhost:27017/\")  # Replace with actual URI if needed\n",
    "print(\"Connected to MongoDB successfully!\")\n",
    "\n",
    "# Step 2: Select Database and Collection\n",
    "db = client[\"SQLAuthority\"]  # Using SQLAuthority as the database name\n",
    "collection = db[\"employees\"]  # Using employees as the collection name\n",
    "print(f\"Using database: {db.name}, collection: {collection.name}\")"
   ]
  },
  {
   "cell_type": "code",
   "execution_count": 2,
   "id": "64d9b381-6b72-4f55-8e4c-ec03019a1e75",
   "metadata": {},
   "outputs": [
    {
     "name": "stdout",
     "output_type": "stream",
     "text": [
      "\n",
      "Finance Department Employees:\n",
      "{'_id': ObjectId('67a80378c8b590a6b4381574'), 'name': 'Bob', 'department': 'Finance', 'salary': 75000, 'hire_date': '2019-03-10'}\n"
     ]
    }
   ],
   "source": [
    "# Step 3: Querying and Filtering Data\n",
    "\n",
    "# Query 1: Find all employees in the Finance department\n",
    "finance_employees = collection.find({\"department\": \"Finance\"})\n",
    "print(\"\\nFinance Department Employees:\")\n",
    "for emp in finance_employees:\n",
    "    print(emp)"
   ]
  },
  {
   "cell_type": "code",
   "execution_count": 3,
   "id": "a952618d-ef3d-4747-8ac9-45508b76be7a",
   "metadata": {},
   "outputs": [
    {
     "name": "stdout",
     "output_type": "stream",
     "text": [
      "\n",
      "Employees with Salary > 70000:\n",
      "{'_id': ObjectId('67a80378c8b590a6b4381574'), 'name': 'Bob', 'department': 'Finance', 'salary': 75000, 'hire_date': '2019-03-10'}\n"
     ]
    }
   ],
   "source": [
    "# Query 2: Find employees with salary greater than 70000\n",
    "high_salary_employees = collection.find({\"salary\": {\"$gt\": 70000}})\n",
    "print(\"\\nEmployees with Salary > 70000:\")\n",
    "for emp in high_salary_employees:\n",
    "    print(emp)"
   ]
  },
  {
   "cell_type": "code",
   "execution_count": 4,
   "id": "6fd09da4-881b-4474-9c33-cd0d86da5e41",
   "metadata": {},
   "outputs": [
    {
     "name": "stdout",
     "output_type": "stream",
     "text": [
      "\n",
      "Employees who joined after 2020-01-01:\n",
      "{'_id': ObjectId('67a80378c8b590a6b4381573'), 'name': 'Alice', 'department': 'HR', 'salary': 65000, 'hire_date': '2020-01-15'}\n"
     ]
    }
   ],
   "source": [
    "# Query 3: Find employees who joined after 2020-01-01\n",
    "date_filtered_employees = collection.find({\"hire_date\": {\"$gt\": \"2020-01-01\"}})\n",
    "print(\"\\nEmployees who joined after 2020-01-01:\")\n",
    "for emp in date_filtered_employees:\n",
    "    print(emp)"
   ]
  },
  {
   "cell_type": "code",
   "execution_count": 5,
   "id": "9934c4a8-b543-4c0f-91d7-0f6f914136cf",
   "metadata": {},
   "outputs": [
    {
     "name": "stdout",
     "output_type": "stream",
     "text": [
      "\n",
      "Employees from IT or HR Departments:\n",
      "{'_id': ObjectId('67a80378c8b590a6b4381573'), 'name': 'Alice', 'department': 'HR', 'salary': 65000, 'hire_date': '2020-01-15'}\n"
     ]
    }
   ],
   "source": [
    "# Query 4: Find employees from IT or HR departments\n",
    "department_filtered_employees = collection.find({\"department\": {\"$in\": [\"IT\", \"HR\"]}})\n",
    "print(\"\\nEmployees from IT or HR Departments:\")\n",
    "for emp in department_filtered_employees:\n",
    "   print(emp)"
   ]
  },
  {
   "cell_type": "code",
   "execution_count": 6,
   "id": "11174e12-c4f4-48d1-b899-25b74fd9454b",
   "metadata": {},
   "outputs": [
    {
     "name": "stdout",
     "output_type": "stream",
     "text": [
      "\n",
      "Employees sorted by Salary (Highest to Lowest):\n",
      "{'_id': ObjectId('67a80378c8b590a6b4381574'), 'name': 'Bob', 'department': 'Finance', 'salary': 75000, 'hire_date': '2019-03-10'}\n",
      "{'_id': ObjectId('67a80378c8b590a6b4381573'), 'name': 'Alice', 'department': 'HR', 'salary': 65000, 'hire_date': '2020-01-15'}\n"
     ]
    }
   ],
   "source": [
    "# Query 5: Find employees sorted by salary in descending order\n",
    "sorted_employees = collection.find().sort(\"salary\", pymongo.DESCENDING)\n",
    "print(\"\\nEmployees sorted by Salary (Highest to Lowest):\")\n",
    "for emp in sorted_employees:\n",
    "    print(emp)"
   ]
  },
  {
   "cell_type": "code",
   "execution_count": null,
   "id": "663b5235-d976-421e-9a05-0292cf0379cd",
   "metadata": {},
   "outputs": [],
   "source": []
  }
 ],
 "metadata": {
  "kernelspec": {
   "display_name": "Python 3 (ipykernel)",
   "language": "python",
   "name": "python3"
  },
  "language_info": {
   "codemirror_mode": {
    "name": "ipython",
    "version": 3
   },
   "file_extension": ".py",
   "mimetype": "text/x-python",
   "name": "python",
   "nbconvert_exporter": "python",
   "pygments_lexer": "ipython3",
   "version": "3.10.0"
  }
 },
 "nbformat": 4,
 "nbformat_minor": 5
}
