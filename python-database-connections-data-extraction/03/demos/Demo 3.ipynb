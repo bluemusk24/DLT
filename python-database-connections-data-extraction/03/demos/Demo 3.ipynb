{
 "cells": [
  {
   "cell_type": "code",
   "execution_count": 1,
   "id": "70b87dd1-f352-45b5-aafb-6bf71f6498c0",
   "metadata": {},
   "outputs": [
    {
     "name": "stdout",
     "output_type": "stream",
     "text": [
      "Connected to MongoDB successfully!\n",
      "Using database: SQLAuthority, collection: employees\n"
     ]
    }
   ],
   "source": [
    "import pymongo\n",
    "from pymongo import MongoClient\n",
    "\n",
    "# Step 1: Establish Connection to MongoDB\n",
    "client = MongoClient(\"mongodb://localhost:27017/\")  # Replace with actual URI if needed\n",
    "print(\"Connected to MongoDB successfully!\")\n",
    "\n",
    "# Step 2: Select Database and Collection\n",
    "db = client[\"SQLAuthority\"]  # Using SQLAuthority as the database name\n",
    "collection = db[\"employees\"]  # Using employees as the collection name\n",
    "print(f\"Using database: {db.name}, collection: {collection.name}\")"
   ]
  },
  {
   "cell_type": "code",
   "execution_count": 2,
   "id": "c796087c-5835-4d1d-9c5d-ca137c6a58d4",
   "metadata": {},
   "outputs": [
    {
     "name": "stdout",
     "output_type": "stream",
     "text": [
      "Inserted multiple employee records successfully.\n"
     ]
    }
   ],
   "source": [
    "# Step 3: Create - Insert Documents\n",
    "employees_data = [\n",
    "    {\"name\": \"Alice\", \"department\": \"HR\", \"salary\": 60000, \"hire_date\": \"2020-01-15\"},\n",
    "    {\"name\": \"Bob\", \"department\": \"Finance\", \"salary\": 75000, \"hire_date\": \"2019-03-10\"},\n",
    "    {\"name\": \"Charlie\", \"department\": \"IT\", \"salary\": 90000, \"hire_date\": \"2018-07-23\"}\n",
    "]\n",
    "collection.insert_many(employees_data)\n",
    "print(\"Inserted multiple employee records successfully.\")"
   ]
  },
  {
   "cell_type": "code",
   "execution_count": 3,
   "id": "8c6ca3c9-5f63-4f69-84f9-9fac963f658c",
   "metadata": {},
   "outputs": [
    {
     "name": "stdout",
     "output_type": "stream",
     "text": [
      "\n",
      "Employee Records:\n",
      "{'_id': ObjectId('67a80378c8b590a6b4381573'), 'name': 'Alice', 'department': 'HR', 'salary': 60000, 'hire_date': '2020-01-15'}\n",
      "{'_id': ObjectId('67a80378c8b590a6b4381574'), 'name': 'Bob', 'department': 'Finance', 'salary': 75000, 'hire_date': '2019-03-10'}\n",
      "{'_id': ObjectId('67a80378c8b590a6b4381575'), 'name': 'Charlie', 'department': 'IT', 'salary': 90000, 'hire_date': '2018-07-23'}\n"
     ]
    }
   ],
   "source": [
    "# Step 4: Read - Retrieve Documents\n",
    "print(\"\\nEmployee Records:\")\n",
    "employees = collection.find()\n",
    "for emp in employees:\n",
    "    print(emp)"
   ]
  },
  {
   "cell_type": "code",
   "execution_count": 4,
   "id": "025e55ba-40a7-4595-b1e8-232664e0a99d",
   "metadata": {},
   "outputs": [
    {
     "name": "stdout",
     "output_type": "stream",
     "text": [
      "Updated Alice's salary.\n",
      "Updated Record: {'_id': ObjectId('67a80378c8b590a6b4381573'), 'name': 'Alice', 'department': 'HR', 'salary': 65000, 'hire_date': '2020-01-15'}\n"
     ]
    }
   ],
   "source": [
    "# Step 5: Update - Modify Existing Documents\n",
    "query = {\"name\": \"Alice\"}\n",
    "new_values = {\"$set\": {\"salary\": 65000}}\n",
    "collection.update_one(query, new_values)\n",
    "print(\"Updated Alice's salary.\")\n",
    "\n",
    "# Verify Update\n",
    "updated_employee = collection.find_one({\"name\": \"Alice\"})\n",
    "print(\"Updated Record:\", updated_employee)"
   ]
  },
  {
   "cell_type": "code",
   "execution_count": 5,
   "id": "0b7c7565-cc5e-457e-8643-4340c3ce6f76",
   "metadata": {},
   "outputs": [
    {
     "name": "stdout",
     "output_type": "stream",
     "text": [
      "Deleted Charlie from employees collection.\n",
      "\n",
      "Remaining Employee Records:\n",
      "{'_id': ObjectId('67a80378c8b590a6b4381573'), 'name': 'Alice', 'department': 'HR', 'salary': 65000, 'hire_date': '2020-01-15'}\n",
      "{'_id': ObjectId('67a80378c8b590a6b4381574'), 'name': 'Bob', 'department': 'Finance', 'salary': 75000, 'hire_date': '2019-03-10'}\n"
     ]
    }
   ],
   "source": [
    "# Step 6: Delete - Remove a Document\n",
    "delete_query = {\"name\": \"Charlie\"}\n",
    "collection.delete_one(delete_query)\n",
    "print(\"Deleted Charlie from employees collection.\")\n",
    "\n",
    "# Verify Deletion\n",
    "remaining_employees = collection.find()\n",
    "print(\"\\nRemaining Employee Records:\")\n",
    "for emp in remaining_employees:\n",
    "    print(emp)"
   ]
  },
  {
   "cell_type": "code",
   "execution_count": null,
   "id": "ede42d5c-baf1-4591-b248-a8d94103ffbe",
   "metadata": {},
   "outputs": [],
   "source": []
  }
 ],
 "metadata": {
  "kernelspec": {
   "display_name": "Python 3 (ipykernel)",
   "language": "python",
   "name": "python3"
  },
  "language_info": {
   "codemirror_mode": {
    "name": "ipython",
    "version": 3
   },
   "file_extension": ".py",
   "mimetype": "text/x-python",
   "name": "python",
   "nbconvert_exporter": "python",
   "pygments_lexer": "ipython3",
   "version": "3.10.0"
  }
 },
 "nbformat": 4,
 "nbformat_minor": 5
}
