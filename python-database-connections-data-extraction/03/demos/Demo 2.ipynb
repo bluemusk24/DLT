{
 "cells": [
  {
   "cell_type": "code",
   "execution_count": 1,
   "id": "b659bd4f-07b5-49ef-b83d-1b6469ff6aea",
   "metadata": {},
   "outputs": [
    {
     "name": "stdout",
     "output_type": "stream",
     "text": [
      "Connected to MongoDB successfully!\n"
     ]
    }
   ],
   "source": [
    "import pymongo\n",
    "from pymongo import MongoClient\n",
    "\n",
    "# Step 1: Establish Connection to MongoDB\n",
    "client = MongoClient(\"mongodb://localhost:27017/\")  # Replace with your URI if needed\n",
    "print(\"Connected to MongoDB successfully!\")"
   ]
  },
  {
   "cell_type": "code",
   "execution_count": 2,
   "id": "91462049-65b6-468b-90e0-9b99d3f4de0f",
   "metadata": {},
   "outputs": [
    {
     "name": "stdout",
     "output_type": "stream",
     "text": [
      "Available Databases: ['admin', 'config', 'local']\n"
     ]
    }
   ],
   "source": [
    "# Step 2: List Available Databases\n",
    "databases = client.list_database_names()\n",
    "print(\"Available Databases:\", databases)"
   ]
  },
  {
   "cell_type": "code",
   "execution_count": 3,
   "id": "dfd3472b-94f4-4253-b5c1-97e47e134f3c",
   "metadata": {},
   "outputs": [
    {
     "name": "stdout",
     "output_type": "stream",
     "text": [
      "Using database: SQLAuthority\n"
     ]
    }
   ],
   "source": [
    "# Step 3: Select or Create the Database (SQLAuthority)\n",
    "db = client[\"SQLAuthority\"]  \n",
    "print(f\"Using database: {db.name}\")"
   ]
  },
  {
   "cell_type": "code",
   "execution_count": 4,
   "id": "a8013fde-61d6-4698-9f6c-be07f634db61",
   "metadata": {},
   "outputs": [
    {
     "name": "stdout",
     "output_type": "stream",
     "text": [
      "Available Collections: []\n"
     ]
    }
   ],
   "source": [
    "# Step 4: List Collections in the Database\n",
    "collections = db.list_collection_names()\n",
    "print(\"Available Collections:\", collections)"
   ]
  },
  {
   "cell_type": "code",
   "execution_count": 5,
   "id": "c41289a1-a05b-4dab-8a64-6046308cc100",
   "metadata": {},
   "outputs": [
    {
     "name": "stdout",
     "output_type": "stream",
     "text": [
      "Using collection: employees\n"
     ]
    }
   ],
   "source": [
    "# Step 5: Select or Create a Collection (employees)\n",
    "collection = db[\"employees\"]  \n",
    "print(f\"Using collection: {collection.name}\")"
   ]
  },
  {
   "cell_type": "code",
   "execution_count": null,
   "id": "4b69f0f7-2b23-4d07-b778-a2f8520580c0",
   "metadata": {},
   "outputs": [],
   "source": []
  }
 ],
 "metadata": {
  "kernelspec": {
   "display_name": "Python 3 (ipykernel)",
   "language": "python",
   "name": "python3"
  },
  "language_info": {
   "codemirror_mode": {
    "name": "ipython",
    "version": 3
   },
   "file_extension": ".py",
   "mimetype": "text/x-python",
   "name": "python",
   "nbconvert_exporter": "python",
   "pygments_lexer": "ipython3",
   "version": "3.10.0"
  }
 },
 "nbformat": 4,
 "nbformat_minor": 5
}
