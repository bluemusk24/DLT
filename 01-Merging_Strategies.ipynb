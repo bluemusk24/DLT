{
  "nbformat": 4,
  "nbformat_minor": 0,
  "metadata": {
    "colab": {
      "provenance": []
    },
    "kernelspec": {
      "name": "python3",
      "display_name": "Python 3"
    },
    "language_info": {
      "name": "python"
    }
  },
  "cells": [
    {
      "cell_type": "code",
      "execution_count": 1,
      "metadata": {
        "colab": {
          "base_uri": "https://localhost:8080/"
        },
        "collapsed": true,
        "id": "-usiJxRYENTU",
        "outputId": "02e91ca7-336e-438f-ee41-0832924be192"
      },
      "outputs": [
        {
          "output_type": "stream",
          "name": "stdout",
          "text": [
            "Collecting dlt[duckdb]\n",
            "  Downloading dlt-0.5.4-py3-none-any.whl.metadata (10 kB)\n",
            "Requirement already satisfied: PyYAML>=5.4.1 in /usr/local/lib/python3.10/dist-packages (from dlt[duckdb]) (6.0.2)\n",
            "Requirement already satisfied: astunparse>=1.6.3 in /usr/local/lib/python3.10/dist-packages (from dlt[duckdb]) (1.6.3)\n",
            "Requirement already satisfied: click>=7.1 in /usr/local/lib/python3.10/dist-packages (from dlt[duckdb]) (8.1.7)\n",
            "Requirement already satisfied: fsspec>=2022.4.0 in /usr/local/lib/python3.10/dist-packages (from dlt[duckdb]) (2024.6.1)\n",
            "Collecting gitpython>=3.1.29 (from dlt[duckdb])\n",
            "  Downloading GitPython-3.1.43-py3-none-any.whl.metadata (13 kB)\n",
            "Collecting giturlparse>=0.10.0 (from dlt[duckdb])\n",
            "  Downloading giturlparse-0.12.0-py2.py3-none-any.whl.metadata (4.5 kB)\n",
            "Collecting hexbytes>=0.2.2 (from dlt[duckdb])\n",
            "  Downloading hexbytes-1.2.1-py3-none-any.whl.metadata (3.7 kB)\n",
            "Requirement already satisfied: humanize>=4.4.0 in /usr/local/lib/python3.10/dist-packages (from dlt[duckdb]) (4.10.0)\n",
            "Collecting jsonpath-ng>=1.5.3 (from dlt[duckdb])\n",
            "  Downloading jsonpath_ng-1.6.1-py3-none-any.whl.metadata (18 kB)\n",
            "Collecting makefun>=1.15.0 (from dlt[duckdb])\n",
            "  Downloading makefun-1.15.4-py2.py3-none-any.whl.metadata (3.2 kB)\n",
            "Collecting orjson!=3.10.1,!=3.9.11,!=3.9.12,!=3.9.13,!=3.9.14,<4,>=3.6.7 (from dlt[duckdb])\n",
            "  Downloading orjson-3.10.7-cp310-cp310-manylinux_2_17_x86_64.manylinux2014_x86_64.whl.metadata (50 kB)\n",
            "\u001b[2K     \u001b[90m━━━━━━━━━━━━━━━━━━━━━━━━━━━━━━━━━━━━━━━━\u001b[0m \u001b[32m50.4/50.4 kB\u001b[0m \u001b[31m1.2 MB/s\u001b[0m eta \u001b[36m0:00:00\u001b[0m\n",
            "\u001b[?25hRequirement already satisfied: packaging>=21.1 in /usr/local/lib/python3.10/dist-packages (from dlt[duckdb]) (24.1)\n",
            "Collecting pathvalidate>=2.5.2 (from dlt[duckdb])\n",
            "  Downloading pathvalidate-3.2.1-py3-none-any.whl.metadata (12 kB)\n",
            "Collecting pendulum>=2.1.2 (from dlt[duckdb])\n",
            "  Downloading pendulum-3.0.0-cp310-cp310-manylinux_2_17_x86_64.manylinux2014_x86_64.whl.metadata (6.9 kB)\n",
            "Requirement already satisfied: pytz>=2022.6 in /usr/local/lib/python3.10/dist-packages (from dlt[duckdb]) (2024.1)\n",
            "Requirement already satisfied: requests>=2.26.0 in /usr/local/lib/python3.10/dist-packages (from dlt[duckdb]) (2.32.3)\n",
            "Requirement already satisfied: requirements-parser>=0.5.0 in /usr/local/lib/python3.10/dist-packages (from dlt[duckdb]) (0.9.0)\n",
            "Collecting semver>=2.13.0 (from dlt[duckdb])\n",
            "  Downloading semver-3.0.2-py3-none-any.whl.metadata (5.0 kB)\n",
            "Requirement already satisfied: setuptools>=65.6.0 in /usr/local/lib/python3.10/dist-packages (from dlt[duckdb]) (71.0.4)\n",
            "Collecting simplejson>=3.17.5 (from dlt[duckdb])\n",
            "  Downloading simplejson-3.19.3-cp310-cp310-manylinux_2_5_x86_64.manylinux1_x86_64.manylinux_2_17_x86_64.manylinux2014_x86_64.whl.metadata (3.2 kB)\n",
            "Requirement already satisfied: tenacity>=8.0.2 in /usr/local/lib/python3.10/dist-packages (from dlt[duckdb]) (9.0.0)\n",
            "Requirement already satisfied: tomlkit>=0.11.3 in /usr/local/lib/python3.10/dist-packages (from dlt[duckdb]) (0.13.2)\n",
            "Requirement already satisfied: typing-extensions>=4.0.0 in /usr/local/lib/python3.10/dist-packages (from dlt[duckdb]) (4.12.2)\n",
            "Requirement already satisfied: tzdata>=2022.1 in /usr/local/lib/python3.10/dist-packages (from dlt[duckdb]) (2024.1)\n",
            "Requirement already satisfied: duckdb<0.11,>=0.6.1 in /usr/local/lib/python3.10/dist-packages (from dlt[duckdb]) (0.10.3)\n",
            "Requirement already satisfied: wheel<1.0,>=0.23.0 in /usr/local/lib/python3.10/dist-packages (from astunparse>=1.6.3->dlt[duckdb]) (0.44.0)\n",
            "Requirement already satisfied: six<2.0,>=1.6.1 in /usr/local/lib/python3.10/dist-packages (from astunparse>=1.6.3->dlt[duckdb]) (1.16.0)\n",
            "Collecting gitdb<5,>=4.0.1 (from gitpython>=3.1.29->dlt[duckdb])\n",
            "  Downloading gitdb-4.0.11-py3-none-any.whl.metadata (1.2 kB)\n",
            "Collecting ply (from jsonpath-ng>=1.5.3->dlt[duckdb])\n",
            "  Downloading ply-3.11-py2.py3-none-any.whl.metadata (844 bytes)\n",
            "Requirement already satisfied: python-dateutil>=2.6 in /usr/local/lib/python3.10/dist-packages (from pendulum>=2.1.2->dlt[duckdb]) (2.8.2)\n",
            "Collecting time-machine>=2.6.0 (from pendulum>=2.1.2->dlt[duckdb])\n",
            "  Downloading time_machine-2.15.0-cp310-cp310-manylinux_2_5_x86_64.manylinux1_x86_64.manylinux_2_17_x86_64.manylinux2014_x86_64.whl.metadata (21 kB)\n",
            "Requirement already satisfied: charset-normalizer<4,>=2 in /usr/local/lib/python3.10/dist-packages (from requests>=2.26.0->dlt[duckdb]) (3.3.2)\n",
            "Requirement already satisfied: idna<4,>=2.5 in /usr/local/lib/python3.10/dist-packages (from requests>=2.26.0->dlt[duckdb]) (3.8)\n",
            "Requirement already satisfied: urllib3<3,>=1.21.1 in /usr/local/lib/python3.10/dist-packages (from requests>=2.26.0->dlt[duckdb]) (2.0.7)\n",
            "Requirement already satisfied: certifi>=2017.4.17 in /usr/local/lib/python3.10/dist-packages (from requests>=2.26.0->dlt[duckdb]) (2024.7.4)\n",
            "Requirement already satisfied: types-setuptools>=69.1.0 in /usr/local/lib/python3.10/dist-packages (from requirements-parser>=0.5.0->dlt[duckdb]) (73.0.0.20240822)\n",
            "Collecting smmap<6,>=3.0.1 (from gitdb<5,>=4.0.1->gitpython>=3.1.29->dlt[duckdb])\n",
            "  Downloading smmap-5.0.1-py3-none-any.whl.metadata (4.3 kB)\n",
            "Downloading GitPython-3.1.43-py3-none-any.whl (207 kB)\n",
            "\u001b[2K   \u001b[90m━━━━━━━━━━━━━━━━━━━━━━━━━━━━━━━━━━━━━━━━\u001b[0m \u001b[32m207.3/207.3 kB\u001b[0m \u001b[31m12.5 MB/s\u001b[0m eta \u001b[36m0:00:00\u001b[0m\n",
            "\u001b[?25hDownloading giturlparse-0.12.0-py2.py3-none-any.whl (15 kB)\n",
            "Downloading hexbytes-1.2.1-py3-none-any.whl (5.2 kB)\n",
            "Downloading jsonpath_ng-1.6.1-py3-none-any.whl (29 kB)\n",
            "Downloading makefun-1.15.4-py2.py3-none-any.whl (23 kB)\n",
            "Downloading orjson-3.10.7-cp310-cp310-manylinux_2_17_x86_64.manylinux2014_x86_64.whl (141 kB)\n",
            "\u001b[2K   \u001b[90m━━━━━━━━━━━━━━━━━━━━━━━━━━━━━━━━━━━━━━━━\u001b[0m \u001b[32m141.9/141.9 kB\u001b[0m \u001b[31m9.6 MB/s\u001b[0m eta \u001b[36m0:00:00\u001b[0m\n",
            "\u001b[?25hDownloading pathvalidate-3.2.1-py3-none-any.whl (23 kB)\n",
            "Downloading pendulum-3.0.0-cp310-cp310-manylinux_2_17_x86_64.manylinux2014_x86_64.whl (384 kB)\n",
            "\u001b[2K   \u001b[90m━━━━━━━━━━━━━━━━━━━━━━━━━━━━━━━━━━━━━━━━\u001b[0m \u001b[32m384.9/384.9 kB\u001b[0m \u001b[31m20.7 MB/s\u001b[0m eta \u001b[36m0:00:00\u001b[0m\n",
            "\u001b[?25hDownloading semver-3.0.2-py3-none-any.whl (17 kB)\n",
            "Downloading simplejson-3.19.3-cp310-cp310-manylinux_2_5_x86_64.manylinux1_x86_64.manylinux_2_17_x86_64.manylinux2014_x86_64.whl (137 kB)\n",
            "\u001b[2K   \u001b[90m━━━━━━━━━━━━━━━━━━━━━━━━━━━━━━━━━━━━━━━━\u001b[0m \u001b[32m137.9/137.9 kB\u001b[0m \u001b[31m7.9 MB/s\u001b[0m eta \u001b[36m0:00:00\u001b[0m\n",
            "\u001b[?25hDownloading dlt-0.5.4-py3-none-any.whl (728 kB)\n",
            "\u001b[2K   \u001b[90m━━━━━━━━━━━━━━━━━━━━━━━━━━━━━━━━━━━━━━━━\u001b[0m \u001b[32m728.9/728.9 kB\u001b[0m \u001b[31m33.2 MB/s\u001b[0m eta \u001b[36m0:00:00\u001b[0m\n",
            "\u001b[?25hDownloading gitdb-4.0.11-py3-none-any.whl (62 kB)\n",
            "\u001b[2K   \u001b[90m━━━━━━━━━━━━━━━━━━━━━━━━━━━━━━━━━━━━━━━━\u001b[0m \u001b[32m62.7/62.7 kB\u001b[0m \u001b[31m3.7 MB/s\u001b[0m eta \u001b[36m0:00:00\u001b[0m\n",
            "\u001b[?25hDownloading time_machine-2.15.0-cp310-cp310-manylinux_2_5_x86_64.manylinux1_x86_64.manylinux_2_17_x86_64.manylinux2014_x86_64.whl (34 kB)\n",
            "Downloading ply-3.11-py2.py3-none-any.whl (49 kB)\n",
            "\u001b[2K   \u001b[90m━━━━━━━━━━━━━━━━━━━━━━━━━━━━━━━━━━━━━━━━\u001b[0m \u001b[32m49.6/49.6 kB\u001b[0m \u001b[31m2.0 MB/s\u001b[0m eta \u001b[36m0:00:00\u001b[0m\n",
            "\u001b[?25hDownloading smmap-5.0.1-py3-none-any.whl (24 kB)\n",
            "Installing collected packages: ply, makefun, smmap, simplejson, semver, pathvalidate, orjson, jsonpath-ng, hexbytes, giturlparse, time-machine, gitdb, pendulum, gitpython, dlt\n",
            "Successfully installed dlt-0.5.4 gitdb-4.0.11 gitpython-3.1.43 giturlparse-0.12.0 hexbytes-1.2.1 jsonpath-ng-1.6.1 makefun-1.15.4 orjson-3.10.7 pathvalidate-3.2.1 pendulum-3.0.0 ply-3.11 semver-3.0.2 simplejson-3.19.3 smmap-5.0.1 time-machine-2.15.0\n"
          ]
        }
      ],
      "source": [
        "!pip install dlt[duckdb]"
      ]
    },
    {
      "cell_type": "markdown",
      "source": [
        "# Assessing your needs\n",
        "![image.png](data:image/png;base64,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)"
      ],
      "metadata": {
        "id": "nfEAlZF2Gjjb"
      }
    },
    {
      "cell_type": "markdown",
      "source": [
        "## What is stateful data? 👀\n",
        "\n",
        " Refers to data that has a state which can change over time.\n",
        "\n",
        " **Examples:**\n",
        "\n",
        "- Stateful data:\n",
        "  - A user property on a website -> user can change their profile picture.\n",
        "- Stateless data:\n",
        "  - Page views on a website -> can only be recorded once and not changed."
      ],
      "metadata": {
        "id": "XwRQf0eTHBJO"
      }
    },
    {
      "cell_type": "markdown",
      "source": [
        "# Recap\n",
        "\n",
        "We've covered:\n",
        "\n",
        "- Append with `dlt`\n",
        "- Replace with `dlt`\n",
        "- Merge (delete-insert) with `dlt`"
      ],
      "metadata": {
        "id": "TQrNTpAKS8OD"
      }
    },
    {
      "cell_type": "markdown",
      "source": [
        "## Delete-Insert Strategy Definition\n",
        "\n",
        "The `delete-insert` strategy loads data to a `staging` dataset, deduplicates the `staging` data if a `primary_key` is provided, **deletes** the data from the destination using `merge_key` and `primary_key`, and then **inserts** the new records.\n",
        "\n",
        "All of this happens in a single atomic transaction for a parent and all child tables."
      ],
      "metadata": {
        "id": "ivKTrgSWUB2m"
      }
    },
    {
      "cell_type": "markdown",
      "source": [
        "# Merging Strategies in this Notebook\n",
        "\n",
        "- Upsert\n",
        "- SCD2"
      ],
      "metadata": {
        "id": "A3pGVrU3TxW7"
      }
    },
    {
      "cell_type": "markdown",
      "source": [
        "# Upsert Strategy"
      ],
      "metadata": {
        "id": "KdIjaz5qf6nM"
      }
    },
    {
      "cell_type": "markdown",
      "source": [
        "The upsert merge strategy does `primary_key` based upserts:\n",
        "\n",
        "- update record if key exists in target table\n",
        "- insert record if key does not exist in target table\n",
        "\n",
        "You can delete records with the `hard_delete` hint."
      ],
      "metadata": {
        "id": "W2QMpr8bf-Tr"
      }
    },
    {
      "cell_type": "markdown",
      "source": [
        "```\n",
        "@dlt.resource(\n",
        "    write_disposition={\"disposition\": \"merge\", \"strategy\": \"upsert\"},\n",
        "    primary_key=\"my_primary_key\"\n",
        ")\n",
        "def my_upsert_resource():\n",
        "    ...\n",
        "...\n",
        "```"
      ],
      "metadata": {
        "id": "FyBgaWYRgR6C"
      }
    },
    {
      "cell_type": "markdown",
      "source": [
        "## Difference between upsert and delete-insert\n",
        "\n",
        "1. needs a `primary_key`\n",
        "2. expects this `primary_key` to be unique (`dlt` does not deduplicate)\n",
        "3. does not support `merge_key`\n",
        "4. uses MERGE or UPDATE operations to process updates"
      ],
      "metadata": {
        "id": "kVz3HOnlgb2v"
      }
    },
    {
      "cell_type": "markdown",
      "source": [
        "***Is not supported in duckdb destionation.** List of supported destinations can be found in [docs](https://dlthub.com/docs/general-usage/incremental-loading#upsert-strategy)."
      ],
      "metadata": {
        "id": "GYxCGgJ9hEX_"
      }
    },
    {
      "cell_type": "markdown",
      "source": [
        "# SCD2 - Definition & Demo"
      ],
      "metadata": {
        "id": "YouupBq3hRkX"
      }
    },
    {
      "cell_type": "markdown",
      "source": [
        "## Definition"
      ],
      "metadata": {
        "id": "-mgUDjRIhhRd"
      }
    },
    {
      "cell_type": "markdown",
      "source": [
        "dlt can create Slowly Changing Dimension Type 2 (SCD2) destination tables for dimension tables that change in the source.\n",
        "\n",
        "The resource is expected to provide a full extract of the source table each run.\n",
        "\n",
        "A row hash is stored in `_dlt_id` and used as surrogate key to identify source records that have been inserted, updated, or deleted."
      ],
      "metadata": {
        "id": "OaPYLTIF4iOk"
      }
    },
    {
      "cell_type": "markdown",
      "source": [
        "## Demo"
      ],
      "metadata": {
        "id": "ri_GoBHfvYqn"
      }
    },
    {
      "cell_type": "code",
      "source": [
        "import dlt\n",
        "import pandas as pd\n",
        "import duckdb"
      ],
      "metadata": {
        "id": "8ufng9szvaXw"
      },
      "execution_count": 2,
      "outputs": []
    },
    {
      "cell_type": "code",
      "source": [
        "# changing old Harry Potter example\n",
        "\n",
        "@dlt.resource(write_disposition={\"disposition\": \"merge\",\n",
        "                                 \"strategy\": \"scd2\"}\n",
        "              )\n",
        "def students(entries):\n",
        "    for entry in entries:\n",
        "        yield {\n",
        "            \"name\": [entry[0]],\n",
        "            \"designation\": [\"student\"],\n",
        "            \"date_started\": [entry[1]]\n",
        "        }"
      ],
      "metadata": {
        "id": "J6bFDzU132Ke"
      },
      "execution_count": 3,
      "outputs": []
    },
    {
      "cell_type": "code",
      "source": [
        "# the rest of the code is the same:\n",
        "\n",
        "# declare the pipeline\n",
        "pipeline = dlt.pipeline(pipeline_name='hogwarts_pipeline',\n",
        "                        destination='duckdb',\n",
        "                        dataset_name='hogwarts')\n",
        "\n",
        "# first Harry joins:\n",
        "pipeline.run(students([(\"Harry Potter\", \"1991-09-01T09:00:00Z\")]), table_name=\"creatures\")"
      ],
      "metadata": {
        "colab": {
          "base_uri": "https://localhost:8080/"
        },
        "id": "X2iKmirx37Lh",
        "outputId": "71e374ee-8733-4e3c-8274-d29ea5d85244"
      },
      "execution_count": 4,
      "outputs": [
        {
          "output_type": "execute_result",
          "data": {
            "text/plain": [
              "LoadInfo(pipeline=<dlt.pipeline.pipeline.Pipeline object at 0x7e9af0f25870>, metrics={'1725323711.9809723': [{'started_at': DateTime(2024, 9, 3, 0, 35, 12, 451226, tzinfo=Timezone('UTC')), 'finished_at': DateTime(2024, 9, 3, 0, 35, 14, 772904, tzinfo=Timezone('UTC')), 'job_metrics': {'_dlt_pipeline_state.5786b37133.insert_values': LoadJobMetrics(job_id='_dlt_pipeline_state.5786b37133.insert_values', file_path='/var/dlt/pipelines/hogwarts_pipeline/load/normalized/1725323711.9809723/started_jobs/_dlt_pipeline_state.5786b37133.0.insert_values', table_name='_dlt_pipeline_state', started_at=DateTime(2024, 9, 3, 0, 35, 12, 697245, tzinfo=Timezone('UTC')), finished_at=DateTime(2024, 9, 3, 0, 35, 12, 712502, tzinfo=Timezone('UTC')), state='completed', remote_url=None), 'creatures__designation.deac4fff55.insert_values': LoadJobMetrics(job_id='creatures__designation.deac4fff55.insert_values', file_path='/var/dlt/pipelines/hogwarts_pipeline/load/normalized/1725323711.9809723/started_jobs/creatures__designation.deac4fff55.0.insert_values', table_name='creatures__designation', started_at=DateTime(2024, 9, 3, 0, 35, 12, 695432, tzinfo=Timezone('UTC')), finished_at=DateTime(2024, 9, 3, 0, 35, 12, 706573, tzinfo=Timezone('UTC')), state='completed', remote_url=None), 'creatures__name.79eb5a198e.insert_values': LoadJobMetrics(job_id='creatures__name.79eb5a198e.insert_values', file_path='/var/dlt/pipelines/hogwarts_pipeline/load/normalized/1725323711.9809723/started_jobs/creatures__name.79eb5a198e.0.insert_values', table_name='creatures__name', started_at=DateTime(2024, 9, 3, 0, 35, 12, 710693, tzinfo=Timezone('UTC')), finished_at=DateTime(2024, 9, 3, 0, 35, 12, 724918, tzinfo=Timezone('UTC')), state='completed', remote_url=None), 'creatures.9a38372447.insert_values': LoadJobMetrics(job_id='creatures.9a38372447.insert_values', file_path='/var/dlt/pipelines/hogwarts_pipeline/load/normalized/1725323711.9809723/started_jobs/creatures.9a38372447.0.insert_values', table_name='creatures', started_at=DateTime(2024, 9, 3, 0, 35, 12, 708828, tzinfo=Timezone('UTC')), finished_at=DateTime(2024, 9, 3, 0, 35, 12, 731327, tzinfo=Timezone('UTC')), state='completed', remote_url=None), 'creatures__date_started.b149c3821d.insert_values': LoadJobMetrics(job_id='creatures__date_started.b149c3821d.insert_values', file_path='/var/dlt/pipelines/hogwarts_pipeline/load/normalized/1725323711.9809723/started_jobs/creatures__date_started.b149c3821d.0.insert_values', table_name='creatures__date_started', started_at=DateTime(2024, 9, 3, 0, 35, 12, 709439, tzinfo=Timezone('UTC')), finished_at=DateTime(2024, 9, 3, 0, 35, 12, 718442, tzinfo=Timezone('UTC')), state='completed', remote_url=None), 'creatures.bf9f8c5346.sql': LoadJobMetrics(job_id='creatures.bf9f8c5346.sql', file_path='/var/dlt/pipelines/hogwarts_pipeline/load/normalized/1725323711.9809723/started_jobs/creatures.bf9f8c5346.0.sql', table_name='creatures', started_at=DateTime(2024, 9, 3, 0, 35, 13, 725550, tzinfo=Timezone('UTC')), finished_at=DateTime(2024, 9, 3, 0, 35, 13, 758156, tzinfo=Timezone('UTC')), state='completed', remote_url=None)}}]}, destination_type='dlt.destinations.duckdb', destination_displayable_credentials='duckdb:////content/hogwarts_pipeline.duckdb', destination_name='duckdb', environment=None, staging_type=None, staging_name=None, staging_displayable_credentials=None, destination_fingerprint='', dataset_name='hogwarts', loads_ids=['1725323711.9809723'], load_packages=[LoadPackageInfo(load_id='1725323711.9809723', package_path='/var/dlt/pipelines/hogwarts_pipeline/load/loaded/1725323711.9809723', state='loaded', schema=Schema hogwarts at 139203931684144, schema_update={'_dlt_pipeline_state': {'columns': {'version': {'name': 'version', 'data_type': 'bigint', 'nullable': False}, 'engine_version': {'name': 'engine_version', 'data_type': 'bigint', 'nullable': False}, 'pipeline_name': {'name': 'pipeline_name', 'data_type': 'text', 'nullable': False}, 'state': {'name': 'state', 'data_type': 'text', 'nullable': False}, 'created_at': {'name': 'created_at', 'data_type': 'timestamp', 'nullable': False}, 'version_hash': {'name': 'version_hash', 'data_type': 'text', 'nullable': True}, '_dlt_load_id': {'name': '_dlt_load_id', 'data_type': 'text', 'nullable': False}, '_dlt_id': {'name': '_dlt_id', 'data_type': 'text', 'nullable': False, 'unique': True}}, 'write_disposition': 'append', 'file_format': 'preferred', 'name': '_dlt_pipeline_state', 'resource': '_dlt_pipeline_state', 'x-normalizer': {'seen-data': True}, 'x-merge-strategy': None, 'table_format': None}, 'creatures__date_started': {'name': 'creatures__date_started', 'columns': {'value': {'name': 'value', 'data_type': 'timestamp', 'nullable': True}, '_dlt_id': {'name': '_dlt_id', 'data_type': 'text', 'nullable': False, 'unique': True}, '_dlt_parent_id': {'name': '_dlt_parent_id', 'data_type': 'text', 'nullable': False, 'foreign_key': True}, '_dlt_list_idx': {'name': '_dlt_list_idx', 'data_type': 'bigint', 'nullable': False}, '_dlt_root_id': {'name': '_dlt_root_id', 'data_type': 'text', 'nullable': False, 'root_key': True}}, 'parent': 'creatures', 'x-normalizer': {'seen-data': True}, 'write_disposition': 'merge', 'x-merge-strategy': 'scd2', 'table_format': None, 'file_format': None}, '_dlt_loads': {'name': '_dlt_loads', 'columns': {'load_id': {'name': 'load_id', 'data_type': 'text', 'nullable': False}, 'schema_name': {'name': 'schema_name', 'data_type': 'text', 'nullable': True}, 'status': {'name': 'status', 'data_type': 'bigint', 'nullable': False}, 'inserted_at': {'name': 'inserted_at', 'data_type': 'timestamp', 'nullable': False}, 'schema_version_hash': {'name': 'schema_version_hash', 'data_type': 'text', 'nullable': True}}, 'write_disposition': 'skip', 'resource': '_dlt_loads', 'description': 'Created by DLT. Tracks completed loads', 'x-merge-strategy': None, 'table_format': None, 'file_format': None}, 'creatures__designation': {'name': 'creatures__designation', 'columns': {'value': {'name': 'value', 'data_type': 'text', 'nullable': True}, '_dlt_id': {'name': '_dlt_id', 'data_type': 'text', 'nullable': False, 'unique': True}, '_dlt_parent_id': {'name': '_dlt_parent_id', 'data_type': 'text', 'nullable': False, 'foreign_key': True}, '_dlt_list_idx': {'name': '_dlt_list_idx', 'data_type': 'bigint', 'nullable': False}, '_dlt_root_id': {'name': '_dlt_root_id', 'data_type': 'text', 'nullable': False, 'root_key': True}}, 'parent': 'creatures', 'x-normalizer': {'seen-data': True}, 'write_disposition': 'merge', 'x-merge-strategy': 'scd2', 'table_format': None, 'file_format': None}, '_dlt_version': {'name': '_dlt_version', 'columns': {'version': {'name': 'version', 'data_type': 'bigint', 'nullable': False}, 'engine_version': {'name': 'engine_version', 'data_type': 'bigint', 'nullable': False}, 'inserted_at': {'name': 'inserted_at', 'data_type': 'timestamp', 'nullable': False}, 'schema_name': {'name': 'schema_name', 'data_type': 'text', 'nullable': False}, 'version_hash': {'name': 'version_hash', 'data_type': 'text', 'nullable': False}, 'schema': {'name': 'schema', 'data_type': 'text', 'nullable': False}}, 'write_disposition': 'skip', 'resource': '_dlt_version', 'description': 'Created by DLT. Tracks schema updates', 'x-merge-strategy': None, 'table_format': None, 'file_format': None}, 'creatures': {'columns': {'_dlt_valid_from': {'name': '_dlt_valid_from', 'data_type': 'timestamp', 'nullable': True, 'x-valid-from': True}, '_dlt_valid_to': {'name': '_dlt_valid_to', 'data_type': 'timestamp', 'nullable': True, 'x-valid-to': True, 'x-active-record-timestamp': None}, '_dlt_load_id': {'name': '_dlt_load_id', 'data_type': 'text', 'nullable': False}, '_dlt_id': {'name': '_dlt_id', 'nullable': False, 'x-row-version': True, 'unique': False, 'data_type': 'text'}}, 'write_disposition': 'merge', 'name': 'creatures', 'resource': 'students', 'x-merge-strategy': 'scd2', 'x-normalizer': {'seen-data': True}, 'table_format': None, 'file_format': None}, 'creatures__name': {'name': 'creatures__name', 'columns': {'value': {'name': 'value', 'data_type': 'text', 'nullable': True}, '_dlt_id': {'name': '_dlt_id', 'data_type': 'text', 'nullable': False, 'unique': True}, '_dlt_parent_id': {'name': '_dlt_parent_id', 'data_type': 'text', 'nullable': False, 'foreign_key': True}, '_dlt_list_idx': {'name': '_dlt_list_idx', 'data_type': 'bigint', 'nullable': False}, '_dlt_root_id': {'name': '_dlt_root_id', 'data_type': 'text', 'nullable': False, 'root_key': True}}, 'parent': 'creatures', 'x-normalizer': {'seen-data': True}, 'write_disposition': 'merge', 'x-merge-strategy': 'scd2', 'table_format': None, 'file_format': None}}, completed_at=DateTime(2024, 9, 3, 0, 35, 14, 758092, tzinfo=Timezone('UTC')), jobs={'failed_jobs': [], 'new_jobs': [], 'completed_jobs': [LoadJobInfo(state='completed_jobs', file_path='/var/dlt/pipelines/hogwarts_pipeline/load/loaded/1725323711.9809723/completed_jobs/_dlt_pipeline_state.5786b37133.0.insert_values', file_size=500, created_at=DateTime(2024, 9, 3, 0, 35, 12, 103096, tzinfo=Timezone('UTC')), elapsed=2.6549956798553467, job_file_info=ParsedLoadJobFileName(table_name='_dlt_pipeline_state', file_id='5786b37133', retry_count=0, file_format='insert_values'), failed_message=None), LoadJobInfo(state='completed_jobs', file_path='/var/dlt/pipelines/hogwarts_pipeline/load/loaded/1725323711.9809723/completed_jobs/creatures__designation.deac4fff55.0.insert_values', file_size=187, created_at=DateTime(2024, 9, 3, 0, 35, 12, 103096, tzinfo=Timezone('UTC')), elapsed=2.6549956798553467, job_file_info=ParsedLoadJobFileName(table_name='creatures__designation', file_id='deac4fff55', retry_count=0, file_format='insert_values'), failed_message=None), LoadJobInfo(state='completed_jobs', file_path='/var/dlt/pipelines/hogwarts_pipeline/load/loaded/1725323711.9809723/completed_jobs/creatures__name.79eb5a198e.0.insert_values', file_size=186, created_at=DateTime(2024, 9, 3, 0, 35, 12, 103096, tzinfo=Timezone('UTC')), elapsed=2.6549956798553467, job_file_info=ParsedLoadJobFileName(table_name='creatures__name', file_id='79eb5a198e', retry_count=0, file_format='insert_values'), failed_message=None), LoadJobInfo(state='completed_jobs', file_path='/var/dlt/pipelines/hogwarts_pipeline/load/loaded/1725323711.9809723/completed_jobs/creatures.9a38372447.0.insert_values', file_size=169, created_at=DateTime(2024, 9, 3, 0, 35, 12, 103096, tzinfo=Timezone('UTC')), elapsed=2.6549956798553467, job_file_info=ParsedLoadJobFileName(table_name='creatures', file_id='9a38372447', retry_count=0, file_format='insert_values'), failed_message=None), LoadJobInfo(state='completed_jobs', file_path='/var/dlt/pipelines/hogwarts_pipeline/load/loaded/1725323711.9809723/completed_jobs/creatures.bf9f8c5346.0.sql', file_size=1499, created_at=DateTime(2024, 9, 3, 0, 35, 13, 715094, tzinfo=Timezone('UTC')), elapsed=1.0429980754852295, job_file_info=ParsedLoadJobFileName(table_name='creatures', file_id='bf9f8c5346', retry_count=0, file_format='sql'), failed_message=None), LoadJobInfo(state='completed_jobs', file_path='/var/dlt/pipelines/hogwarts_pipeline/load/loaded/1725323711.9809723/completed_jobs/creatures__date_started.b149c3821d.0.insert_values', file_size=201, created_at=DateTime(2024, 9, 3, 0, 35, 12, 103096, tzinfo=Timezone('UTC')), elapsed=2.6549956798553467, job_file_info=ParsedLoadJobFileName(table_name='creatures__date_started', file_id='b149c3821d', retry_count=0, file_format='insert_values'), failed_message=None)], 'started_jobs': []})], first_run=True)"
            ]
          },
          "metadata": {},
          "execution_count": 4
        }
      ]
    },
    {
      "cell_type": "markdown",
      "source": [
        "### Observing the data"
      ],
      "metadata": {
        "id": "h4bogFXuBXyz"
      }
    },
    {
      "cell_type": "code",
      "source": [
        "conn = duckdb.connect(f'{pipeline.pipeline_name}.duckdb')\n",
        "\n",
        "# helper function\n",
        "def show_tables(tables, CONN=conn):\n",
        "  for table in tables:\n",
        "    print(CONN.sql(f'select * from {table}'))"
      ],
      "metadata": {
        "id": "2BBTlckHDQiP"
      },
      "execution_count": 5,
      "outputs": []
    },
    {
      "cell_type": "code",
      "source": [
        "conn.sql('SHOW ALL TABLES')"
      ],
      "metadata": {
        "colab": {
          "base_uri": "https://localhost:8080/"
        },
        "id": "WY5XOWL86fLZ",
        "outputId": "e4003ba1-1303-4295-8937-431be181306f"
      },
      "execution_count": 6,
      "outputs": [
        {
          "output_type": "execute_result",
          "data": {
            "text/plain": [
              "┌───────────────────┬──────────────────┬──────────────────────┬───┬──────────────────────┬───────────┐\n",
              "│     database      │      schema      │         name         │ … │     column_types     │ temporary │\n",
              "│      varchar      │     varchar      │       varchar        │   │      varchar[]       │  boolean  │\n",
              "├───────────────────┼──────────────────┼──────────────────────┼───┼──────────────────────┼───────────┤\n",
              "│ hogwarts_pipeline │ hogwarts         │ _dlt_loads           │ … │ [VARCHAR, VARCHAR,…  │ false     │\n",
              "│ hogwarts_pipeline │ hogwarts         │ _dlt_pipeline_state  │ … │ [BIGINT, BIGINT, V…  │ false     │\n",
              "│ hogwarts_pipeline │ hogwarts         │ _dlt_version         │ … │ [BIGINT, BIGINT, T…  │ false     │\n",
              "│ hogwarts_pipeline │ hogwarts         │ creatures            │ … │ [TIMESTAMP WITH TI…  │ false     │\n",
              "│ hogwarts_pipeline │ hogwarts         │ creatures__date_st…  │ … │ [TIMESTAMP WITH TI…  │ false     │\n",
              "│ hogwarts_pipeline │ hogwarts         │ creatures__designa…  │ … │ [VARCHAR, VARCHAR,…  │ false     │\n",
              "│ hogwarts_pipeline │ hogwarts         │ creatures__name      │ … │ [VARCHAR, VARCHAR,…  │ false     │\n",
              "│ hogwarts_pipeline │ hogwarts_staging │ _dlt_version         │ … │ [BIGINT, BIGINT, T…  │ false     │\n",
              "│ hogwarts_pipeline │ hogwarts_staging │ creatures            │ … │ [TIMESTAMP WITH TI…  │ false     │\n",
              "│ hogwarts_pipeline │ hogwarts_staging │ creatures__date_st…  │ … │ [TIMESTAMP WITH TI…  │ false     │\n",
              "│ hogwarts_pipeline │ hogwarts_staging │ creatures__designa…  │ … │ [VARCHAR, VARCHAR,…  │ false     │\n",
              "│ hogwarts_pipeline │ hogwarts_staging │ creatures__name      │ … │ [VARCHAR, VARCHAR,…  │ false     │\n",
              "├───────────────────┴──────────────────┴──────────────────────┴───┴──────────────────────┴───────────┤\n",
              "│ 12 rows                                                                        6 columns (5 shown) │\n",
              "└────────────────────────────────────────────────────────────────────────────────────────────────────┘"
            ]
          },
          "metadata": {},
          "execution_count": 6
        }
      ]
    },
    {
      "cell_type": "markdown",
      "source": [
        "It is normalized for every column and each generated table has a `staging` table. Let's see what the difference is so far."
      ],
      "metadata": {
        "id": "_6AyqGhtBmB0"
      }
    },
    {
      "cell_type": "code",
      "source": [
        "# look at tables\n",
        "show_tables(['hogwarts.creatures',\n",
        "             'hogwarts.creatures__name'])"
      ],
      "metadata": {
        "colab": {
          "base_uri": "https://localhost:8080/"
        },
        "id": "FHoQTG8GBlV2",
        "outputId": "a57ab4da-3b7e-4904-c957-0f644f0fa7c8"
      },
      "execution_count": 7,
      "outputs": [
        {
          "output_type": "stream",
          "name": "stdout",
          "text": [
            "┌───────────────────────────────┬──────────────────────────┬────────────────────┬────────────────┐\n",
            "│        _dlt_valid_from        │      _dlt_valid_to       │    _dlt_load_id    │    _dlt_id     │\n",
            "│   timestamp with time zone    │ timestamp with time zone │      varchar       │    varchar     │\n",
            "├───────────────────────────────┼──────────────────────────┼────────────────────┼────────────────┤\n",
            "│ 2024-09-03 00:35:11.980972+00 │ NULL                     │ 1725323711.9809723 │ WIBEbK9iXxP0Qg │\n",
            "└───────────────────────────────┴──────────────────────────┴────────────────────┴────────────────┘\n",
            "\n",
            "┌──────────────┬────────────────┬────────────────┬───────────────┬────────────────┐\n",
            "│    value     │    _dlt_id     │ _dlt_parent_id │ _dlt_list_idx │  _dlt_root_id  │\n",
            "│   varchar    │    varchar     │    varchar     │     int64     │    varchar     │\n",
            "├──────────────┼────────────────┼────────────────┼───────────────┼────────────────┤\n",
            "│ Harry Potter │ F5hpFJoP/kpITQ │ WIBEbK9iXxP0Qg │             0 │ WIBEbK9iXxP0Qg │\n",
            "└──────────────┴────────────────┴────────────────┴───────────────┴────────────────┘\n",
            "\n"
          ]
        }
      ]
    },
    {
      "cell_type": "code",
      "source": [
        "# look at staging tables\n",
        "show_tables(['hogwarts_staging.creatures',\n",
        "             'hogwarts_staging.creatures__name'])"
      ],
      "metadata": {
        "colab": {
          "base_uri": "https://localhost:8080/"
        },
        "id": "Dudjmfz6DCa5",
        "outputId": "dd4d314f-0f55-4cb8-f91d-10738f67bea8"
      },
      "execution_count": 8,
      "outputs": [
        {
          "output_type": "stream",
          "name": "stdout",
          "text": [
            "┌──────────────────────────┬──────────────────────────┬────────────────────┬────────────────┐\n",
            "│     _dlt_valid_from      │      _dlt_valid_to       │    _dlt_load_id    │    _dlt_id     │\n",
            "│ timestamp with time zone │ timestamp with time zone │      varchar       │    varchar     │\n",
            "├──────────────────────────┼──────────────────────────┼────────────────────┼────────────────┤\n",
            "│ NULL                     │ NULL                     │ 1725323711.9809723 │ WIBEbK9iXxP0Qg │\n",
            "└──────────────────────────┴──────────────────────────┴────────────────────┴────────────────┘\n",
            "\n",
            "┌──────────────┬────────────────┬────────────────┬───────────────┬────────────────┐\n",
            "│    value     │    _dlt_id     │ _dlt_parent_id │ _dlt_list_idx │  _dlt_root_id  │\n",
            "│   varchar    │    varchar     │    varchar     │     int64     │    varchar     │\n",
            "├──────────────┼────────────────┼────────────────┼───────────────┼────────────────┤\n",
            "│ Harry Potter │ F5hpFJoP/kpITQ │ WIBEbK9iXxP0Qg │             0 │ WIBEbK9iXxP0Qg │\n",
            "└──────────────┴────────────────┴────────────────┴───────────────┴────────────────┘\n",
            "\n"
          ]
        }
      ]
    },
    {
      "cell_type": "markdown",
      "source": [
        "### Adding the rest of the students"
      ],
      "metadata": {
        "id": "kQeXUTm9DKQw"
      }
    },
    {
      "cell_type": "code",
      "source": [
        "# then, we append Ron and Hermione:\n",
        "pipeline.run(students([(\"Ronald Weasley\", \"1991-09-01T09:00:00Z\"),\n",
        "                         (\"Hermione Granger\", \"1991-09-01T09:00:00Z\")]), table_name=\"creatures\")\n",
        "\n",
        "# then perhaps Ginny:\n",
        "info = pipeline.run(students([(\"Ginny Weasley\", \"1991-09-01T09:00:00Z\")]), table_name=\"creatures\")"
      ],
      "metadata": {
        "id": "ehxkkDf7DJ4y"
      },
      "execution_count": 9,
      "outputs": []
    },
    {
      "cell_type": "markdown",
      "source": [
        "Look at data again"
      ],
      "metadata": {
        "id": "EsIlXwOeEnOg"
      }
    },
    {
      "cell_type": "code",
      "source": [
        "# look at tables\n",
        "show_tables(['hogwarts.creatures',\n",
        "             'hogwarts.creatures__name'])"
      ],
      "metadata": {
        "colab": {
          "base_uri": "https://localhost:8080/"
        },
        "id": "kqmRH6nSEpaH",
        "outputId": "f54cb635-a29d-45ef-a5a8-3011b3a051c3"
      },
      "execution_count": 10,
      "outputs": [
        {
          "output_type": "stream",
          "name": "stdout",
          "text": [
            "┌───────────────────────────────┬───────────────────────────────┬────────────────────┬────────────────┐\n",
            "│        _dlt_valid_from        │         _dlt_valid_to         │    _dlt_load_id    │    _dlt_id     │\n",
            "│   timestamp with time zone    │   timestamp with time zone    │      varchar       │    varchar     │\n",
            "├───────────────────────────────┼───────────────────────────────┼────────────────────┼────────────────┤\n",
            "│ 2024-09-03 00:35:11.980972+00 │ 2024-09-03 00:41:55.578054+00 │ 1725323711.9809723 │ WIBEbK9iXxP0Qg │\n",
            "│ 2024-09-03 00:41:55.578054+00 │ 2024-09-03 00:41:58.155724+00 │ 1725324115.5780544 │ 5zXTVl1jHoej1g │\n",
            "│ 2024-09-03 00:41:55.578054+00 │ 2024-09-03 00:41:58.155724+00 │ 1725324115.5780544 │ AroiUDKM+62DXA │\n",
            "│ 2024-09-03 00:41:58.155724+00 │ NULL                          │ 1725324118.155724  │ UZ4kcLhVEsckpQ │\n",
            "└───────────────────────────────┴───────────────────────────────┴────────────────────┴────────────────┘\n",
            "\n",
            "┌──────────────────┬────────────────┬────────────────┬───────────────┬────────────────┐\n",
            "│      value       │    _dlt_id     │ _dlt_parent_id │ _dlt_list_idx │  _dlt_root_id  │\n",
            "│     varchar      │    varchar     │    varchar     │     int64     │    varchar     │\n",
            "├──────────────────┼────────────────┼────────────────┼───────────────┼────────────────┤\n",
            "│ Harry Potter     │ F5hpFJoP/kpITQ │ WIBEbK9iXxP0Qg │             0 │ WIBEbK9iXxP0Qg │\n",
            "│ Ronald Weasley   │ G4vs16qvjTGaXA │ 5zXTVl1jHoej1g │             0 │ 5zXTVl1jHoej1g │\n",
            "│ Hermione Granger │ /7rAcL5Ocq1iUw │ AroiUDKM+62DXA │             0 │ AroiUDKM+62DXA │\n",
            "│ Ginny Weasley    │ p/9HP7QI25RLmw │ UZ4kcLhVEsckpQ │             0 │ UZ4kcLhVEsckpQ │\n",
            "└──────────────────┴────────────────┴────────────────┴───────────────┴────────────────┘\n",
            "\n"
          ]
        }
      ]
    },
    {
      "cell_type": "code",
      "source": [
        "# look at staging tables\n",
        "show_tables(['hogwarts_staging.creatures',\n",
        "             'hogwarts_staging.creatures__name'])"
      ],
      "metadata": {
        "colab": {
          "base_uri": "https://localhost:8080/"
        },
        "id": "iFdH9xTGEzWv",
        "outputId": "89d99670-ca97-4265-d043-76f861ea804e"
      },
      "execution_count": 11,
      "outputs": [
        {
          "output_type": "stream",
          "name": "stdout",
          "text": [
            "┌──────────────────────────┬──────────────────────────┬───────────────────┬────────────────┐\n",
            "│     _dlt_valid_from      │      _dlt_valid_to       │   _dlt_load_id    │    _dlt_id     │\n",
            "│ timestamp with time zone │ timestamp with time zone │      varchar      │    varchar     │\n",
            "├──────────────────────────┼──────────────────────────┼───────────────────┼────────────────┤\n",
            "│ NULL                     │ NULL                     │ 1725324118.155724 │ UZ4kcLhVEsckpQ │\n",
            "└──────────────────────────┴──────────────────────────┴───────────────────┴────────────────┘\n",
            "\n",
            "┌───────────────┬────────────────┬────────────────┬───────────────┬────────────────┐\n",
            "│     value     │    _dlt_id     │ _dlt_parent_id │ _dlt_list_idx │  _dlt_root_id  │\n",
            "│    varchar    │    varchar     │    varchar     │     int64     │    varchar     │\n",
            "├───────────────┼────────────────┼────────────────┼───────────────┼────────────────┤\n",
            "│ Ginny Weasley │ p/9HP7QI25RLmw │ UZ4kcLhVEsckpQ │             0 │ UZ4kcLhVEsckpQ │\n",
            "└───────────────┴────────────────┴────────────────┴───────────────┴────────────────┘\n",
            "\n"
          ]
        }
      ]
    },
    {
      "cell_type": "markdown",
      "source": [
        "### Making the change"
      ],
      "metadata": {
        "id": "oNQ3PJYOE4KI"
      }
    },
    {
      "cell_type": "code",
      "source": [
        "# add the change to Ginny's joining year:\n",
        "\n",
        "info = pipeline.run(students([(\"Ginny Weasley\", \"1992-09-01T09:00:00Z\")]), table_name=\"creatures\")"
      ],
      "metadata": {
        "id": "xHyD1cCvE5i2"
      },
      "execution_count": 12,
      "outputs": []
    },
    {
      "cell_type": "markdown",
      "source": [
        "The impact on the data:"
      ],
      "metadata": {
        "id": "_DPUyIJQFHx7"
      }
    },
    {
      "cell_type": "code",
      "source": [
        "# look at tables\n",
        "show_tables(['hogwarts.creatures',\n",
        "             'hogwarts.creatures__name'])"
      ],
      "metadata": {
        "colab": {
          "base_uri": "https://localhost:8080/"
        },
        "id": "z2CKU6IBFHcX",
        "outputId": "5d00571b-8a1e-41b4-92e5-fdbe86662e76"
      },
      "execution_count": 13,
      "outputs": [
        {
          "output_type": "stream",
          "name": "stdout",
          "text": [
            "┌───────────────────────────────┬───────────────────────────────┬────────────────────┬────────────────┐\n",
            "│        _dlt_valid_from        │         _dlt_valid_to         │    _dlt_load_id    │    _dlt_id     │\n",
            "│   timestamp with time zone    │   timestamp with time zone    │      varchar       │    varchar     │\n",
            "├───────────────────────────────┼───────────────────────────────┼────────────────────┼────────────────┤\n",
            "│ 2024-09-03 00:35:11.980972+00 │ 2024-09-03 00:41:55.578054+00 │ 1725323711.9809723 │ WIBEbK9iXxP0Qg │\n",
            "│ 2024-09-03 00:41:55.578054+00 │ 2024-09-03 00:41:58.155724+00 │ 1725324115.5780544 │ 5zXTVl1jHoej1g │\n",
            "│ 2024-09-03 00:41:55.578054+00 │ 2024-09-03 00:41:58.155724+00 │ 1725324115.5780544 │ AroiUDKM+62DXA │\n",
            "│ 2024-09-03 00:41:58.155724+00 │ 2024-09-03 00:44:51.903556+00 │ 1725324118.155724  │ UZ4kcLhVEsckpQ │\n",
            "│ 2024-09-03 00:44:51.903556+00 │ NULL                          │ 1725324291.9035556 │ l5TTk1vJLo8qEg │\n",
            "└───────────────────────────────┴───────────────────────────────┴────────────────────┴────────────────┘\n",
            "\n",
            "┌──────────────────┬────────────────┬────────────────┬───────────────┬────────────────┐\n",
            "│      value       │    _dlt_id     │ _dlt_parent_id │ _dlt_list_idx │  _dlt_root_id  │\n",
            "│     varchar      │    varchar     │    varchar     │     int64     │    varchar     │\n",
            "├──────────────────┼────────────────┼────────────────┼───────────────┼────────────────┤\n",
            "│ Harry Potter     │ F5hpFJoP/kpITQ │ WIBEbK9iXxP0Qg │             0 │ WIBEbK9iXxP0Qg │\n",
            "│ Ronald Weasley   │ G4vs16qvjTGaXA │ 5zXTVl1jHoej1g │             0 │ 5zXTVl1jHoej1g │\n",
            "│ Hermione Granger │ /7rAcL5Ocq1iUw │ AroiUDKM+62DXA │             0 │ AroiUDKM+62DXA │\n",
            "│ Ginny Weasley    │ p/9HP7QI25RLmw │ UZ4kcLhVEsckpQ │             0 │ UZ4kcLhVEsckpQ │\n",
            "│ Ginny Weasley    │ AHTEHRxqyokxLQ │ l5TTk1vJLo8qEg │             0 │ l5TTk1vJLo8qEg │\n",
            "└──────────────────┴────────────────┴────────────────┴───────────────┴────────────────┘\n",
            "\n"
          ]
        }
      ]
    },
    {
      "cell_type": "code",
      "source": [
        "# look at staging tables\n",
        "show_tables(['hogwarts_staging.creatures',\n",
        "             'hogwarts_staging.creatures__name'])"
      ],
      "metadata": {
        "colab": {
          "base_uri": "https://localhost:8080/"
        },
        "id": "mBlYwJbWFO9m",
        "outputId": "5c536d3a-717f-4f66-e9eb-854e213d7c4f"
      },
      "execution_count": 14,
      "outputs": [
        {
          "output_type": "stream",
          "name": "stdout",
          "text": [
            "┌──────────────────────────┬──────────────────────────┬────────────────────┬────────────────┐\n",
            "│     _dlt_valid_from      │      _dlt_valid_to       │    _dlt_load_id    │    _dlt_id     │\n",
            "│ timestamp with time zone │ timestamp with time zone │      varchar       │    varchar     │\n",
            "├──────────────────────────┼──────────────────────────┼────────────────────┼────────────────┤\n",
            "│ NULL                     │ NULL                     │ 1725324291.9035556 │ l5TTk1vJLo8qEg │\n",
            "└──────────────────────────┴──────────────────────────┴────────────────────┴────────────────┘\n",
            "\n",
            "┌───────────────┬────────────────┬────────────────┬───────────────┬────────────────┐\n",
            "│     value     │    _dlt_id     │ _dlt_parent_id │ _dlt_list_idx │  _dlt_root_id  │\n",
            "│    varchar    │    varchar     │    varchar     │     int64     │    varchar     │\n",
            "├───────────────┼────────────────┼────────────────┼───────────────┼────────────────┤\n",
            "│ Ginny Weasley │ AHTEHRxqyokxLQ │ l5TTk1vJLo8qEg │             0 │ l5TTk1vJLo8qEg │\n",
            "└───────────────┴────────────────┴────────────────┴───────────────┴────────────────┘\n",
            "\n"
          ]
        }
      ]
    }
  ]
}